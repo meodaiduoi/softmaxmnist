{
  "nbformat": 4,
  "nbformat_minor": 0,
  "metadata": {
    "colab": {
      "name": "BaiTapLopAI.ipynb",
      "provenance": [],
      "collapsed_sections": []
    },
    "kernelspec": {
      "name": "python3",
      "display_name": "Python 3"
    },
    "language_info": {
      "name": "python"
    },
    "accelerator": "GPU"
  },
  "cells": [
    {
      "cell_type": "code",
      "metadata": {
        "id": "p_FARxZ2qdj7"
      },
      "source": [
        "import numpy as np\n",
        "from time import perf_counter\n",
        "import matplotlib.pyplot as plt\n",
        "from keras.datasets import mnist"
      ],
      "execution_count": null,
      "outputs": []
    },
    {
      "cell_type": "code",
      "metadata": {
        "id": "S6nU2YDkrOLL",
        "colab": {
          "base_uri": "https://localhost:8080/"
        },
        "outputId": "c86b7ac1-a1d1-4645-fcd5-7f5a201e37de"
      },
      "source": [
        "(X_train, y_train), (X_test, y_test) = mnist.load_data()\n",
        "# Reshape data.\n",
        "X_train = X_train.reshape(60000, 784)\n",
        "X_test  = X_test.reshape(10000, 784)\n",
        "X_train = X_train.astype('float32') \n",
        "X_test  = X_test.astype('float32')\n",
        "X_train /= 255 # Original data is uint8 (0-255). Scale it to range [0,1].\n",
        "X_test  /= 255\n",
        "print(\"Training X matrix shape\", X_train.shape)\n",
        "print(\"Testing X matrix shape\", X_test.shape)"
      ],
      "execution_count": null,
      "outputs": [
        {
          "output_type": "stream",
          "text": [
            "Training X matrix shape (60000, 784)\n",
            "Testing X matrix shape (10000, 784)\n"
          ],
          "name": "stdout"
        }
      ]
    },
    {
      "cell_type": "code",
      "metadata": {
        "id": "GvTUPogHsomn"
      },
      "source": [
        "\n",
        "\n",
        "class MultiClassLogisticRegression:\n",
        "    \n",
        "    def __init__(self, n_iter, lr, i_Acc):\n",
        "        self.n_iter = n_iter     #Vong lap\n",
        "        self.isBreak =  0.0001     #do chenh lenh dung\n",
        "        self.lr =  lr  #Learning rate\n",
        "        self.i_Acc = i_Acc\n",
        "\n",
        "    def fit(self, X, y, X_val, y_val): \n",
        "        self.classes = np.unique(y)   #lay ra all cac du lieu khac nhau cua y giong nhu set\n",
        "        self.class_labels = {c:i for i,c in enumerate(self.classes)}   #dan nhan cho tuong class\n",
        "        X, y = self.ADCT(X, y)  #CT trong giao trinh\n",
        "        X_val, y_val = self.ADCT(X_val, y_val)\n",
        "        self.loss_train = []\n",
        "        self.error_train = []\n",
        "        self.loss_test = [] \n",
        "        self.error_test = []\n",
        "        self.weights = np.zeros(shape=(len(self.classes),X.shape[1]))  #(10x784) \n",
        "        self.gradient_descent(X, y,  X_val, y_val)\n",
        "        return self\n",
        "    \n",
        "    def ADCT(self, x, y):\n",
        "        x = self.add_bias(x)  #CT trong giao trinh\n",
        "        y = self.one_hot(y)   #CT trong giao trinh\n",
        "        return x, y\n",
        " \n",
        "    def gradient_descent(self, X, y, X_val, y_val):\n",
        "          start = perf_counter()\n",
        "          j = 0\n",
        "          for i in range(self.n_iter):\n",
        "            \n",
        "            self.multinomial_logreg_error(X, y, X_val, y_val)\n",
        "            update = self.multinomial_logreg_grad_i(X, y)\n",
        "            self.weights += update\n",
        "            if np.abs(update).max() < self.isBreak: \n",
        "                break\n",
        "            if i % self.i_Acc == 0: \n",
        "                \n",
        "                message = 'Loop {},  Loss_train {},  Acc_train {}, Loss_test {}, Acc_test {}'.format(i+1,self.loss_train[i], self.error_train[i], self.loss_test[i], self.error_test[i])\n",
        "                j += 1\n",
        "                print(message)\n",
        "          end = perf_counter()\n",
        "          time = int(end) - int(start)\n",
        "          print('Chuong trinh chay mat: {} s'.format(time))\n",
        "     \n",
        "    def multinomial_logreg_error(self, X, y, X_val, y_val):\n",
        "          self.loss_train.append(self.multinomial_logreg_loss_i(y, self.predict(X)))\n",
        "          self.error_train.append(self.evaluate(X, y))\n",
        "          self.loss_test.append(self.multinomial_logreg_loss_i(y_val, self.predict(X_val)))\n",
        "          self.error_test.append(self.evaluate(X_val, y_val))\n",
        "    \n",
        "    def predict(self, X):\n",
        "        pre_vals = np.dot(X, self.weights.T).reshape(-1,len(self.classes))\n",
        "        return self.softmax(pre_vals)\n",
        "    \n",
        "    def softmax(self, z):\n",
        "        return np.exp(z) / np.sum(np.exp(z), axis=1).reshape(-1,1)\n",
        "\n",
        "    def CheckModel(self, X, number):\n",
        "        print('Dự đoán cua X_test[{}] la: {}'.format(number, self.predict_class(X)[number]))\n",
        "        \n",
        "        plt.imshow(X_test[number].reshape(28,28), cmap='gray')\n",
        "        plt.show()\n",
        "\n",
        "    def predict_class(self, X):\n",
        "        X_add = self.predict(self.add_bias(X))   #Xac suat\n",
        "        return np.argmax(X_add, axis=1)\n",
        "\n",
        "    def add_bias(self,X):\n",
        "        return np.insert(X, 0, 1, axis=1)\n",
        "  \n",
        "    def one_hot(self, y):\n",
        "        return np.eye(len(self.classes))[(y).reshape(-1)]\n",
        "    \n",
        "    def evaluate(self, X, y):\n",
        "        return np.mean(np.argmax(self.predict(X), axis=1) == np.argmax(y, axis=1))\n",
        "    \n",
        "    #cross_entropy\n",
        "    def multinomial_logreg_loss_i(self, y, probs):\n",
        "        return -(np.mean(y * np.log(probs)))\n",
        "\n",
        "    def score(self, X, y):\n",
        "        return np.mean(self.predict_class(X) == y)\n",
        "\n",
        "    def multinomial_logreg_grad_i(self, X, y):\n",
        "        error = y - self.predict(X)\n",
        "        return (self.lr * np.dot(error.T, X))\n",
        "    "
      ],
      "execution_count": null,
      "outputs": []
    },
    {
      "cell_type": "code",
      "metadata": {
        "colab": {
          "base_uri": "https://localhost:8080/"
        },
        "id": "JYMpcidZs2oX",
        "outputId": "22e36ed5-f769-4689-a0d7-9700f084cc7c"
      },
      "source": [
        "lr = MultiClassLogisticRegression(n_iter = 100, lr=0.0001, i_Acc=10)\n",
        "lr.fit(X_train,y_train, X_test, y_test)"
      ],
      "execution_count": null,
      "outputs": [
        {
          "output_type": "stream",
          "text": [
            "Loop 1,  Loss_train 0.23025850929940433,  Acc_train 0.09871666666666666, Loss_test 0.23025850929940458, Acc_test 0.098\n",
            "Loop 11,  Loss_train 1.281914552360371,  Acc_train 0.5907833333333333, Loss_test 1.2912437884454708, Acc_test 0.5949\n",
            "Loop 21,  Loss_train 0.12300690810723558,  Acc_train 0.84075, Loss_test 0.11977116495159516, Acc_test 0.8485\n",
            "Loop 31,  Loss_train 0.2623297609351941,  Acc_train 0.7585333333333333, Loss_test 0.26729155005874994, Acc_test 0.7603\n",
            "Loop 41,  Loss_train 0.1101120522505649,  Acc_train 0.8573833333333334, Loss_test 0.10862054670625527, Acc_test 0.8623\n",
            "Loop 51,  Loss_train 0.06819336396282327,  Acc_train 0.8959666666666667, Loss_test 0.06607181284341875, Acc_test 0.9046\n",
            "Loop 61,  Loss_train 0.058567132618058966,  Acc_train 0.9012833333333333, Loss_test 0.05773670735085378, Acc_test 0.9063\n",
            "Loop 71,  Loss_train 0.18623024112367126,  Acc_train 0.7746333333333333, Loss_test 0.18767637583692484, Acc_test 0.7776\n",
            "Loop 81,  Loss_train 0.22712706800080137,  Acc_train 0.8101333333333334, Loss_test 0.22820915119327084, Acc_test 0.8125\n",
            "Loop 91,  Loss_train 0.06339328349359565,  Acc_train 0.902, Loss_test 0.0611675027897119, Acc_test 0.9065\n",
            "Chuong trinh chay mat: 102 s\n"
          ],
          "name": "stdout"
        },
        {
          "output_type": "execute_result",
          "data": {
            "text/plain": [
              "<__main__.MultiClassLogisticRegression at 0x7fc2745d8410>"
            ]
          },
          "metadata": {
            "tags": []
          },
          "execution_count": 541
        }
      ]
    },
    {
      "cell_type": "code",
      "metadata": {
        "colab": {
          "base_uri": "https://localhost:8080/",
          "height": 283
        },
        "id": "zBQjB5J9cV1w",
        "outputId": "006414e3-c1c9-4f41-d859-f87f2fc325c5"
      },
      "source": [
        "lr.CheckModel(X_test, 99)"
      ],
      "execution_count": null,
      "outputs": [
        {
          "output_type": "stream",
          "text": [
            "Dự đoán cua X_test[99] la: 9\n"
          ],
          "name": "stdout"
        },
        {
          "output_type": "display_data",
          "data": {
            "image/png": "[encoded data removed]",
            "text/plain": [
              "<Figure size 432x288 with 1 Axes>"
            ]
          },
          "metadata": {
            "tags": [],
            "needs_background": "light"
          }
        }
      ]
    },
    {
      "cell_type": "code",
      "metadata": {
        "colab": {
          "base_uri": "https://localhost:8080/"
        },
        "id": "dcvp4aUmvX_Q",
        "outputId": "c7573344-574f-4713-9bb9-b88f24f0f6cc"
      },
      "source": [
        "lr.score(X_test, y_test)"
      ],
      "execution_count": null,
      "outputs": [
        {
          "output_type": "execute_result",
          "data": {
            "text/plain": [
              "0.9115"
            ]
          },
          "metadata": {
            "tags": []
          },
          "execution_count": 545
        }
      ]
    },
    {
      "cell_type": "code",
      "metadata": {
        "id": "hqV4SNZGZY-U"
      },
      "source": [
        "def plot(loss_list):\n",
        "    \"\"\"store the plots\"\"\"\n",
        "    # epoch_list = list(range(len(loss_list)))\n",
        "    plt.plot(loss_list)\n",
        "    plt.ylabel('Loss Function')\n",
        "    plt.xlabel('Epoch')\n",
        "    plt.xticks(rotation=60)\n",
        "    plt.title('Loss Function ~ Epoch')\n",
        "    plt.show()\n",
        "\n",
        "    # plt.plot(accu_list)\n",
        "    # plt.ylabel('Test Accuracy')\n",
        "    # plt.xlabel('Epoch')\n",
        "    # plt.xticks(rotation=60)\n",
        "    # plt.title('Test Accuracy ~ Epoch')\n",
        "    # plt.show()"
      ],
      "execution_count": null,
      "outputs": []
    },
    {
      "cell_type": "code",
      "metadata": {
        "colab": {
          "base_uri": "https://localhost:8080/",
          "height": 307
        },
        "id": "LBCaI0d5ZK2r",
        "outputId": "bfe63262-fa64-4a8b-893b-3e6ff5e3ddd4"
      },
      "source": [
        "plot(lr.error_train)"
      ],
      "execution_count": null,
      "outputs": [
        {
          "output_type": "display_data",
          "data": {
            "image/png": "[encoded data removed]",
            "text/plain": [
              "<Figure size 432x288 with 1 Axes>"
            ]
          },
          "metadata": {
            "tags": [],
            "needs_background": "light"
          }
        }
      ]
    },
    {
      "cell_type": "code",
      "metadata": {
        "colab": {
          "base_uri": "https://localhost:8080/",
          "height": 283
        },
        "id": "lSEAimK4a_JH",
        "outputId": "df9b1ce5-86e7-4517-df96-8504ffd9b8f4"
      },
      "source": [
        "plt.imshow(X_test[0].reshape(28,28), cmap='gray')"
      ],
      "execution_count": null,
      "outputs": [
        {
          "output_type": "execute_result",
          "data": {
            "text/plain": [
              "<matplotlib.image.AxesImage at 0x7fca26ed4c50>"
            ]
          },
          "metadata": {
            "tags": []
          },
          "execution_count": 59
        },
        {
          "output_type": "display_data",
          "data": {
            "image/png": "[encoded data removed]",
            "text/plain": [
              "<Figure size 432x288 with 1 Axes>"
            ]
          },
          "metadata": {
            "tags": [],
            "needs_background": "light"
          }
        }
      ]
    },
    {
      "cell_type": "code",
      "metadata": {
        "id": "yZ2_2EQlbUWd"
      },
      "source": [
        "y_predict = model.predict(X_test[0].reshape(1,28,28,1))\n",
        "print('Giá trị dự đoán: ', np.argmax(y_predict))"
      ],
      "execution_count": null,
      "outputs": []
    },
    {
      "cell_type": "code",
      "metadata": {
        "id": "D-KhRQ0VveuC",
        "colab": {
          "base_uri": "https://localhost:8080/",
          "height": 404
        },
        "outputId": "36f847bf-a389-450e-99f5-0216914baff4"
      },
      "source": [
        "fig = plt.figure(figsize=(8,6))\n",
        "plt.plot(np.arange(len(lr.loss)), lr.loss)\n",
        "plt.title(\"Development of loss during training\")\n",
        "plt.xlabel(\"Number of iterations\")\n",
        "plt.ylabel(\"Loss\")\n",
        "plt.show()"
      ],
      "execution_count": null,
      "outputs": [
        {
          "output_type": "display_data",
          "data": {
            "image/png": "[encoded data removed]",
            "text/plain": [
              "<Figure size 576x432 with 1 Axes>"
            ]
          },
          "metadata": {
            "tags": [],
            "needs_background": "light"
          }
        }
      ]
    },
    {
      "cell_type": "code",
      "metadata": {
        "id": "vpl9Ok8Lazlk"
      },
      "source": [
        ""
      ],
      "execution_count": null,
      "outputs": []
    },
    {
      "cell_type": "code",
      "metadata": {
        "id": "-DtcNmgLwCvH"
      },
      "source": [
        "def initialize(num_inputs,num_classes):\n",
        "    \"\"\"initialize the parameters\"\"\"\n",
        "    # num_inputs = 28*28 = 784\n",
        "    # num_classes = 10\n",
        "    w = np.random.randn(num_classes, num_inputs) / np.sqrt(num_classes*num_inputs) # (10*784)\n",
        "    b = np.random.randn(num_classes, 1) / np.sqrt(num_classes) # (10*1) \n",
        "    \n",
        "    param = {\n",
        "        'w' : w, # (10*784)\n",
        "        'b' : b  # (10*1)\n",
        "    }\n",
        "    return param\n",
        "\n",
        "def softmax(z):\n",
        "    \"\"\"implement the softmax functions\n",
        "    input: numpy ndarray\n",
        "    output: numpy ndarray\n",
        "    \"\"\"\n",
        "    exp_list = np.exp(z)\n",
        "    result = 1/sum(exp_list) * exp_list\n",
        "    result = result.reshape((len(z),1))\n",
        "    assert (result.shape == (len(z),1))\n",
        "    return result\n",
        "\n",
        "def neg_log_loss(pred, label):\n",
        "    \"\"\"implement the negative log loss\"\"\"\n",
        "    loss = -np.log(pred[int(label)])\n",
        "    return loss\n",
        "\n",
        "def mini_batch_gradient(param, x_batch, y_batch):\n",
        "    \"\"\"implement the function to compute the mini batch gradient\n",
        "    input: param -- parameters dictionary (w, b)\n",
        "           x_batch -- a batch of x (size, 784)\n",
        "           y_batch -- a batch of y (size,)\n",
        "    output: dw, db, batch_loss\n",
        "    \"\"\"\n",
        "    batch_size = x_batch.shape[0]\n",
        "    w_grad_list = []\n",
        "    b_grad_list = []\n",
        "    batch_loss = 0\n",
        "    for i in range(batch_size):\n",
        "        x,y = x_batch[i],y_batch[i]\n",
        "        x = x.reshape((784,1)) # x: (784,1)\n",
        "        E = np.zeros((10,1)) #(10*1)\n",
        "        E[y][0] = 1 \n",
        "        pred = softmax(np.matmul(param['w'], x)+param['b']) #(10*1)\n",
        "\n",
        "        loss = neg_log_loss(pred, y)\n",
        "        batch_loss += loss\n",
        "\n",
        "        w_grad = E - pred\n",
        "        w_grad = - np.matmul(w_grad, x.reshape((1,784)))\n",
        "        w_grad_list.append(w_grad)\n",
        "\n",
        "        b_grad = -(E - pred)\n",
        "        b_grad_list.append(b_grad)\n",
        "\n",
        "    dw = sum(w_grad_list)/batch_size\n",
        "    db = sum(b_grad_list)/batch_size\n",
        "    return dw, db, batch_loss\n",
        "\n",
        "def eval(param, x_data, y_data):\n",
        "    \"\"\" implement the evaluation function\n",
        "    input: param -- parameters dictionary (w, b)\n",
        "           x_data -- x_train or x_test (size, 784)\n",
        "           y_data -- y_train or y_test (size,)\n",
        "    output: loss and accuracy\n",
        "    \"\"\"\n",
        "    # w: (10*784), x: (10000*784), y:(10000,)\n",
        "    loss_list = []\n",
        "    w = param['w'].transpose()\n",
        "    dist = np.array([np.squeeze(softmax(np.matmul(x_data[i], w))) for i in range(len(y_data))])\n",
        "\n",
        "    result = np.argmax(dist,axis=1)\n",
        "    accuracy = sum(result == y_data)/float(len(y_data))\n",
        "\n",
        "    loss_list = [neg_log_loss(dist[i],y_data[i]) for i in range(len(y_data))]\n",
        "    loss = sum(loss_list)\n",
        "    return loss, accuracy\n",
        "\n",
        "def train(param , x_train, y_train, x_test, y_test):\n",
        "    \"\"\" implement the train function\n",
        "    input: param -- parameters dictionary (w, b)\n",
        "           hyp -- hyperparameters dictionary\n",
        "           x_train -- (60000, 784)\n",
        "           y_train -- (60000,)\n",
        "           x_test -- x_test (10000, 784)\n",
        "           y_test -- y_test (10000,)\n",
        "    output: test_loss_list, test_accu_list\n",
        "    \"\"\"\n",
        "    num_epoches = 15\n",
        "    batch_size = 100\n",
        "    learning_rate = 0.0025\n",
        "    mu = 0.9\n",
        "    momentum = 0\n",
        "    learning_decay = 0\n",
        "    test_loss_list, test_accu_list = [],[]\n",
        "    if bool(momentum) == True:\n",
        "        w_velocity = np.zeros(param['w'].shape)\n",
        "        b_velocity = np.zeros(param['b'].shape) \n",
        "\n",
        "    for epoch in range(num_epoches):\n",
        "        \n",
        "        # select the random sequence of training set\n",
        "        rand_indices = np.random.choice(x_train.shape[0],x_train.shape[0],replace=False)\n",
        "        num_batch = int(x_train.shape[0]/batch_size)\n",
        "        batch_loss100 = 0\n",
        "        \n",
        "        if bool(learning_decay) == True:\n",
        "            try:\n",
        "                if test_accu_list[-1] - test_accu_list[-2] < 0.001:\n",
        "                    learning_rate *= hyp['decay_factor']\n",
        "            except:\n",
        "                pass\n",
        "            \n",
        "            message = 'learning rate: %.8f' % learning_rate\n",
        "            print(message)\n",
        "            logging.info(message)\n",
        "\n",
        "        # for each batch of train data\n",
        "        for batch in range(num_batch):\n",
        "            index = rand_indices[batch_size*batch:batch_size*(batch+1)]\n",
        "            x_batch = x_train[index]\n",
        "            y_batch = y_train[index]\n",
        "\n",
        "            # calculate the gradient w.r.t w and b\n",
        "            dw, db, batch_loss = mini_batch_gradient(param, x_batch, y_batch)\n",
        "            batch_loss100 += batch_loss\n",
        "            # update the parameters with the learning rate\n",
        "            if bool(momentum) == True:\n",
        "                w_velocity = mu * w_velocity + learning_rate * dw\n",
        "                b_velocity = mu * b_velocity + learning_rate * db\n",
        "                param['w'] -= w_velocity\n",
        "                param['b'] -= b_velocity\n",
        "            else:\n",
        "                param['w'] -= learning_rate * dw\n",
        "                param['b'] -= learning_rate * db\n",
        "            if batch % 100 == 0:\n",
        "                message = 'Epoch %d, Batch %d, Loss %.2f' % (epoch+1, batch, batch_loss)\n",
        "                print(message)\n",
        "                # logging.info(message)\n",
        "\n",
        "                batch_loss100 = 0\n",
        "        train_loss, train_accu = eval(param,x_train,y_train)\n",
        "        test_loss, test_accu = eval(param,x_test,y_test)\n",
        "        test_loss_list.append(test_loss)\n",
        "        test_accu_list.append(test_accu)\n",
        "\n",
        "        message = 'Epoch %d, Train Loss %.2f, Train Accu %.4f, Test Loss %.2f, Test Accu %.4f' % (epoch+1, train_loss, train_accu, test_loss, test_accu)\n",
        "        print(message)\n",
        "        # logging.info(message)\n",
        "    return test_loss_list, test_accu_list"
      ],
      "execution_count": null,
      "outputs": []
    },
    {
      "cell_type": "code",
      "metadata": {
        "colab": {
          "base_uri": "https://localhost:8080/"
        },
        "id": "Cu1BOqZowHuq",
        "outputId": "98dbd02d-f8c3-47ba-e9b9-d9f43b1dde64"
      },
      "source": [
        "num_inputs = X_train.shape[1]\n",
        "num_classes = len(set(y_train))\n",
        "param = initialize(num_inputs,num_classes)\n",
        "loss_list, accu_list = train(param,X_train,y_train,X_test,y_test)"
      ],
      "execution_count": null,
      "outputs": [
        {
          "output_type": "stream",
          "text": [
            "Epoch 1, Batch 0, Loss 227.61\n",
            "Epoch 1, Batch 100, Loss 207.82\n",
            "Epoch 1, Batch 200, Loss 185.96\n",
            "Epoch 1, Batch 300, Loss 165.46\n",
            "Epoch 1, Batch 400, Loss 154.43\n",
            "Epoch 1, Batch 500, Loss 141.84\n",
            "Epoch 1, Train Loss 82467.66, Train Accu 0.7430, Test Loss 13591.38, Test Accu 0.7473\n",
            "Epoch 2, Batch 0, Loss 131.10\n",
            "Epoch 2, Batch 100, Loss 117.40\n",
            "Epoch 2, Batch 200, Loss 118.99\n",
            "Epoch 2, Batch 300, Loss 106.53\n",
            "Epoch 2, Batch 400, Loss 102.24\n",
            "Epoch 2, Batch 500, Loss 107.34\n",
            "Epoch 2, Train Loss 61544.85, Train Accu 0.8028, Test Loss 10053.90, Test Accu 0.8106\n",
            "Epoch 3, Batch 0, Loss 99.24\n",
            "Epoch 3, Batch 100, Loss 103.78\n",
            "Epoch 3, Batch 200, Loss 93.23\n",
            "Epoch 3, Batch 300, Loss 93.57\n",
            "Epoch 3, Batch 400, Loss 99.02\n",
            "Epoch 3, Batch 500, Loss 89.40\n",
            "Epoch 3, Train Loss 51538.91, Train Accu 0.8251, Test Loss 8367.80, Test Accu 0.8339\n",
            "Epoch 4, Batch 0, Loss 77.25\n",
            "Epoch 4, Batch 100, Loss 87.15\n",
            "Epoch 4, Batch 200, Loss 81.86\n",
            "Epoch 4, Batch 300, Loss 79.43\n",
            "Epoch 4, Batch 400, Loss 80.46\n",
            "Epoch 4, Batch 500, Loss 70.26\n",
            "Epoch 4, Train Loss 45730.34, Train Accu 0.8371, Test Loss 7393.84, Test Accu 0.8462\n",
            "Epoch 5, Batch 0, Loss 68.03\n",
            "Epoch 5, Batch 100, Loss 60.51\n",
            "Epoch 5, Batch 200, Loss 70.75\n",
            "Epoch 5, Batch 300, Loss 76.81\n",
            "Epoch 5, Batch 400, Loss 64.59\n",
            "Epoch 5, Batch 500, Loss 69.72\n",
            "Epoch 5, Train Loss 41866.92, Train Accu 0.8457, Test Loss 6747.84, Test Accu 0.8546\n",
            "Epoch 6, Batch 0, Loss 62.00\n",
            "Epoch 6, Batch 100, Loss 65.77\n",
            "Epoch 6, Batch 200, Loss 69.79\n",
            "Epoch 6, Batch 300, Loss 64.58\n",
            "Epoch 6, Batch 400, Loss 70.82\n",
            "Epoch 6, Batch 500, Loss 57.54\n",
            "Epoch 6, Train Loss 39057.44, Train Accu 0.8516, Test Loss 6277.40, Test Accu 0.8607\n",
            "Epoch 7, Batch 0, Loss 64.29\n",
            "Epoch 7, Batch 100, Loss 59.03\n",
            "Epoch 7, Batch 200, Loss 69.93\n",
            "Epoch 7, Batch 300, Loss 69.28\n",
            "Epoch 7, Batch 400, Loss 64.24\n",
            "Epoch 7, Batch 500, Loss 56.84\n",
            "Epoch 7, Train Loss 36933.63, Train Accu 0.8565, Test Loss 5923.44, Test Accu 0.8665\n",
            "Epoch 8, Batch 0, Loss 53.77\n",
            "Epoch 8, Batch 100, Loss 60.01\n",
            "Epoch 8, Batch 200, Loss 73.40\n",
            "Epoch 8, Batch 300, Loss 63.89\n",
            "Epoch 8, Batch 400, Loss 48.70\n",
            "Epoch 8, Batch 500, Loss 63.70\n",
            "Epoch 8, Train Loss 35290.92, Train Accu 0.8603, Test Loss 5650.55, Test Accu 0.8702\n",
            "Epoch 9, Batch 0, Loss 57.14\n",
            "Epoch 9, Batch 100, Loss 49.69\n",
            "Epoch 9, Batch 200, Loss 56.82\n",
            "Epoch 9, Batch 300, Loss 55.06\n",
            "Epoch 9, Batch 400, Loss 58.22\n",
            "Epoch 9, Batch 500, Loss 52.28\n",
            "Epoch 9, Train Loss 33975.68, Train Accu 0.8633, Test Loss 5433.42, Test Accu 0.8730\n",
            "Epoch 10, Batch 0, Loss 66.14\n",
            "Epoch 10, Batch 100, Loss 52.71\n",
            "Epoch 10, Batch 200, Loss 44.81\n",
            "Epoch 10, Batch 300, Loss 54.95\n",
            "Epoch 10, Batch 400, Loss 57.90\n",
            "Epoch 10, Batch 500, Loss 51.31\n",
            "Epoch 10, Train Loss 32876.01, Train Accu 0.8659, Test Loss 5251.19, Test Accu 0.8759\n",
            "Epoch 11, Batch 0, Loss 53.56\n",
            "Epoch 11, Batch 100, Loss 53.32\n",
            "Epoch 11, Batch 200, Loss 62.07\n",
            "Epoch 11, Batch 300, Loss 44.23\n",
            "Epoch 11, Batch 400, Loss 55.97\n",
            "Epoch 11, Batch 500, Loss 55.98\n",
            "Epoch 11, Train Loss 31905.40, Train Accu 0.8680, Test Loss 5090.69, Test Accu 0.8779\n",
            "Epoch 12, Batch 0, Loss 53.93\n",
            "Epoch 12, Batch 100, Loss 52.33\n",
            "Epoch 12, Batch 200, Loss 48.54\n",
            "Epoch 12, Batch 300, Loss 56.48\n",
            "Epoch 12, Batch 400, Loss 51.36\n",
            "Epoch 12, Batch 500, Loss 47.76\n",
            "Epoch 12, Train Loss 31072.92, Train Accu 0.8704, Test Loss 4952.62, Test Accu 0.8802\n",
            "Epoch 13, Batch 0, Loss 48.68\n",
            "Epoch 13, Batch 100, Loss 56.90\n",
            "Epoch 13, Batch 200, Loss 53.77\n",
            "Epoch 13, Batch 300, Loss 36.63\n",
            "Epoch 13, Batch 400, Loss 65.85\n",
            "Epoch 13, Batch 500, Loss 46.32\n",
            "Epoch 13, Train Loss 30391.11, Train Accu 0.8721, Test Loss 4840.98, Test Accu 0.8806\n",
            "Epoch 14, Batch 0, Loss 82.70\n",
            "Epoch 14, Batch 100, Loss 42.97\n",
            "Epoch 14, Batch 200, Loss 48.73\n",
            "Epoch 14, Batch 300, Loss 51.30\n",
            "Epoch 14, Batch 400, Loss 48.65\n",
            "Epoch 14, Batch 500, Loss 51.17\n",
            "Epoch 14, Train Loss 29758.87, Train Accu 0.8744, Test Loss 4737.48, Test Accu 0.8825\n",
            "Epoch 15, Batch 0, Loss 44.23\n",
            "Epoch 15, Batch 100, Loss 41.62\n",
            "Epoch 15, Batch 200, Loss 50.66\n",
            "Epoch 15, Batch 300, Loss 36.14\n",
            "Epoch 15, Batch 400, Loss 37.22\n",
            "Epoch 15, Batch 500, Loss 44.73\n",
            "Epoch 15, Train Loss 29209.72, Train Accu 0.8760, Test Loss 4647.40, Test Accu 0.8831\n"
          ],
          "name": "stdout"
        }
      ]
    },
    {
      "cell_type": "code",
      "metadata": {
        "id": "LKHopHA1wVFU"
      },
      "source": [
        "\n",
        "def plot(loss_list):\n",
        "    \"\"\"store the plots\"\"\"\n",
        "    # epoch_list = list(range(len(loss_list)))\n",
        "    plt.plot(loss_list)\n",
        "    plt.ylabel('Loss Function')\n",
        "    plt.xlabel('Epoch')\n",
        "    plt.xticks(rotation=60)\n",
        "    plt.title('Loss Function ~ Epoch')\n",
        "    plt.show()"
      ],
      "execution_count": null,
      "outputs": []
    },
    {
      "cell_type": "code",
      "metadata": {
        "id": "jaVegkHFxj9S",
        "colab": {
          "base_uri": "https://localhost:8080/",
          "height": 301
        },
        "outputId": "51ac1b48-df0b-43eb-e7be-887d10a66e19"
      },
      "source": [
        "plot(loss_list)"
      ],
      "execution_count": null,
      "outputs": [
        {
          "output_type": "display_data",
          "data": {
            "image/png": "[encoded data removed]",
            "text/plain": [
              "<Figure size 432x288 with 1 Axes>"
            ]
          },
          "metadata": {
            "tags": [],
            "needs_background": "light"
          }
        }
      ]
    },
    {
      "cell_type": "code",
      "metadata": {
        "id": "CNiuhrgtYAWk"
      },
      "source": [
        ""
      ],
      "execution_count": null,
      "outputs": []
    }
  ]
}