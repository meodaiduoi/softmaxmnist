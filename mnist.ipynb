{
 "metadata": {
  "language_info": {
   "codemirror_mode": {
    "name": "ipython",
    "version": 3
   },
   "file_extension": ".py",
   "mimetype": "text/x-python",
   "name": "python",
   "nbconvert_exporter": "python",
   "pygments_lexer": "ipython3",
   "version": "3.7.7"
  },
  "orig_nbformat": 2,
  "kernelspec": {
   "name": "python377jvsc74a57bd0c6fcb19e137de5007d345122920c8dc220c54a106d966420b0be2f54a5303607",
   "display_name": "Python 3.7.7 64-bit"
  }
 },
 "nbformat": 4,
 "nbformat_minor": 2,
 "cells": [
  {
   "source": [
    "# Softmax with MNIST dataset"
   ],
   "cell_type": "markdown",
   "metadata": {}
  },
  {
   "cell_type": "code",
   "execution_count": 34,
   "metadata": {},
   "outputs": [],
   "source": [
    "import matplotlib\n",
    "import matplotlib.pyplot as plt\n",
    "import numpy as np # linear algebra\n",
    "from mnist import MNIST\n",
    "import os"
   ]
  },
  {
   "cell_type": "code",
   "execution_count": 35,
   "metadata": {},
   "outputs": [
    {
     "output_type": "execute_result",
     "data": {
      "text/plain": [
       "'c:\\\\Users\\\\meoda\\\\Documents\\\\VSCode Workspace\\\\Jupyter\\\\softmaxmnist\\\\mnistdb'"
      ]
     },
     "metadata": {},
     "execution_count": 35
    }
   ],
   "source": [
    "os.path.abspath('./mnistdb')"
   ]
  },
  {
   "cell_type": "code",
   "execution_count": 36,
   "metadata": {},
   "outputs": [],
   "source": [
    "mnistdt = MNIST(os.path.abspath('./mnistdb'))\n",
    "img_arr_test, lb_arr_test = mnistdt.load_training()\n",
    "img_arr_train, lb_arr_train = mnistdt.load_testing()"
   ]
  },
  {
   "cell_type": "code",
   "execution_count": 37,
   "metadata": {},
   "outputs": [],
   "source": [
    "def resize(img):\n",
    "    return np.reshape(img, [-1, 28, 28, 1])\n",
    "    \n",
    "\n",
    "def image_show(a):\n",
    "    some_digit = a\n",
    "    some_digit_image = some_digit.reshape(28,28)\n",
    "    plt.imshow(some_digit_image, cmap = matplotlib.cm.binary, interpolation = \"nearest\")\n",
    "    plt.axis(\"off\")"
   ]
  },
  {
   "cell_type": "code",
   "execution_count": 38,
   "metadata": {},
   "outputs": [],
   "source": [
    "img_test = resize(img_arr_test)\n",
    "img_train = resize(img_arr_train)"
   ]
  },
  {
   "source": [],
   "cell_type": "markdown",
   "metadata": {}
  },
  {
   "cell_type": "code",
   "execution_count": 39,
   "metadata": {},
   "outputs": [
    {
     "output_type": "execute_result",
     "data": {
      "text/plain": [
       "0"
      ]
     },
     "metadata": {},
     "execution_count": 39
    }
   ],
   "source": [
    "lb_arr_test[1]"
   ]
  },
  {
   "cell_type": "code",
   "execution_count": 40,
   "metadata": {},
   "outputs": [
    {
     "output_type": "display_data",
     "data": {
      "text/plain": "<Figure size 432x288 with 1 Axes>",
      "image/svg+xml": "<?xml version=\"1.0\" encoding=\"utf-8\" standalone=\"no\"?>\r\n<!DOCTYPE svg PUBLIC \"-//W3C//DTD SVG 1.1//EN\"\r\n  \"http://www.w3.org/Graphics/SVG/1.1/DTD/svg11.dtd\">\r\n<!-- Created with matplotlib (https://matplotlib.org/) -->\r\n<svg height=\"231.84pt\" version=\"1.1\" viewBox=\"0 0 231.84 231.84\" width=\"231.84pt\" xmlns=\"http://www.w3.org/2000/svg\" xmlns:xlink=\"http://www.w3.org/1999/xlink\">\r\n <metadata>\r\n  <rdf:RDF xmlns:cc=\"http://creativecommons.org/ns#\" xmlns:dc=\"http://purl.org/dc/elements/1.1/\" xmlns:rdf=\"http://www.w3.org/1999/02/22-rdf-syntax-ns#\">\r\n   <cc:Work>\r\n    <dc:type rdf:resource=\"http://purl.org/dc/dcmitype/StillImage\"/>\r\n    <dc:date>2021-05-30T17:11:12.344899</dc:date>\r\n    <dc:format>image/svg+xml</dc:format>\r\n    <dc:creator>\r\n     <cc:Agent>\r\n      <dc:title>Matplotlib v3.3.0, https://matplotlib.org/</dc:title>\r\n     </cc:Agent>\r\n    </dc:creator>\r\n   </cc:Work>\r\n  </rdf:RDF>\r\n </metadata>\r\n <defs>\r\n  <style type=\"text/css\">*{stroke-linecap:butt;stroke-linejoin:round;}</style>\r\n </defs>\r\n <g id=\"figure_1\">\r\n  <g id=\"patch_1\">\r\n   <path d=\"M 0 231.84 \r\nL 231.84 231.84 \r\nL 231.84 0 \r\nL 0 0 \r\nz\r\n\" style=\"fill:none;\"/>\r\n  </g>\r\n  <g id=\"axes_1\">\r\n   <g clip-path=\"url(#p9b00d301b6)\">\r\n    <image height=\"218\" id=\"image3de7393984\" transform=\"scale(1 -1)translate(0 -218)\" width=\"218\" x=\"7.2\" xlink:href=\"data:image/png;base64,\r\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\" y=\"-6.64\"/>\r\n   </g>\r\n  </g>\r\n </g>\r\n <defs>\r\n  <clipPath id=\"p9b00d301b6\">\r\n   <rect height=\"217.44\" width=\"217.44\" x=\"7.2\" y=\"7.2\"/>\r\n  </clipPath>\r\n </defs>\r\n</svg>\r\n",
      "image/png": "[encoded data removed]"
     },
     "metadata": {
      "needs_background": "light"
     }
    }
   ],
   "source": [
    "image_show(img_test[1])"
   ]
  },
  {
   "source": [
    "## Logistic regression"
   ],
   "cell_type": "markdown",
   "metadata": {}
  },
  {
   "cell_type": "code",
   "execution_count": 41,
   "metadata": {},
   "outputs": [],
   "source": [
    "X = img_train\n",
    "y = lb_arr_train"
   ]
  },
  {
   "cell_type": "code",
   "execution_count": 42,
   "metadata": {},
   "outputs": [
    {
     "output_type": "execute_result",
     "data": {
      "text/plain": [
       "array([[0., 0.],\n",
       "       [0., 0.],\n",
       "       [0., 0.]])"
      ]
     },
     "metadata": {},
     "execution_count": 42
    }
   ],
   "source": [
    "np.zeros((3, 2))"
   ]
  },
  {
   "source": [
    "https://github.com/bamtak/machine-learning-implemetation-python/blob/master/Multi%20Class%20Logistic%20Regression.ipynb?fbclid=IwAR22ktG7sEiFxzPylXduS3dycmWWjXxJwkDss7NfWQ-Up-nrzmg3Jg6D3ik\n",
    "\n",
    "https://github.com/michelucci/Logistic-Regression-Explained/blob/master/MNIST%20with%20Logistic%20Regression%20from%20scratch.ipynb\n",
    "\n",
    "https://github.com/khawar56/Logistic-Regression-From-Scratch/blob/master/Logistic_Regression.ipynb\n",
    "\n",
    "https://www.kaggle.com/hamzaboulahia/logistic-regression-mnist-classification\n",
    "\n",
    "https://www.kdnuggets.com/2016/07/softmax-regression-related-logistic-regression.html"
   ],
   "cell_type": "markdown",
   "metadata": {}
  },
  {
   "cell_type": "code",
   "execution_count": 54,
   "metadata": {},
   "outputs": [],
   "source": [
    "# setup function\n",
    "\n",
    "def init_bw(feature):\n",
    "    weight = np.zeros((feature, 1))\n",
    "    bias = 0\n",
    "    return weight, bias\n",
    "\n",
    "def normalize(X):\n",
    "    return X/255\n",
    "\n",
    "def sigmoid(z):\n",
    "    return (1 / (1 + np.exp(-z)))\n",
    "\n",
    "def onehot_encoding(y):\n",
    "    "
   ]
  },
  {
   "source": [
    "https://gluon.mxnet.io/chapter02_supervised-learning/softmax-regression-scratch.html"
   ],
   "cell_type": "markdown",
   "metadata": {}
  },
  {
   "cell_type": "code",
   "execution_count": null,
   "metadata": {},
   "outputs": [],
   "source": [
    "def logistic_regression(X, y):\n",
    "\n",
    "def softmax(y_linear):\n",
    "    exp = nd.exp(y_linear-nd.max(y_linear, axis=1).reshape((-1,1)))\n",
    "    norms = nd.sum(exp, axis=1).reshape((-1,1))\n",
    "    return exp / norms"
   ]
  },
  {
   "cell_type": "code",
   "execution_count": null,
   "metadata": {},
   "outputs": [],
   "source": []
  }
 ]
}