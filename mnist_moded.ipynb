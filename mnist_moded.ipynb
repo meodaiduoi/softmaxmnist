{
 "metadata": {
  "language_info": {
   "codemirror_mode": {
    "name": "ipython",
    "version": 3
   },
   "file_extension": ".py",
   "mimetype": "text/x-python",
   "name": "python",
   "nbconvert_exporter": "python",
   "pygments_lexer": "ipython3",
   "version": "3.7.7"
  },
  "orig_nbformat": 2,
  "kernelspec": {
   "name": "python377jvsc74a57bd0c6fcb19e137de5007d345122920c8dc220c54a106d966420b0be2f54a5303607",
   "display_name": "Python 3.7.7 64-bit"
  }
 },
 "nbformat": 4,
 "nbformat_minor": 2,
 "cells": [
  {
   "source": [
    "# Moded code for BTL_AI - 65% code ported"
   ],
   "cell_type": "markdown",
   "metadata": {}
  },
  {
   "cell_type": "code",
   "execution_count": 6,
   "metadata": {},
   "outputs": [],
   "source": [
    "import matplotlib\n",
    "import matplotlib.pyplot as plt\n",
    "import numpy as np # linear algebra\n",
    "from mnist import MNIST\n",
    "\n",
    "from time import perf_counter\n",
    "import os"
   ]
  },
  {
   "source": [
    "## Load the data"
   ],
   "cell_type": "markdown",
   "metadata": {}
  },
  {
   "cell_type": "code",
   "execution_count": 49,
   "metadata": {},
   "outputs": [],
   "source": [
    "os.path.abspath('./mnistdb')\n",
    "\n",
    "mnistdt = MNIST(os.path.abspath('./mnistdb'))\n",
    "img_arr_test, lb_arr_test = mnistdt.load_training()\n",
    "img_arr_train, lb_arr_train = mnistdt.load_testing()"
   ]
  },
  {
   "source": [
    "## Init the data and-pre processing It"
   ],
   "cell_type": "markdown",
   "metadata": {}
  },
  {
   "source": [
    "### reusueable funtions"
   ],
   "cell_type": "markdown",
   "metadata": {}
  },
  {
   "cell_type": "code",
   "execution_count": 95,
   "metadata": {},
   "outputs": [],
   "source": [
    "def resize(img):\n",
    "    return np.reshape(img, [-1, 28, 28, 1])\n",
    "\n",
    "def normalize(X):\n",
    "    return X/255\n",
    "\n",
    "def onehot_encoding(y):\n",
    "    return np.eye(np.max(y)+1)[y]\n",
    "\n",
    "def add_bias(X):\n",
    "    return np.insert(X, 0, 1, axis=1)\n",
    "\n",
    "def init_weight(X_row_size, y_size):\n",
    "    return np.zeros(shape=(y_size, X_col_size -1)) # X_col_size not include bias row "
   ]
  },
  {
   "source": [
    "### pre-processing data"
   ],
   "cell_type": "markdown",
   "metadata": {}
  },
  {
   "cell_type": "code",
   "execution_count": 81,
   "metadata": {},
   "outputs": [],
   "source": [
    "img_test = resize(img_arr_test)\n",
    "img_train = resize(img_arr_train)\n",
    "\n",
    "# pre add everything\n",
    "X_train = add_bias( normalize(img_train) )\n",
    "X_test = add_bias( normalize(img_test) )\n",
    "y_train = onehot_encoding(lb_arr_train)\n",
    "y_test = onehot_encoding(lb_arr_test)"
   ]
  },
  {
   "source": [
    "## Data classification"
   ],
   "cell_type": "markdown",
   "metadata": {}
  },
  {
   "source": [
    "### Softmax"
   ],
   "cell_type": "markdown",
   "metadata": {}
  },
  {
   "cell_type": "code",
   "execution_count": 124,
   "metadata": {},
   "outputs": [
    {
     "output_type": "error",
     "ename": "SyntaxError",
     "evalue": "invalid syntax (<ipython-input-124-b2cad0024f02>, line 16)",
     "traceback": [
      "\u001b[1;36m  File \u001b[1;32m\"<ipython-input-124-b2cad0024f02>\"\u001b[1;36m, line \u001b[1;32m16\u001b[0m\n\u001b[1;33m    self,gradient_decenst(X_test, y_test):\u001b[0m\n\u001b[1;37m                                          ^\u001b[0m\n\u001b[1;31mSyntaxError\u001b[0m\u001b[1;31m:\u001b[0m invalid syntax\n"
     ]
    }
   ],
   "source": [
    "class MultiClassLogisticRegression:\n",
    "    def __init__(self, X, y, iteration, learning_rate, accurate):\n",
    "        self.X = X\n",
    "        self.y = y\n",
    "        self.iter = iteration\n",
    "        self.lr = learning_rate\n",
    "        self.accu = accurate\n",
    "        self.isBreak = 0.0001\n",
    "        self.w, = init_weight(X_train.shape[1], y_test[0].size)\n",
    "    \n",
    "    def fit(self, X_test, y_test):\n",
    "        self.loss_train = []\n",
    "        self.error_train = []\n",
    "        self.loss_test = [] \n",
    "        self.error_test = []\n",
    "        self,gradient_decenst(X_test, y_test):\n",
    "    \n",
    "\n",
    "    def gradient_descent(self, X_test, y_test):\n",
    "        start = perf_counter()\n",
    "            j = 0\n",
    "        for i in range(self.n_iter):\n",
    "            self.multinomial_logreg_error(X, y, X_val, y_val)\n",
    "            update = self.multinomial_logreg_grad_i(X, y)\n",
    "            self.weights += update\n",
    "            if np.abs(update).max() < self.isBreak: \n",
    "                break\n",
    "            if i % self.i_Acc == 0:     \n",
    "                message = 'Loop {},  Loss_train {},  Acc_train {}, Loss_test {}, Acc_test {}'.format(i+1,self.loss_train[i], self.error_train[i], self.loss_test[i], self.error_test[i])\n",
    "                j += 1\n",
    "                print(message)\n",
    "          end = perf_counter()\n",
    "          time = int(end) - int(start)\n",
    "          print('Chuong trinh chay mat: {} s'.format(time))\n",
    "    \n",
    "    def multinomial_logreg_grad_i(self, X, y):\n",
    "        error = y - self.predict(X)\n",
    "        return (self.lr * np.dot(error.T, X))\n",
    "    \n",
    "    def softmax(self, z):\n",
    "        return np.exp(z) / np.sum(np.exp(z), axis=1).reshape(-1,1)\n",
    "\n",
    "        def CheckModel(self, X, number):\n",
    "        print('Dự đoán cua X_test[{}] la: {}'.format(number, self.predict_class(X)[number]))\n",
    "        \n",
    "        plt.imshow(X_test[number].reshape(28,28), cmap='gray')\n",
    "        plt.show()\n",
    "\n",
    "    def predict_class(self, X):\n",
    "        X_add = self.predict(self.add_bias(X))   #Xac suat\n",
    "        return np.argmax(X_add, axis=1)\n",
    "\n",
    "        def multinomial_logreg_loss_i(self, y, probs):\n",
    "        return -(np.mean(y * np.log(probs)))\n",
    "\n",
    "    def score(self, X, y):\n",
    "        return np.mean(self.predict_class(X) == y)"
   ]
  },
  {
   "cell_type": "code",
   "execution_count": null,
   "metadata": {},
   "outputs": [],
   "source": []
  }
 ]
}