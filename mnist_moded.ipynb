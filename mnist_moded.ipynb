{
 "metadata": {
  "language_info": {
   "codemirror_mode": {
    "name": "ipython",
    "version": 3
   },
   "file_extension": ".py",
   "mimetype": "text/x-python",
   "name": "python",
   "nbconvert_exporter": "python",
   "pygments_lexer": "ipython3",
   "version": "3.7.7"
  },
  "orig_nbformat": 2,
  "kernelspec": {
   "name": "python377jvsc74a57bd0c6fcb19e137de5007d345122920c8dc220c54a106d966420b0be2f54a5303607",
   "display_name": "Python 3.7.7 64-bit"
  }
 },
 "nbformat": 4,
 "nbformat_minor": 2,
 "cells": [
  {
   "source": [
    "# Moded code for BTL_AI - 75% code ported"
   ],
   "cell_type": "markdown",
   "metadata": {}
  },
  {
   "cell_type": "code",
   "execution_count": 58,
   "metadata": {},
   "outputs": [],
   "source": [
    "import matplotlib\n",
    "import matplotlib.pyplot as plt\n",
    "import numpy as np # linear algebra\n",
    "\n",
    "import os # path processing\n",
    "from mnist import MNIST # mnist file reader\n",
    "from time import perf_counter # timer\n",
    "import pickle # save train model"
   ]
  },
  {
   "source": [
    "## Load the data"
   ],
   "cell_type": "markdown",
   "metadata": {}
  },
  {
   "cell_type": "code",
   "execution_count": 59,
   "metadata": {},
   "outputs": [],
   "source": [
    "file_loc = os.path.abspath('')\n",
    "\n",
    "mnistdt = MNIST(file_loc +'./mnistdb')\n",
    "img_arr_test, lb_arr_test = mnistdt.load_training()\n",
    "img_arr_train, lb_arr_train = mnistdt.load_testing()"
   ]
  },
  {
   "source": [
    "## Init the data and-pre processing It"
   ],
   "cell_type": "markdown",
   "metadata": {}
  },
  {
   "source": [
    "### reusueable funtions to prepare the data"
   ],
   "cell_type": "markdown",
   "metadata": {}
  },
  {
   "cell_type": "code",
   "execution_count": 60,
   "metadata": {},
   "outputs": [],
   "source": [
    "# image view\n",
    "def resize(img):\n",
    "    return np.reshape(img, [-1, 28, 28, 1])\n",
    "\n",
    "def image_show(a):\n",
    "    some_digit = a\n",
    "    some_digit_image = some_digit.reshape(28,28)\n",
    "    plt.imshow(some_digit_image, cmap = matplotlib.cm.binary, interpolation = \"nearest\")\n",
    "    plt.axis(\"off\")\n",
    "\n",
    "# data fomater\n",
    "def normalize(X):\n",
    "    return X/255\n",
    "\n",
    "def onehot_encoding(y):\n",
    "    return np.eye(np.max(y)+1)[y]\n",
    "\n",
    "# def add_bias(X):\n",
    "#     return np.insert(X, 0, 1, axis=1)"
   ]
  },
  {
   "source": [
    "### pre-processing data"
   ],
   "cell_type": "markdown",
   "metadata": {}
  },
  {
   "cell_type": "code",
   "execution_count": 61,
   "metadata": {},
   "outputs": [],
   "source": [
    "# Image array to take a look\n",
    "img_test = resize(img_arr_test)\n",
    "img_train = resize(img_arr_train)\n",
    "\n",
    "# pre add everything\n",
    "X_train =  normalize(np.array(img_arr_train))\n",
    "X_test = normalize(np.array(img_arr_test))\n",
    "y_train = np.array(lb_arr_train)\n",
    "y_test = np.array(lb_arr_test)"
   ]
  },
  {
   "source": [
    "## Data classification"
   ],
   "cell_type": "markdown",
   "metadata": {}
  },
  {
   "source": [
    "### Softmax "
   ],
   "cell_type": "markdown",
   "metadata": {}
  },
  {
   "cell_type": "code",
   "execution_count": 62,
   "metadata": {},
   "outputs": [],
   "source": [
    "class MultiClassLogisticRegression:\n",
    "    \n",
    "    def __init__(self, n_iter, lr, i_Acc):\n",
    "        self.n_iter = n_iter     #Vong lap\n",
    "        self.isBreak =  0.0001     #do chenh lenh dung\n",
    "        self.lr =  lr  #Learning rate\n",
    "        self.i_Acc = i_Acc\n",
    "\n",
    "    def fit(self, X, y, X_val, y_val): \n",
    "        self.classes = np.unique(y)   #lay ra all cac du lieu khac nhau cua y giong nhu set\n",
    "        self.class_labels = {c:i for i,c in enumerate(self.classes)}   #dan nhan cho tuong class\n",
    "        X, y = self.ADCT(X, y)  #CT trong giao trinh\n",
    "        X_val, y_val = self.ADCT(X_val, y_val)\n",
    "        self.loss_train = []\n",
    "        self.error_train = []\n",
    "        self.loss_test = [] \n",
    "        self.error_test = []\n",
    "        self.weights = np.zeros(shape=(len(self.classes),X.shape[1]))  #(10x784) \n",
    "        self.gradient_descent(X, y,  X_val, y_val)\n",
    "        return self\n",
    "    \n",
    "    def ADCT(self, x, y):\n",
    "        x = self.add_bias(x)  #CT trong giao trinh\n",
    "        y = self.one_hot(y)   #CT trong giao trinh\n",
    "        return x, y\n",
    " \n",
    "    def gradient_descent(self, X, y, X_val, y_val):\n",
    "          start = perf_counter()\n",
    "          j = 0\n",
    "          for i in range(self.n_iter):\n",
    "            \n",
    "            self.multinomial_logreg_error(X, y, X_val, y_val)\n",
    "            update = self.multinomial_logreg_grad_i(X, y)\n",
    "            self.weights += update\n",
    "            if np.abs(update).max() < self.isBreak: \n",
    "                break\n",
    "            if i % self.i_Acc == 0: \n",
    "                \n",
    "                message = 'Loop {},  Loss_train {},  Acc_train {}, Loss_test {}, Acc_test {}'.format(i+1,self.loss_train[i], self.error_train[i], self.loss_test[i], self.error_test[i])\n",
    "                j += 1\n",
    "                print(message)\n",
    "          end = perf_counter()\n",
    "          time = int(end) - int(start)\n",
    "          print('Chuong trinh chay mat: {} s'.format(time))\n",
    "     \n",
    "    def multinomial_logreg_error(self, X, y, X_val, y_val):\n",
    "          self.loss_train.append(self.multinomial_logreg_loss_i(y, self.predict(X)))\n",
    "          self.error_train.append(self.evaluate(X, y))\n",
    "          self.loss_test.append(self.multinomial_logreg_loss_i(y_val, self.predict(X_val)))\n",
    "          self.error_test.append(self.evaluate(X_val, y_val))\n",
    "    \n",
    "    def predict(self, X):\n",
    "        pre_vals = np.dot(X, self.weights.T).reshape(-1,len(self.classes))\n",
    "        return self.softmax(pre_vals)\n",
    "    \n",
    "    def softmax(self, z):\n",
    "        return np.exp(z) / np.sum(np.exp(z), axis=1).reshape(-1,1)\n",
    "\n",
    "    def CheckModel(self, X, number):\n",
    "        print('Dự đoán cua X_test[{}] la: {}'.format(number, self.predict_class(X)[number]))\n",
    "        \n",
    "        plt.imshow(X_test[number].reshape(28,28), cmap='gray')\n",
    "        plt.show()\n",
    "\n",
    "    def predict_class(self, X):\n",
    "        X_add = self.predict(self.add_bias(X))   #Xac suat\n",
    "        return np.argmax(X_add, axis=1)\n",
    "\n",
    "    def add_bias(self,X):\n",
    "        return np.insert(X, 0, 1, axis=1)\n",
    "  \n",
    "    def one_hot(self, y):\n",
    "        return np.eye(len(self.classes))[(y).reshape(-1)]\n",
    "    \n",
    "    def evaluate(self, X, y):\n",
    "        return np.mean(np.argmax(self.predict(X), axis=1) == np.argmax(y, axis=1))\n",
    "    \n",
    "    #cross_entropy\n",
    "    def multinomial_logreg_loss_i(self, y, probs):\n",
    "        return -(np.mean(y * np.log(probs)))\n",
    "\n",
    "    def score(self, X, y):\n",
    "        return np.mean(self.predict_class(X) == y)\n",
    "\n",
    "    def multinomial_logreg_grad_i(self, X, y):\n",
    "        error = y - self.predict(X)\n",
    "        return (self.lr * np.dot(error.T, X))\n",
    "    "
   ]
  },
  {
   "source": [
    "## Json Object Storage System"
   ],
   "cell_type": "markdown",
   "metadata": {}
  },
  {
   "source": [
    "## test save file with pickle"
   ],
   "cell_type": "markdown",
   "metadata": {}
  },
  {
   "cell_type": "code",
   "execution_count": 68,
   "metadata": {},
   "outputs": [],
   "source": [
    "# save the model to disk\n",
    "def save_model(obj, filename):\n",
    "    filename = os.path.join(os.path.abspath('./pretrain_models/'), filename + \".sav\")\n",
    "    pickle_file = open(filename, 'wb')\n",
    "    pickle.dump(obj, pickle_file)\n",
    "    pickle_file.close()\n",
    "\n",
    "def load_model(filename):\n",
    "    file_path = os.path.join(os.path.abspath('./pretrain_models/'), filename)\n",
    "    loaded_model = pickle.load(open(file_path, 'rb'))\n",
    "    return loaded_model"
   ]
  },
  {
   "cell_type": "code",
   "execution_count": 70,
   "metadata": {},
   "outputs": [
    {
     "output_type": "stream",
     "name": "stdout",
     "text": [
      "Loop 1,  Loss_train 0.23025850929940458,  Acc_train 0.098, Loss_test 0.23025850929940433, Acc_test 0.09871666666666666\n",
      "Loop 11,  Loss_train 0.09274982761646215,  Acc_train 0.777, Loss_test 0.09684620923464225, Acc_test 0.7626166666666667\n",
      "Loop 21,  Loss_train 0.056027020742564576,  Acc_train 0.8204, Loss_test 0.06150368228517593, Acc_test 0.8010166666666667\n",
      "Loop 31,  Loss_train 0.0407000981757175,  Acc_train 0.8819, Loss_test 0.046663963116460996, Acc_test 0.8622666666666666\n",
      "Loop 41,  Loss_train 0.03605998136829538,  Acc_train 0.9008, Loss_test 0.04217300165728041, Acc_test 0.8807\n",
      "Loop 51,  Loss_train 0.034307440230928854,  Acc_train 0.9051, Loss_test 0.04064327421577704, Acc_test 0.8858\n",
      "Loop 61,  Loss_train 0.03301145487070379,  Acc_train 0.9095, Loss_test 0.03957250755087033, Acc_test 0.8887833333333334\n",
      "Loop 71,  Loss_train 0.031970935836651164,  Acc_train 0.9117, Loss_test 0.03874499329487194, Acc_test 0.8910166666666667\n",
      "Loop 81,  Loss_train 0.03110615118640057,  Acc_train 0.9141, Loss_test 0.03808123816710003, Acc_test 0.8930333333333333\n",
      "Loop 91,  Loss_train 0.03036953106655335,  Acc_train 0.9163, Loss_test 0.03753553706261142, Acc_test 0.8941666666666667\n",
      "Chuong trinh chay mat: 64 s\n"
     ]
    }
   ],
   "source": [
    "lr_100 = MultiClassLogisticRegression(100, 0.0001, 10)\n",
    "lr_100.fit(X_train,y_train, X_test, y_test)\n",
    "\n",
    "# save model 100\n",
    "save_model(lr_100, \"lr100\")"
   ]
  },
  {
   "cell_type": "code",
   "execution_count": 64,
   "metadata": {},
   "outputs": [
    {
     "output_type": "stream",
     "name": "stdout",
     "text": [
      "Dự đoán cua X_test[99] la: 1\n"
     ]
    },
    {
     "output_type": "display_data",
     "data": {
      "text/plain": "<Figure size 432x288 with 1 Axes>",
      "image/svg+xml": "<?xml version=\"1.0\" encoding=\"utf-8\" standalone=\"no\"?>\r\n<!DOCTYPE svg PUBLIC \"-//W3C//DTD SVG 1.1//EN\"\r\n  \"http://www.w3.org/Graphics/SVG/1.1/DTD/svg11.dtd\">\r\n<!-- Created with matplotlib (https://matplotlib.org/) -->\r\n<svg height=\"248.518125pt\" version=\"1.1\" viewBox=\"0 0 251.565 248.518125\" width=\"251.565pt\" xmlns=\"http://www.w3.org/2000/svg\" xmlns:xlink=\"http://www.w3.org/1999/xlink\">\r\n <metadata>\r\n  <rdf:RDF xmlns:cc=\"http://creativecommons.org/ns#\" xmlns:dc=\"http://purl.org/dc/elements/1.1/\" xmlns:rdf=\"http://www.w3.org/1999/02/22-rdf-syntax-ns#\">\r\n   <cc:Work>\r\n    <dc:type rdf:resource=\"http://purl.org/dc/dcmitype/StillImage\"/>\r\n    <dc:date>2021-06-02T20:51:30.926543</dc:date>\r\n    <dc:format>image/svg+xml</dc:format>\r\n    <dc:creator>\r\n     <cc:Agent>\r\n      <dc:title>Matplotlib v3.3.0, https://matplotlib.org/</dc:title>\r\n     </cc:Agent>\r\n    </dc:creator>\r\n   </cc:Work>\r\n  </rdf:RDF>\r\n </metadata>\r\n <defs>\r\n  <style type=\"text/css\">*{stroke-linecap:butt;stroke-linejoin:round;}</style>\r\n </defs>\r\n <g id=\"figure_1\">\r\n  <g id=\"patch_1\">\r\n   <path d=\"M 0 248.518125 \r\nL 251.565 248.518125 \r\nL 251.565 0 \r\nL 0 0 \r\nz\r\n\" style=\"fill:none;\"/>\r\n  </g>\r\n  <g id=\"axes_1\">\r\n   <g id=\"patch_2\">\r\n    <path d=\"M 26.925 224.64 \r\nL 244.365 224.64 \r\nL 244.365 7.2 \r\nL 26.925 7.2 \r\nz\r\n\" style=\"fill:#ffffff;\"/>\r\n   </g>\r\n   <g clip-path=\"url(#pd6bfc74193)\">\r\n    <image height=\"218\" id=\"imagefd1a97037a\" transform=\"scale(1 -1)translate(0 -218)\" width=\"218\" x=\"26.925\" xlink:href=\"data:image/png;base64,\r\niVBORw0KGgoAAAANSUhEUgAAANoAAADaCAYAAADAHVzbAAAE4klEQVR4nO3dsUvUfxzH8bMcIk1QGprEJShQcmkLmqQQZyeRxiBx6A8QF6HNRXB1C1ptK2dxCxRCQhDUxUFDxLXfP/D7vo/Oep15j8f64nt9IZ5+4L7cXV+r1frVAv6qO92+AegFQoMAoUGA0CBAaBAgNAgQGgQIDQKEBgFCgwChQYDQIEBoECA0CBAaBAgNAoQGAUKDAKFBgNAgQGgQIDQI6O/2DXTL2NhYuR8cHJT73NxcuX/8+PF3b4lbzIkGAUKDAKFBgNAgQGgQIDQIEBoE9LV69GebRkdHy/3Hjx/l/vPnz3J/9epV4/bt27fyWm4fJxoECA0ChAYBQoMAoUGA0CBAaBDQs8/R2nn9+nW5r6yslPudO81/w16+fFlee3FxUe78e5xoECA0CBAaBAgNAoQGAUKDAKFBgOdoHWr3vY2zs7ON2/HxcXltu+dsh4eH5c7N40SDAKFBgNAgQGgQIDQIEBoECA0Cevb30a5rY2Oj3J89e9a4DQ8Pl9feu3evk1viBnOiQYDQIEBoECA0CBAaBAgNAnxMpkPt3qJfWFho3JaXl8trv379Wu6Li4vlvr+/X+7kOdEgQGgQIDQIEBoECA0ChAYBQoMAz9H+kpGRkcbty5cv5bWTk5Plvrm5We7v3r0r95OTk3Lnz3OiQYDQIEBoECA0CBAaBAgNAoQGAZ6jdcHU1FS5r6+vl/vAwEC5r62tlfvKykq58+c50SBAaBAgNAgQGgQIDQKEBgFCgwDP0bqg3XdCtvvex+o7I1utVuv09LTcX7x40bgdHByU19IZJxoECA0ChAYBQoMAoUGA0CCgv9s30IvOz8/L/enTp9d6/f7++r+1r6/vWq/P73OiQYDQIEBoECA0CBAaBAgNAoQGAZ6j3UDtvg7u8ePH5T44OFju8/PzjdvS0lJ5LZ1xokGA0CBAaBAgNAgQGgQIDQKEBgG+bu4GGhoaKvc3b96U++rqarmfnZ01bs+fPy+vPTw8LHf+nxMNAoQGAUKDAKFBgNAgQGgQIDQI8Hm0G+ji4qLcv3//fq3XHxkZadwWFxfLa9+/f3+tf7tXOdEgQGgQIDQIEBoECA0ChAYBQoMAz9H+Qdvb2+W+u7tb7hMTE43bo0ePOronak40CBAaBAgNAoQGAUKDAKFBgLf3/0GXl5flvrOzU+7V2/vT09PltTMzM+X++fPncu9VTjQIEBoECA0ChAYBQoMAoUGA0CDAc7RbqPpZpnYePHhQ7j5G0xknGgQIDQKEBgFCgwChQYDQIEBoENDXarV+dfsm+LPGx8fLfWtrq3F7+PBhee3V1VW5P3nypNxPTk7K/bZyokGA0CBAaBAgNAgQGgQIDQKEBgE+j3YL7e3tlfvx8XHj1u452v3798v97t275d6rnGgQIDQIEBoECA0ChAYBQoMAoUGA0CBAaBAgNAgQGgQIDQKEBgFCgwAfk+lBHz58aNw+ffpUXvv27dtyPzo66uiebjsnGgQIDQKEBgFCgwChQYDQIEBoEOBnmyDAiQYBQoMAoUGA0CBAaBAgNAgQGgQIDQKEBgFCgwChQYDQIEBoECA0CBAaBAgNAoQGAUKDAKFBgNAgQGgQIDQIEBoECA0ChAYBQoMAoUGA0CBAaBAgNAgQGgQIDQKEBgFCgwChQYDQIEBoECA0CPgPFkeQHSg+1/UAAAAASUVORK5CYII=\" y=\"-6.64\"/>\r\n   </g>\r\n   <g id=\"matplotlib.axis_1\">\r\n    <g id=\"xtick_1\">\r\n     <g id=\"line2d_1\">\r\n      <defs>\r\n       <path d=\"M 0 0 \r\nL 0 3.5 \r\n\" id=\"m900e36c518\" style=\"stroke:#000000;stroke-width:0.8;\"/>\r\n      </defs>\r\n      <g>\r\n       <use style=\"stroke:#000000;stroke-width:0.8;\" x=\"30.807857\" xlink:href=\"#m900e36c518\" y=\"224.64\"/>\r\n      </g>\r\n     </g>\r\n     <g id=\"text_1\">\r\n      <!-- 0 -->\r\n      <g transform=\"translate(27.626607 239.238437)scale(0.1 -0.1)\">\r\n       <defs>\r\n        <path d=\"M 31.78125 66.40625 \r\nQ 24.171875 66.40625 20.328125 58.90625 \r\nQ 16.5 51.421875 16.5 36.375 \r\nQ 16.5 21.390625 20.328125 13.890625 \r\nQ 24.171875 6.390625 31.78125 6.390625 \r\nQ 39.453125 6.390625 43.28125 13.890625 \r\nQ 47.125 21.390625 47.125 36.375 \r\nQ 47.125 51.421875 43.28125 58.90625 \r\nQ 39.453125 66.40625 31.78125 66.40625 \r\nz\r\nM 31.78125 74.21875 \r\nQ 44.046875 74.21875 50.515625 64.515625 \r\nQ 56.984375 54.828125 56.984375 36.375 \r\nQ 56.984375 17.96875 50.515625 8.265625 \r\nQ 44.046875 -1.421875 31.78125 -1.421875 \r\nQ 19.53125 -1.421875 13.0625 8.265625 \r\nQ 6.59375 17.96875 6.59375 36.375 \r\nQ 6.59375 54.828125 13.0625 64.515625 \r\nQ 19.53125 74.21875 31.78125 74.21875 \r\nz\r\n\" id=\"DejaVuSans-48\"/>\r\n       </defs>\r\n       <use xlink:href=\"#DejaVuSans-48\"/>\r\n      </g>\r\n     </g>\r\n    </g>\r\n    <g id=\"xtick_2\">\r\n     <g id=\"line2d_2\">\r\n      <g>\r\n       <use style=\"stroke:#000000;stroke-width:0.8;\" x=\"69.636429\" xlink:href=\"#m900e36c518\" y=\"224.64\"/>\r\n      </g>\r\n     </g>\r\n     <g id=\"text_2\">\r\n      <!-- 5 -->\r\n      <g transform=\"translate(66.455179 239.238437)scale(0.1 -0.1)\">\r\n       <defs>\r\n        <path d=\"M 10.796875 72.90625 \r\nL 49.515625 72.90625 \r\nL 49.515625 64.59375 \r\nL 19.828125 64.59375 \r\nL 19.828125 46.734375 \r\nQ 21.96875 47.46875 24.109375 47.828125 \r\nQ 26.265625 48.1875 28.421875 48.1875 \r\nQ 40.625 48.1875 47.75 41.5 \r\nQ 54.890625 34.8125 54.890625 23.390625 \r\nQ 54.890625 11.625 47.5625 5.09375 \r\nQ 40.234375 -1.421875 26.90625 -1.421875 \r\nQ 22.3125 -1.421875 17.546875 -0.640625 \r\nQ 12.796875 0.140625 7.71875 1.703125 \r\nL 7.71875 11.625 \r\nQ 12.109375 9.234375 16.796875 8.0625 \r\nQ 21.484375 6.890625 26.703125 6.890625 \r\nQ 35.15625 6.890625 40.078125 11.328125 \r\nQ 45.015625 15.765625 45.015625 23.390625 \r\nQ 45.015625 31 40.078125 35.4375 \r\nQ 35.15625 39.890625 26.703125 39.890625 \r\nQ 22.75 39.890625 18.8125 39.015625 \r\nQ 14.890625 38.140625 10.796875 36.28125 \r\nz\r\n\" id=\"DejaVuSans-53\"/>\r\n       </defs>\r\n       <use xlink:href=\"#DejaVuSans-53\"/>\r\n      </g>\r\n     </g>\r\n    </g>\r\n    <g id=\"xtick_3\">\r\n     <g id=\"line2d_3\">\r\n      <g>\r\n       <use style=\"stroke:#000000;stroke-width:0.8;\" x=\"108.465\" xlink:href=\"#m900e36c518\" y=\"224.64\"/>\r\n      </g>\r\n     </g>\r\n     <g id=\"text_3\">\r\n      <!-- 10 -->\r\n      <g transform=\"translate(102.1025 239.238437)scale(0.1 -0.1)\">\r\n       <defs>\r\n        <path d=\"M 12.40625 8.296875 \r\nL 28.515625 8.296875 \r\nL 28.515625 63.921875 \r\nL 10.984375 60.40625 \r\nL 10.984375 69.390625 \r\nL 28.421875 72.90625 \r\nL 38.28125 72.90625 \r\nL 38.28125 8.296875 \r\nL 54.390625 8.296875 \r\nL 54.390625 0 \r\nL 12.40625 0 \r\nz\r\n\" id=\"DejaVuSans-49\"/>\r\n       </defs>\r\n       <use xlink:href=\"#DejaVuSans-49\"/>\r\n       <use x=\"63.623047\" xlink:href=\"#DejaVuSans-48\"/>\r\n      </g>\r\n     </g>\r\n    </g>\r\n    <g id=\"xtick_4\">\r\n     <g id=\"line2d_4\">\r\n      <g>\r\n       <use style=\"stroke:#000000;stroke-width:0.8;\" x=\"147.293571\" xlink:href=\"#m900e36c518\" y=\"224.64\"/>\r\n      </g>\r\n     </g>\r\n     <g id=\"text_4\">\r\n      <!-- 15 -->\r\n      <g transform=\"translate(140.931071 239.238437)scale(0.1 -0.1)\">\r\n       <use xlink:href=\"#DejaVuSans-49\"/>\r\n       <use x=\"63.623047\" xlink:href=\"#DejaVuSans-53\"/>\r\n      </g>\r\n     </g>\r\n    </g>\r\n    <g id=\"xtick_5\">\r\n     <g id=\"line2d_5\">\r\n      <g>\r\n       <use style=\"stroke:#000000;stroke-width:0.8;\" x=\"186.122143\" xlink:href=\"#m900e36c518\" y=\"224.64\"/>\r\n      </g>\r\n     </g>\r\n     <g id=\"text_5\">\r\n      <!-- 20 -->\r\n      <g transform=\"translate(179.759643 239.238437)scale(0.1 -0.1)\">\r\n       <defs>\r\n        <path d=\"M 19.1875 8.296875 \r\nL 53.609375 8.296875 \r\nL 53.609375 0 \r\nL 7.328125 0 \r\nL 7.328125 8.296875 \r\nQ 12.9375 14.109375 22.625 23.890625 \r\nQ 32.328125 33.6875 34.8125 36.53125 \r\nQ 39.546875 41.84375 41.421875 45.53125 \r\nQ 43.3125 49.21875 43.3125 52.78125 \r\nQ 43.3125 58.59375 39.234375 62.25 \r\nQ 35.15625 65.921875 28.609375 65.921875 \r\nQ 23.96875 65.921875 18.8125 64.3125 \r\nQ 13.671875 62.703125 7.8125 59.421875 \r\nL 7.8125 69.390625 \r\nQ 13.765625 71.78125 18.9375 73 \r\nQ 24.125 74.21875 28.421875 74.21875 \r\nQ 39.75 74.21875 46.484375 68.546875 \r\nQ 53.21875 62.890625 53.21875 53.421875 \r\nQ 53.21875 48.921875 51.53125 44.890625 \r\nQ 49.859375 40.875 45.40625 35.40625 \r\nQ 44.1875 33.984375 37.640625 27.21875 \r\nQ 31.109375 20.453125 19.1875 8.296875 \r\nz\r\n\" id=\"DejaVuSans-50\"/>\r\n       </defs>\r\n       <use xlink:href=\"#DejaVuSans-50\"/>\r\n       <use x=\"63.623047\" xlink:href=\"#DejaVuSans-48\"/>\r\n      </g>\r\n     </g>\r\n    </g>\r\n    <g id=\"xtick_6\">\r\n     <g id=\"line2d_6\">\r\n      <g>\r\n       <use style=\"stroke:#000000;stroke-width:0.8;\" x=\"224.950714\" xlink:href=\"#m900e36c518\" y=\"224.64\"/>\r\n      </g>\r\n     </g>\r\n     <g id=\"text_6\">\r\n      <!-- 25 -->\r\n      <g transform=\"translate(218.588214 239.238437)scale(0.1 -0.1)\">\r\n       <use xlink:href=\"#DejaVuSans-50\"/>\r\n       <use x=\"63.623047\" xlink:href=\"#DejaVuSans-53\"/>\r\n      </g>\r\n     </g>\r\n    </g>\r\n   </g>\r\n   <g id=\"matplotlib.axis_2\">\r\n    <g id=\"ytick_1\">\r\n     <g id=\"line2d_7\">\r\n      <defs>\r\n       <path d=\"M 0 0 \r\nL -3.5 0 \r\n\" id=\"m2897d9bd05\" style=\"stroke:#000000;stroke-width:0.8;\"/>\r\n      </defs>\r\n      <g>\r\n       <use style=\"stroke:#000000;stroke-width:0.8;\" x=\"26.925\" xlink:href=\"#m2897d9bd05\" y=\"11.082857\"/>\r\n      </g>\r\n     </g>\r\n     <g id=\"text_7\">\r\n      <!-- 0 -->\r\n      <g transform=\"translate(13.5625 14.882076)scale(0.1 -0.1)\">\r\n       <use xlink:href=\"#DejaVuSans-48\"/>\r\n      </g>\r\n     </g>\r\n    </g>\r\n    <g id=\"ytick_2\">\r\n     <g id=\"line2d_8\">\r\n      <g>\r\n       <use style=\"stroke:#000000;stroke-width:0.8;\" x=\"26.925\" xlink:href=\"#m2897d9bd05\" y=\"49.911429\"/>\r\n      </g>\r\n     </g>\r\n     <g id=\"text_8\">\r\n      <!-- 5 -->\r\n      <g transform=\"translate(13.5625 53.710647)scale(0.1 -0.1)\">\r\n       <use xlink:href=\"#DejaVuSans-53\"/>\r\n      </g>\r\n     </g>\r\n    </g>\r\n    <g id=\"ytick_3\">\r\n     <g id=\"line2d_9\">\r\n      <g>\r\n       <use style=\"stroke:#000000;stroke-width:0.8;\" x=\"26.925\" xlink:href=\"#m2897d9bd05\" y=\"88.74\"/>\r\n      </g>\r\n     </g>\r\n     <g id=\"text_9\">\r\n      <!-- 10 -->\r\n      <g transform=\"translate(7.2 92.539219)scale(0.1 -0.1)\">\r\n       <use xlink:href=\"#DejaVuSans-49\"/>\r\n       <use x=\"63.623047\" xlink:href=\"#DejaVuSans-48\"/>\r\n      </g>\r\n     </g>\r\n    </g>\r\n    <g id=\"ytick_4\">\r\n     <g id=\"line2d_10\">\r\n      <g>\r\n       <use style=\"stroke:#000000;stroke-width:0.8;\" x=\"26.925\" xlink:href=\"#m2897d9bd05\" y=\"127.568571\"/>\r\n      </g>\r\n     </g>\r\n     <g id=\"text_10\">\r\n      <!-- 15 -->\r\n      <g transform=\"translate(7.2 131.36779)scale(0.1 -0.1)\">\r\n       <use xlink:href=\"#DejaVuSans-49\"/>\r\n       <use x=\"63.623047\" xlink:href=\"#DejaVuSans-53\"/>\r\n      </g>\r\n     </g>\r\n    </g>\r\n    <g id=\"ytick_5\">\r\n     <g id=\"line2d_11\">\r\n      <g>\r\n       <use style=\"stroke:#000000;stroke-width:0.8;\" x=\"26.925\" xlink:href=\"#m2897d9bd05\" y=\"166.397143\"/>\r\n      </g>\r\n     </g>\r\n     <g id=\"text_11\">\r\n      <!-- 20 -->\r\n      <g transform=\"translate(7.2 170.196362)scale(0.1 -0.1)\">\r\n       <use xlink:href=\"#DejaVuSans-50\"/>\r\n       <use x=\"63.623047\" xlink:href=\"#DejaVuSans-48\"/>\r\n      </g>\r\n     </g>\r\n    </g>\r\n    <g id=\"ytick_6\">\r\n     <g id=\"line2d_12\">\r\n      <g>\r\n       <use style=\"stroke:#000000;stroke-width:0.8;\" x=\"26.925\" xlink:href=\"#m2897d9bd05\" y=\"205.225714\"/>\r\n      </g>\r\n     </g>\r\n     <g id=\"text_12\">\r\n      <!-- 25 -->\r\n      <g transform=\"translate(7.2 209.024933)scale(0.1 -0.1)\">\r\n       <use xlink:href=\"#DejaVuSans-50\"/>\r\n       <use x=\"63.623047\" xlink:href=\"#DejaVuSans-53\"/>\r\n      </g>\r\n     </g>\r\n    </g>\r\n   </g>\r\n   <g id=\"patch_3\">\r\n    <path d=\"M 26.925 224.64 \r\nL 26.925 7.2 \r\n\" style=\"fill:none;stroke:#000000;stroke-linecap:square;stroke-linejoin:miter;stroke-width:0.8;\"/>\r\n   </g>\r\n   <g id=\"patch_4\">\r\n    <path d=\"M 244.365 224.64 \r\nL 244.365 7.2 \r\n\" style=\"fill:none;stroke:#000000;stroke-linecap:square;stroke-linejoin:miter;stroke-width:0.8;\"/>\r\n   </g>\r\n   <g id=\"patch_5\">\r\n    <path d=\"M 26.925 224.64 \r\nL 244.365 224.64 \r\n\" style=\"fill:none;stroke:#000000;stroke-linecap:square;stroke-linejoin:miter;stroke-width:0.8;\"/>\r\n   </g>\r\n   <g id=\"patch_6\">\r\n    <path d=\"M 26.925 7.2 \r\nL 244.365 7.2 \r\n\" style=\"fill:none;stroke:#000000;stroke-linecap:square;stroke-linejoin:miter;stroke-width:0.8;\"/>\r\n   </g>\r\n  </g>\r\n </g>\r\n <defs>\r\n  <clipPath id=\"pd6bfc74193\">\r\n   <rect height=\"217.44\" width=\"217.44\" x=\"26.925\" y=\"7.2\"/>\r\n  </clipPath>\r\n </defs>\r\n</svg>\r\n",
      "image/png": "[encoded data removed]"
     },
     "metadata": {
      "needs_background": "light"
     }
    },
    {
     "output_type": "execute_result",
     "data": {
      "text/plain": [
       "0.8949333333333334"
      ]
     },
     "metadata": {},
     "execution_count": 64
    }
   ],
   "source": [
    "lr_100.CheckModel(X_test, 99)\n",
    "lr_100.score(X_test, y_test)"
   ]
  },
  {
   "cell_type": "code",
   "execution_count": 72,
   "metadata": {},
   "outputs": [
    {
     "output_type": "stream",
     "name": "stdout",
     "text": [
      "Dự đoán cua X_test[99] la: 1\n"
     ]
    },
    {
     "output_type": "display_data",
     "data": {
      "text/plain": "<Figure size 432x288 with 1 Axes>",
      "image/svg+xml": "<?xml version=\"1.0\" encoding=\"utf-8\" standalone=\"no\"?>\r\n<!DOCTYPE svg PUBLIC \"-//W3C//DTD SVG 1.1//EN\"\r\n  \"http://www.w3.org/Graphics/SVG/1.1/DTD/svg11.dtd\">\r\n<!-- Created with matplotlib (https://matplotlib.org/) -->\r\n<svg height=\"248.518125pt\" version=\"1.1\" viewBox=\"0 0 251.565 248.518125\" width=\"251.565pt\" xmlns=\"http://www.w3.org/2000/svg\" xmlns:xlink=\"http://www.w3.org/1999/xlink\">\r\n <metadata>\r\n  <rdf:RDF xmlns:cc=\"http://creativecommons.org/ns#\" xmlns:dc=\"http://purl.org/dc/elements/1.1/\" xmlns:rdf=\"http://www.w3.org/1999/02/22-rdf-syntax-ns#\">\r\n   <cc:Work>\r\n    <dc:type rdf:resource=\"http://purl.org/dc/dcmitype/StillImage\"/>\r\n    <dc:date>2021-06-02T20:59:00.285469</dc:date>\r\n    <dc:format>image/svg+xml</dc:format>\r\n    <dc:creator>\r\n     <cc:Agent>\r\n      <dc:title>Matplotlib v3.3.0, https://matplotlib.org/</dc:title>\r\n     </cc:Agent>\r\n    </dc:creator>\r\n   </cc:Work>\r\n  </rdf:RDF>\r\n </metadata>\r\n <defs>\r\n  <style type=\"text/css\">*{stroke-linecap:butt;stroke-linejoin:round;}</style>\r\n </defs>\r\n <g id=\"figure_1\">\r\n  <g id=\"patch_1\">\r\n   <path d=\"M 0 248.518125 \r\nL 251.565 248.518125 \r\nL 251.565 0 \r\nL 0 0 \r\nz\r\n\" style=\"fill:none;\"/>\r\n  </g>\r\n  <g id=\"axes_1\">\r\n   <g id=\"patch_2\">\r\n    <path d=\"M 26.925 224.64 \r\nL 244.365 224.64 \r\nL 244.365 7.2 \r\nL 26.925 7.2 \r\nz\r\n\" style=\"fill:#ffffff;\"/>\r\n   </g>\r\n   <g clip-path=\"url(#p717fb416ed)\">\r\n    <image height=\"218\" id=\"image330c49ff05\" transform=\"scale(1 -1)translate(0 -218)\" width=\"218\" x=\"26.925\" xlink:href=\"data:image/png;base64,\r\niVBORw0KGgoAAAANSUhEUgAAANoAAADaCAYAAADAHVzbAAAE4klEQVR4nO3dsUvUfxzH8bMcIk1QGprEJShQcmkLmqQQZyeRxiBx6A8QF6HNRXB1C1ptK2dxCxRCQhDUxUFDxLXfP/D7vo/Oep15j8f64nt9IZ5+4L7cXV+r1frVAv6qO92+AegFQoMAoUGA0CBAaBAgNAgQGgQIDQKEBgFCgwChQYDQIEBoECA0CBAaBAgNAoQGAUKDAKFBgNAgQGgQIDQI6O/2DXTL2NhYuR8cHJT73NxcuX/8+PF3b4lbzIkGAUKDAKFBgNAgQGgQIDQIEBoE9LV69GebRkdHy/3Hjx/l/vPnz3J/9epV4/bt27fyWm4fJxoECA0ChAYBQoMAoUGA0CBAaBDQs8/R2nn9+nW5r6yslPudO81/w16+fFlee3FxUe78e5xoECA0CBAaBAgNAoQGAUKDAKFBgOdoHWr3vY2zs7ON2/HxcXltu+dsh4eH5c7N40SDAKFBgNAgQGgQIDQIEBoECA0Cevb30a5rY2Oj3J89e9a4DQ8Pl9feu3evk1viBnOiQYDQIEBoECA0CBAaBAgNAnxMpkPt3qJfWFho3JaXl8trv379Wu6Li4vlvr+/X+7kOdEgQGgQIDQIEBoECA0ChAYBQoMAz9H+kpGRkcbty5cv5bWTk5Plvrm5We7v3r0r95OTk3Lnz3OiQYDQIEBoECA0CBAaBAgNAoQGAZ6jdcHU1FS5r6+vl/vAwEC5r62tlfvKykq58+c50SBAaBAgNAgQGgQIDQKEBgFCgwDP0bqg3XdCtvvex+o7I1utVuv09LTcX7x40bgdHByU19IZJxoECA0ChAYBQoMAoUGA0CCgv9s30IvOz8/L/enTp9d6/f7++r+1r6/vWq/P73OiQYDQIEBoECA0CBAaBAgNAoQGAZ6j3UDtvg7u8ePH5T44OFju8/PzjdvS0lJ5LZ1xokGA0CBAaBAgNAgQGgQIDQKEBgG+bu4GGhoaKvc3b96U++rqarmfnZ01bs+fPy+vPTw8LHf+nxMNAoQGAUKDAKFBgNAgQGgQIDQI8Hm0G+ji4qLcv3//fq3XHxkZadwWFxfLa9+/f3+tf7tXOdEgQGgQIDQIEBoECA0ChAYBQoMAz9H+Qdvb2+W+u7tb7hMTE43bo0ePOronak40CBAaBAgNAoQGAUKDAKFBgLf3/0GXl5flvrOzU+7V2/vT09PltTMzM+X++fPncu9VTjQIEBoECA0ChAYBQoMAoUGA0CDAc7RbqPpZpnYePHhQ7j5G0xknGgQIDQKEBgFCgwChQYDQIEBoENDXarV+dfsm+LPGx8fLfWtrq3F7+PBhee3V1VW5P3nypNxPTk7K/bZyokGA0CBAaBAgNAgQGgQIDQKEBgE+j3YL7e3tlfvx8XHj1u452v3798v97t275d6rnGgQIDQIEBoECA0ChAYBQoMAoUGA0CBAaBAgNAgQGgQIDQKEBgFCgwAfk+lBHz58aNw+ffpUXvv27dtyPzo66uiebjsnGgQIDQKEBgFCgwChQYDQIEBoEOBnmyDAiQYBQoMAoUGA0CBAaBAgNAgQGgQIDQKEBgFCgwChQYDQIEBoECA0CBAaBAgNAoQGAUKDAKFBgNAgQGgQIDQIEBoECA0ChAYBQoMAoUGA0CBAaBAgNAgQGgQIDQKEBgFCgwChQYDQIEBoECA0CPgPFkeQHSg+1/UAAAAASUVORK5CYII=\" y=\"-6.64\"/>\r\n   </g>\r\n   <g id=\"matplotlib.axis_1\">\r\n    <g id=\"xtick_1\">\r\n     <g id=\"line2d_1\">\r\n      <defs>\r\n       <path d=\"M 0 0 \r\nL 0 3.5 \r\n\" id=\"mef48b7f012\" style=\"stroke:#000000;stroke-width:0.8;\"/>\r\n      </defs>\r\n      <g>\r\n       <use style=\"stroke:#000000;stroke-width:0.8;\" x=\"30.807857\" xlink:href=\"#mef48b7f012\" y=\"224.64\"/>\r\n      </g>\r\n     </g>\r\n     <g id=\"text_1\">\r\n      <!-- 0 -->\r\n      <g transform=\"translate(27.626607 239.238437)scale(0.1 -0.1)\">\r\n       <defs>\r\n        <path d=\"M 31.78125 66.40625 \r\nQ 24.171875 66.40625 20.328125 58.90625 \r\nQ 16.5 51.421875 16.5 36.375 \r\nQ 16.5 21.390625 20.328125 13.890625 \r\nQ 24.171875 6.390625 31.78125 6.390625 \r\nQ 39.453125 6.390625 43.28125 13.890625 \r\nQ 47.125 21.390625 47.125 36.375 \r\nQ 47.125 51.421875 43.28125 58.90625 \r\nQ 39.453125 66.40625 31.78125 66.40625 \r\nz\r\nM 31.78125 74.21875 \r\nQ 44.046875 74.21875 50.515625 64.515625 \r\nQ 56.984375 54.828125 56.984375 36.375 \r\nQ 56.984375 17.96875 50.515625 8.265625 \r\nQ 44.046875 -1.421875 31.78125 -1.421875 \r\nQ 19.53125 -1.421875 13.0625 8.265625 \r\nQ 6.59375 17.96875 6.59375 36.375 \r\nQ 6.59375 54.828125 13.0625 64.515625 \r\nQ 19.53125 74.21875 31.78125 74.21875 \r\nz\r\n\" id=\"DejaVuSans-48\"/>\r\n       </defs>\r\n       <use xlink:href=\"#DejaVuSans-48\"/>\r\n      </g>\r\n     </g>\r\n    </g>\r\n    <g id=\"xtick_2\">\r\n     <g id=\"line2d_2\">\r\n      <g>\r\n       <use style=\"stroke:#000000;stroke-width:0.8;\" x=\"69.636429\" xlink:href=\"#mef48b7f012\" y=\"224.64\"/>\r\n      </g>\r\n     </g>\r\n     <g id=\"text_2\">\r\n      <!-- 5 -->\r\n      <g transform=\"translate(66.455179 239.238437)scale(0.1 -0.1)\">\r\n       <defs>\r\n        <path d=\"M 10.796875 72.90625 \r\nL 49.515625 72.90625 \r\nL 49.515625 64.59375 \r\nL 19.828125 64.59375 \r\nL 19.828125 46.734375 \r\nQ 21.96875 47.46875 24.109375 47.828125 \r\nQ 26.265625 48.1875 28.421875 48.1875 \r\nQ 40.625 48.1875 47.75 41.5 \r\nQ 54.890625 34.8125 54.890625 23.390625 \r\nQ 54.890625 11.625 47.5625 5.09375 \r\nQ 40.234375 -1.421875 26.90625 -1.421875 \r\nQ 22.3125 -1.421875 17.546875 -0.640625 \r\nQ 12.796875 0.140625 7.71875 1.703125 \r\nL 7.71875 11.625 \r\nQ 12.109375 9.234375 16.796875 8.0625 \r\nQ 21.484375 6.890625 26.703125 6.890625 \r\nQ 35.15625 6.890625 40.078125 11.328125 \r\nQ 45.015625 15.765625 45.015625 23.390625 \r\nQ 45.015625 31 40.078125 35.4375 \r\nQ 35.15625 39.890625 26.703125 39.890625 \r\nQ 22.75 39.890625 18.8125 39.015625 \r\nQ 14.890625 38.140625 10.796875 36.28125 \r\nz\r\n\" id=\"DejaVuSans-53\"/>\r\n       </defs>\r\n       <use xlink:href=\"#DejaVuSans-53\"/>\r\n      </g>\r\n     </g>\r\n    </g>\r\n    <g id=\"xtick_3\">\r\n     <g id=\"line2d_3\">\r\n      <g>\r\n       <use style=\"stroke:#000000;stroke-width:0.8;\" x=\"108.465\" xlink:href=\"#mef48b7f012\" y=\"224.64\"/>\r\n      </g>\r\n     </g>\r\n     <g id=\"text_3\">\r\n      <!-- 10 -->\r\n      <g transform=\"translate(102.1025 239.238437)scale(0.1 -0.1)\">\r\n       <defs>\r\n        <path d=\"M 12.40625 8.296875 \r\nL 28.515625 8.296875 \r\nL 28.515625 63.921875 \r\nL 10.984375 60.40625 \r\nL 10.984375 69.390625 \r\nL 28.421875 72.90625 \r\nL 38.28125 72.90625 \r\nL 38.28125 8.296875 \r\nL 54.390625 8.296875 \r\nL 54.390625 0 \r\nL 12.40625 0 \r\nz\r\n\" id=\"DejaVuSans-49\"/>\r\n       </defs>\r\n       <use xlink:href=\"#DejaVuSans-49\"/>\r\n       <use x=\"63.623047\" xlink:href=\"#DejaVuSans-48\"/>\r\n      </g>\r\n     </g>\r\n    </g>\r\n    <g id=\"xtick_4\">\r\n     <g id=\"line2d_4\">\r\n      <g>\r\n       <use style=\"stroke:#000000;stroke-width:0.8;\" x=\"147.293571\" xlink:href=\"#mef48b7f012\" y=\"224.64\"/>\r\n      </g>\r\n     </g>\r\n     <g id=\"text_4\">\r\n      <!-- 15 -->\r\n      <g transform=\"translate(140.931071 239.238437)scale(0.1 -0.1)\">\r\n       <use xlink:href=\"#DejaVuSans-49\"/>\r\n       <use x=\"63.623047\" xlink:href=\"#DejaVuSans-53\"/>\r\n      </g>\r\n     </g>\r\n    </g>\r\n    <g id=\"xtick_5\">\r\n     <g id=\"line2d_5\">\r\n      <g>\r\n       <use style=\"stroke:#000000;stroke-width:0.8;\" x=\"186.122143\" xlink:href=\"#mef48b7f012\" y=\"224.64\"/>\r\n      </g>\r\n     </g>\r\n     <g id=\"text_5\">\r\n      <!-- 20 -->\r\n      <g transform=\"translate(179.759643 239.238437)scale(0.1 -0.1)\">\r\n       <defs>\r\n        <path d=\"M 19.1875 8.296875 \r\nL 53.609375 8.296875 \r\nL 53.609375 0 \r\nL 7.328125 0 \r\nL 7.328125 8.296875 \r\nQ 12.9375 14.109375 22.625 23.890625 \r\nQ 32.328125 33.6875 34.8125 36.53125 \r\nQ 39.546875 41.84375 41.421875 45.53125 \r\nQ 43.3125 49.21875 43.3125 52.78125 \r\nQ 43.3125 58.59375 39.234375 62.25 \r\nQ 35.15625 65.921875 28.609375 65.921875 \r\nQ 23.96875 65.921875 18.8125 64.3125 \r\nQ 13.671875 62.703125 7.8125 59.421875 \r\nL 7.8125 69.390625 \r\nQ 13.765625 71.78125 18.9375 73 \r\nQ 24.125 74.21875 28.421875 74.21875 \r\nQ 39.75 74.21875 46.484375 68.546875 \r\nQ 53.21875 62.890625 53.21875 53.421875 \r\nQ 53.21875 48.921875 51.53125 44.890625 \r\nQ 49.859375 40.875 45.40625 35.40625 \r\nQ 44.1875 33.984375 37.640625 27.21875 \r\nQ 31.109375 20.453125 19.1875 8.296875 \r\nz\r\n\" id=\"DejaVuSans-50\"/>\r\n       </defs>\r\n       <use xlink:href=\"#DejaVuSans-50\"/>\r\n       <use x=\"63.623047\" xlink:href=\"#DejaVuSans-48\"/>\r\n      </g>\r\n     </g>\r\n    </g>\r\n    <g id=\"xtick_6\">\r\n     <g id=\"line2d_6\">\r\n      <g>\r\n       <use style=\"stroke:#000000;stroke-width:0.8;\" x=\"224.950714\" xlink:href=\"#mef48b7f012\" y=\"224.64\"/>\r\n      </g>\r\n     </g>\r\n     <g id=\"text_6\">\r\n      <!-- 25 -->\r\n      <g transform=\"translate(218.588214 239.238437)scale(0.1 -0.1)\">\r\n       <use xlink:href=\"#DejaVuSans-50\"/>\r\n       <use x=\"63.623047\" xlink:href=\"#DejaVuSans-53\"/>\r\n      </g>\r\n     </g>\r\n    </g>\r\n   </g>\r\n   <g id=\"matplotlib.axis_2\">\r\n    <g id=\"ytick_1\">\r\n     <g id=\"line2d_7\">\r\n      <defs>\r\n       <path d=\"M 0 0 \r\nL -3.5 0 \r\n\" id=\"m29e54f4620\" style=\"stroke:#000000;stroke-width:0.8;\"/>\r\n      </defs>\r\n      <g>\r\n       <use style=\"stroke:#000000;stroke-width:0.8;\" x=\"26.925\" xlink:href=\"#m29e54f4620\" y=\"11.082857\"/>\r\n      </g>\r\n     </g>\r\n     <g id=\"text_7\">\r\n      <!-- 0 -->\r\n      <g transform=\"translate(13.5625 14.882076)scale(0.1 -0.1)\">\r\n       <use xlink:href=\"#DejaVuSans-48\"/>\r\n      </g>\r\n     </g>\r\n    </g>\r\n    <g id=\"ytick_2\">\r\n     <g id=\"line2d_8\">\r\n      <g>\r\n       <use style=\"stroke:#000000;stroke-width:0.8;\" x=\"26.925\" xlink:href=\"#m29e54f4620\" y=\"49.911429\"/>\r\n      </g>\r\n     </g>\r\n     <g id=\"text_8\">\r\n      <!-- 5 -->\r\n      <g transform=\"translate(13.5625 53.710647)scale(0.1 -0.1)\">\r\n       <use xlink:href=\"#DejaVuSans-53\"/>\r\n      </g>\r\n     </g>\r\n    </g>\r\n    <g id=\"ytick_3\">\r\n     <g id=\"line2d_9\">\r\n      <g>\r\n       <use style=\"stroke:#000000;stroke-width:0.8;\" x=\"26.925\" xlink:href=\"#m29e54f4620\" y=\"88.74\"/>\r\n      </g>\r\n     </g>\r\n     <g id=\"text_9\">\r\n      <!-- 10 -->\r\n      <g transform=\"translate(7.2 92.539219)scale(0.1 -0.1)\">\r\n       <use xlink:href=\"#DejaVuSans-49\"/>\r\n       <use x=\"63.623047\" xlink:href=\"#DejaVuSans-48\"/>\r\n      </g>\r\n     </g>\r\n    </g>\r\n    <g id=\"ytick_4\">\r\n     <g id=\"line2d_10\">\r\n      <g>\r\n       <use style=\"stroke:#000000;stroke-width:0.8;\" x=\"26.925\" xlink:href=\"#m29e54f4620\" y=\"127.568571\"/>\r\n      </g>\r\n     </g>\r\n     <g id=\"text_10\">\r\n      <!-- 15 -->\r\n      <g transform=\"translate(7.2 131.36779)scale(0.1 -0.1)\">\r\n       <use xlink:href=\"#DejaVuSans-49\"/>\r\n       <use x=\"63.623047\" xlink:href=\"#DejaVuSans-53\"/>\r\n      </g>\r\n     </g>\r\n    </g>\r\n    <g id=\"ytick_5\">\r\n     <g id=\"line2d_11\">\r\n      <g>\r\n       <use style=\"stroke:#000000;stroke-width:0.8;\" x=\"26.925\" xlink:href=\"#m29e54f4620\" y=\"166.397143\"/>\r\n      </g>\r\n     </g>\r\n     <g id=\"text_11\">\r\n      <!-- 20 -->\r\n      <g transform=\"translate(7.2 170.196362)scale(0.1 -0.1)\">\r\n       <use xlink:href=\"#DejaVuSans-50\"/>\r\n       <use x=\"63.623047\" xlink:href=\"#DejaVuSans-48\"/>\r\n      </g>\r\n     </g>\r\n    </g>\r\n    <g id=\"ytick_6\">\r\n     <g id=\"line2d_12\">\r\n      <g>\r\n       <use style=\"stroke:#000000;stroke-width:0.8;\" x=\"26.925\" xlink:href=\"#m29e54f4620\" y=\"205.225714\"/>\r\n      </g>\r\n     </g>\r\n     <g id=\"text_12\">\r\n      <!-- 25 -->\r\n      <g transform=\"translate(7.2 209.024933)scale(0.1 -0.1)\">\r\n       <use xlink:href=\"#DejaVuSans-50\"/>\r\n       <use x=\"63.623047\" xlink:href=\"#DejaVuSans-53\"/>\r\n      </g>\r\n     </g>\r\n    </g>\r\n   </g>\r\n   <g id=\"patch_3\">\r\n    <path d=\"M 26.925 224.64 \r\nL 26.925 7.2 \r\n\" style=\"fill:none;stroke:#000000;stroke-linecap:square;stroke-linejoin:miter;stroke-width:0.8;\"/>\r\n   </g>\r\n   <g id=\"patch_4\">\r\n    <path d=\"M 244.365 224.64 \r\nL 244.365 7.2 \r\n\" style=\"fill:none;stroke:#000000;stroke-linecap:square;stroke-linejoin:miter;stroke-width:0.8;\"/>\r\n   </g>\r\n   <g id=\"patch_5\">\r\n    <path d=\"M 26.925 224.64 \r\nL 244.365 224.64 \r\n\" style=\"fill:none;stroke:#000000;stroke-linecap:square;stroke-linejoin:miter;stroke-width:0.8;\"/>\r\n   </g>\r\n   <g id=\"patch_6\">\r\n    <path d=\"M 26.925 7.2 \r\nL 244.365 7.2 \r\n\" style=\"fill:none;stroke:#000000;stroke-linecap:square;stroke-linejoin:miter;stroke-width:0.8;\"/>\r\n   </g>\r\n  </g>\r\n </g>\r\n <defs>\r\n  <clipPath id=\"p717fb416ed\">\r\n   <rect height=\"217.44\" width=\"217.44\" x=\"26.925\" y=\"7.2\"/>\r\n  </clipPath>\r\n </defs>\r\n</svg>\r\n",
      "image/png": "[encoded data removed]"
     },
     "metadata": {
      "needs_background": "light"
     }
    },
    {
     "output_type": "execute_result",
     "data": {
      "text/plain": [
       "0.8949333333333334"
      ]
     },
     "metadata": {},
     "execution_count": 72
    }
   ],
   "source": [
    "# test saved model\n",
    "test_sav_100 = load_model(\"lr100.sav\")\n",
    "test_sav_100.CheckModel(X_test, 99)\n",
    "test_sav_100.score(X_test, y_test)"
   ]
  },
  {
   "cell_type": "code",
   "execution_count": 33,
   "metadata": {},
   "outputs": [
    {
     "output_type": "stream",
     "name": "stdout",
     "text": [
      "Loop 1,  Loss_train 0.23025850929940458,  Acc_train 0.098, Loss_test 0.23025850929940433, Acc_test 0.09871666666666666\n",
      "Loop 11,  Loss_train 0.09274982761646215,  Acc_train 0.777, Loss_test 0.09684620923464225, Acc_test 0.7626166666666667\n",
      "Loop 21,  Loss_train 0.056027020742564576,  Acc_train 0.8204, Loss_test 0.06150368228517593, Acc_test 0.8010166666666667\n",
      "Loop 31,  Loss_train 0.0407000981757175,  Acc_train 0.8819, Loss_test 0.046663963116460996, Acc_test 0.8622666666666666\n",
      "Loop 41,  Loss_train 0.03605998136829538,  Acc_train 0.9008, Loss_test 0.04217300165728041, Acc_test 0.8807\n",
      "Loop 51,  Loss_train 0.034307440230928854,  Acc_train 0.9051, Loss_test 0.04064327421577704, Acc_test 0.8858\n",
      "Loop 61,  Loss_train 0.03301145487070379,  Acc_train 0.9095, Loss_test 0.03957250755087033, Acc_test 0.8887833333333334\n",
      "Loop 71,  Loss_train 0.031970935836651164,  Acc_train 0.9117, Loss_test 0.03874499329487194, Acc_test 0.8910166666666667\n",
      "Loop 81,  Loss_train 0.03110615118640057,  Acc_train 0.9141, Loss_test 0.03808123816710003, Acc_test 0.8930333333333333\n",
      "Loop 91,  Loss_train 0.03036953106655335,  Acc_train 0.9163, Loss_test 0.03753553706261142, Acc_test 0.8941666666666667\n",
      "Loop 101,  Loss_train 0.02973017331388318,  Acc_train 0.9179, Loss_test 0.03707845385048659, Acc_test 0.8949333333333334\n",
      "Loop 111,  Loss_train 0.02916690450934178,  Acc_train 0.9196, Loss_test 0.036689890332484945, Acc_test 0.896\n",
      "Loop 121,  Loss_train 0.028664617110790904,  Acc_train 0.9207, Loss_test 0.036355563427032354, Acc_test 0.8965666666666666\n",
      "Loop 131,  Loss_train 0.028212178556112525,  Acc_train 0.9222, Loss_test 0.03606500033263666, Acc_test 0.8976666666666666\n",
      "Loop 141,  Loss_train 0.027801165867988798,  Acc_train 0.9231, Loss_test 0.03581032330797821, Acc_test 0.8982\n",
      "Loop 151,  Loss_train 0.02742506363213677,  Acc_train 0.9242, Loss_test 0.03558547850888268, Acc_test 0.8986666666666666\n",
      "Loop 161,  Loss_train 0.027078736152944136,  Acc_train 0.9255, Loss_test 0.03538572815054468, Acc_test 0.8992666666666667\n",
      "Loop 171,  Loss_train 0.02675806895548195,  Acc_train 0.9261, Loss_test 0.03520730558891999, Acc_test 0.8997166666666667\n",
      "Loop 181,  Loss_train 0.026459718693217792,  Acc_train 0.9268, Loss_test 0.03504717482237187, Acc_test 0.9000666666666667\n",
      "Loop 191,  Loss_train 0.026180934589308848,  Acc_train 0.9274, Loss_test 0.03490285895353973, Acc_test 0.90045\n",
      "Loop 201,  Loss_train 0.025919428332259933,  Acc_train 0.9285, Loss_test 0.0347723153829549, Acc_test 0.9007666666666667\n",
      "Loop 211,  Loss_train 0.025673277552293528,  Acc_train 0.9298, Loss_test 0.03465384339235449, Acc_test 0.9013333333333333\n",
      "Loop 221,  Loss_train 0.025440853046136535,  Acc_train 0.9304, Loss_test 0.03454601462866666, Acc_test 0.9016333333333333\n",
      "Loop 231,  Loss_train 0.025220763103331798,  Acc_train 0.9312, Loss_test 0.034447620070091466, Acc_test 0.9020833333333333\n",
      "Loop 241,  Loss_train 0.02501181035013452,  Acc_train 0.9316, Loss_test 0.03435762904629797, Acc_test 0.9025333333333333\n",
      "Loop 251,  Loss_train 0.024812957892617515,  Acc_train 0.9326, Loss_test 0.03427515720348166, Acc_test 0.90275\n",
      "Loop 261,  Loss_train 0.024623302462397956,  Acc_train 0.9333, Loss_test 0.03419944119569971, Acc_test 0.903\n",
      "Loop 271,  Loss_train 0.024442052901700873,  Acc_train 0.934, Loss_test 0.03412981849605149, Acc_test 0.9032\n",
      "Loop 281,  Loss_train 0.024268512766605667,  Acc_train 0.9342, Loss_test 0.03406571114872544, Acc_test 0.90325\n",
      "Loop 291,  Loss_train 0.02410206614055354,  Acc_train 0.9343, Loss_test 0.03400661258579966, Acc_test 0.9034333333333333\n",
      "Loop 301,  Loss_train 0.02394216597512687,  Acc_train 0.9346, Loss_test 0.033952076850184885, Acc_test 0.9038166666666667\n",
      "Loop 311,  Loss_train 0.023788324438679283,  Acc_train 0.9348, Loss_test 0.033901709724267745, Acc_test 0.90415\n",
      "Loop 321,  Loss_train 0.023640104873739128,  Acc_train 0.935, Loss_test 0.03385516138018859, Acc_test 0.9041833333333333\n",
      "Loop 331,  Loss_train 0.023497115053630124,  Acc_train 0.9354, Loss_test 0.03381212025425753, Acc_test 0.9043\n",
      "Loop 341,  Loss_train 0.023359001496035554,  Acc_train 0.936, Loss_test 0.033772307913075915, Acc_test 0.9044666666666666\n",
      "Loop 351,  Loss_train 0.02322544464229633,  Acc_train 0.9363, Loss_test 0.033735474728300435, Acc_test 0.90435\n",
      "Loop 361,  Loss_train 0.02309615475034491,  Acc_train 0.9366, Loss_test 0.03370139621479097, Acc_test 0.9046\n",
      "Loop 371,  Loss_train 0.022970868379395673,  Acc_train 0.9367, Loss_test 0.033669869916072265, Acc_test 0.9047333333333333\n",
      "Loop 381,  Loss_train 0.022849345368051537,  Acc_train 0.9369, Loss_test 0.033640712743758835, Acc_test 0.905\n",
      "Loop 391,  Loss_train 0.022731366225965752,  Acc_train 0.9368, Loss_test 0.03361375869540431, Acc_test 0.90515\n",
      "Loop 401,  Loss_train 0.022616729873809874,  Acc_train 0.9372, Loss_test 0.03358885688929841, Acc_test 0.9052333333333333\n",
      "Loop 411,  Loss_train 0.022505251677934365,  Acc_train 0.9377, Loss_test 0.03356586986591052, Acc_test 0.90545\n",
      "Loop 421,  Loss_train 0.022396761735432487,  Acc_train 0.9381, Loss_test 0.03354467211461055, Acc_test 0.9054333333333333\n",
      "Loop 431,  Loss_train 0.022291103372836737,  Acc_train 0.9383, Loss_test 0.0335251487914832, Acc_test 0.9054333333333333\n",
      "Loop 441,  Loss_train 0.022188131827774783,  Acc_train 0.9385, Loss_test 0.03350719459985787, Acc_test 0.9055833333333333\n",
      "Loop 451,  Loss_train 0.02208771308788361,  Acc_train 0.9389, Loss_test 0.03349071280989557, Acc_test 0.9056833333333333\n",
      "Loop 461,  Loss_train 0.02198972286535577,  Acc_train 0.9392, Loss_test 0.03347561439742799, Acc_test 0.9055\n",
      "Loop 471,  Loss_train 0.02189404568884782,  Acc_train 0.9397, Loss_test 0.0334618172854042, Acc_test 0.9055666666666666\n",
      "Loop 481,  Loss_train 0.02180057409725737,  Acc_train 0.94, Loss_test 0.033449245673905295, Acc_test 0.9055166666666666\n",
      "Loop 491,  Loss_train 0.02170920792218292,  Acc_train 0.9401, Loss_test 0.033437829446841, Acc_test 0.9056333333333333\n",
      "Loop 501,  Loss_train 0.02161985364780559,  Acc_train 0.9402, Loss_test 0.03342750364523338, Acc_test 0.9057166666666666\n",
      "Loop 511,  Loss_train 0.02153242383854435,  Acc_train 0.9403, Loss_test 0.033418207998483794, Acc_test 0.9057333333333333\n",
      "Loop 521,  Loss_train 0.021446836626192553,  Acc_train 0.9405, Loss_test 0.03340988650626887, Acc_test 0.90575\n",
      "Loop 531,  Loss_train 0.021363015249387267,  Acc_train 0.9409, Loss_test 0.03340248706475988, Acc_test 0.90585\n",
      "Loop 541,  Loss_train 0.02128088763923166,  Acc_train 0.9409, Loss_test 0.03339596113174358, Acc_test 0.9059333333333334\n",
      "Loop 551,  Loss_train 0.02120038604571348,  Acc_train 0.9412, Loss_test 0.033390263425968736, Acc_test 0.9059333333333334\n",
      "Loop 561,  Loss_train 0.021121446700263582,  Acc_train 0.9414, Loss_test 0.03338535165667711, Acc_test 0.90585\n",
      "Loop 571,  Loss_train 0.02104400951039764,  Acc_train 0.9417, Loss_test 0.03338118627981486, Acc_test 0.9058666666666667\n",
      "Loop 581,  Loss_train 0.02096801778289775,  Acc_train 0.942, Loss_test 0.03337773027787989, Acc_test 0.9059333333333334\n",
      "Loop 591,  Loss_train 0.020893417972431858,  Acc_train 0.942, Loss_test 0.033374948960753666, Acc_test 0.906\n",
      "Loop 601,  Loss_train 0.020820159452889512,  Acc_train 0.9424, Loss_test 0.033372809785201546, Acc_test 0.9061166666666667\n",
      "Loop 611,  Loss_train 0.020748194309040745,  Acc_train 0.9426, Loss_test 0.033371282191015886, Acc_test 0.9061666666666667\n",
      "Loop 621,  Loss_train 0.020677477146409818,  Acc_train 0.9427, Loss_test 0.03337033745202456, Acc_test 0.9061666666666667\n",
      "Loop 631,  Loss_train 0.020607964917502473,  Acc_train 0.9432, Loss_test 0.033369948540403156, Acc_test 0.9062166666666667\n",
      "Loop 641,  Loss_train 0.02053961676274039,  Acc_train 0.9436, Loss_test 0.03337009000291501, Acc_test 0.90625\n",
      "Loop 651,  Loss_train 0.020472393864643987,  Acc_train 0.9436, Loss_test 0.033370737847864686, Acc_test 0.9063\n",
      "Loop 661,  Loss_train 0.02040625931396874,  Acc_train 0.9434, Loss_test 0.03337186944169139, Acc_test 0.9064\n",
      "Loop 671,  Loss_train 0.020341177986643325,  Acc_train 0.9434, Loss_test 0.03337346341425044, Acc_test 0.90635\n",
      "Loop 681,  Loss_train 0.020277116430484042,  Acc_train 0.9436, Loss_test 0.033375499571938215, Acc_test 0.9063166666666667\n",
      "Loop 691,  Loss_train 0.0202140427607705,  Acc_train 0.9437, Loss_test 0.033377958817908795, Acc_test 0.9063333333333333\n",
      "Loop 701,  Loss_train 0.020151926563864872,  Acc_train 0.9439, Loss_test 0.033380823078713324, Acc_test 0.9062833333333333\n",
      "Loop 711,  Loss_train 0.020090738808143018,  Acc_train 0.9443, Loss_test 0.03338407523676363, Acc_test 0.90625\n",
      "Loop 721,  Loss_train 0.020030451761581716,  Acc_train 0.9443, Loss_test 0.0333876990680863, Acc_test 0.90635\n",
      "Loop 731,  Loss_train 0.019971038915413245,  Acc_train 0.9444, Loss_test 0.033391679184887876, Acc_test 0.9063333333333333\n",
      "Loop 741,  Loss_train 0.019912474913318216,  Acc_train 0.9449, Loss_test 0.033396000982502026, Acc_test 0.90635\n",
      "Loop 751,  Loss_train 0.019854735485680376,  Acc_train 0.9451, Loss_test 0.03340065059033252, Acc_test 0.9064\n",
      "Loop 761,  Loss_train 0.019797797388474,  Acc_train 0.9453, Loss_test 0.03340561482644461, Acc_test 0.9064\n",
      "Loop 771,  Loss_train 0.019741638346396237,  Acc_train 0.9453, Loss_test 0.03341088115549182, Acc_test 0.9063833333333333\n",
      "Loop 781,  Loss_train 0.019686236999894358,  Acc_train 0.9455, Loss_test 0.03341643764969545, Acc_test 0.9063333333333333\n",
      "Loop 791,  Loss_train 0.019631572855770496,  Acc_train 0.9457, Loss_test 0.03342227295262099, Acc_test 0.9063333333333333\n",
      "Loop 801,  Loss_train 0.019577626241076986,  Acc_train 0.9458, Loss_test 0.033428376245520794, Acc_test 0.9062833333333333\n",
      "Loop 811,  Loss_train 0.01952437826004126,  Acc_train 0.9458, Loss_test 0.03343473721603282, Acc_test 0.9062833333333333\n",
      "Loop 821,  Loss_train 0.019471810753783656,  Acc_train 0.9458, Loss_test 0.0334413460290454, Acc_test 0.9061833333333333\n",
      "Loop 831,  Loss_train 0.01941990626261253,  Acc_train 0.9459, Loss_test 0.0334481932995555, Acc_test 0.9062166666666667\n",
      "Loop 841,  Loss_train 0.019368647990700538,  Acc_train 0.9459, Loss_test 0.033455270067362486, Acc_test 0.9062\n",
      "Loop 851,  Loss_train 0.01931801977296302,  Acc_train 0.9459, Loss_test 0.03346256777345496, Acc_test 0.90615\n",
      "Loop 861,  Loss_train 0.0192680060439752,  Acc_train 0.9461, Loss_test 0.0334700782379596, Acc_test 0.9061166666666667\n",
      "Loop 871,  Loss_train 0.01921859180877876,  Acc_train 0.9461, Loss_test 0.033477793639532856, Acc_test 0.9061333333333333\n",
      "Loop 881,  Loss_train 0.019169762615441174,  Acc_train 0.9463, Loss_test 0.03348570649608653, Acc_test 0.9061\n",
      "Loop 891,  Loss_train 0.01912150452924262,  Acc_train 0.9466, Loss_test 0.033493809646748085, Acc_test 0.9061166666666667\n",
      "Loop 901,  Loss_train 0.019073804108375544,  Acc_train 0.9467, Loss_test 0.03350209623496341, Acc_test 0.9061333333333333\n",
      "Loop 911,  Loss_train 0.019026648381051538,  Acc_train 0.9467, Loss_test 0.03351055969265961, Acc_test 0.9060666666666667\n",
      "Loop 921,  Loss_train 0.018980024823918532,  Acc_train 0.9467, Loss_test 0.03351919372539023, Acc_test 0.9060166666666667\n",
      "Loop 931,  Loss_train 0.01893392134169921,  Acc_train 0.9468, Loss_test 0.033527992298392775, Acc_test 0.9060166666666667\n",
      "Loop 941,  Loss_train 0.018888326247968466,  Acc_train 0.9468, Loss_test 0.0335369496234941, Acc_test 0.9060166666666667\n",
      "Loop 951,  Loss_train 0.018843228246994186,  Acc_train 0.9469, Loss_test 0.0335460601468035, Acc_test 0.9060166666666667\n",
      "Loop 961,  Loss_train 0.01879861641657148,  Acc_train 0.9469, Loss_test 0.033555318537139, Acc_test 0.9061166666666667\n",
      "Loop 971,  Loss_train 0.01875448019178585,  Acc_train 0.9472, Loss_test 0.03356471967513665, Acc_test 0.9061166666666667\n",
      "Loop 981,  Loss_train 0.01871080934964549,  Acc_train 0.9474, Loss_test 0.03357425864299567, Acc_test 0.90615\n",
      "Loop 991,  Loss_train 0.018667593994527627,  Acc_train 0.9476, Loss_test 0.03358393071481671, Acc_test 0.9061666666666667\n",
      "Chuong trinh chay mat: 570 s\n"
     ]
    }
   ],
   "source": [
    "lr_1000 = MultiClassLogisticRegression(1000, 0.0001, 10)\n",
    "lr_1000.fit(X_train,y_train, X_test, y_test)\n",
    "\n",
    "# re train this:\n",
    "save_model(lr_1000, \"lr1000\")"
   ]
  },
  {
   "cell_type": "code",
   "execution_count": 73,
   "metadata": {},
   "outputs": [
    {
     "output_type": "error",
     "ename": "PicklingError",
     "evalue": "Can't pickle <class '__main__.MultiClassLogisticRegression'>: it's not the same object as __main__.MultiClassLogisticRegression",
     "traceback": [
      "\u001b[1;31m---------------------------------------------------------------------------\u001b[0m",
      "\u001b[1;31mPicklingError\u001b[0m                             Traceback (most recent call last)",
      "\u001b[1;32m<ipython-input-73-05bc798f6b8b>\u001b[0m in \u001b[0;36m<module>\u001b[1;34m\u001b[0m\n\u001b[1;32m----> 1\u001b[1;33m \u001b[0msave_model\u001b[0m\u001b[1;33m(\u001b[0m\u001b[0mlr_1000\u001b[0m\u001b[1;33m,\u001b[0m \u001b[1;34m\"lr1000\"\u001b[0m\u001b[1;33m)\u001b[0m\u001b[1;33m\u001b[0m\u001b[1;33m\u001b[0m\u001b[0m\n\u001b[0m\u001b[0;32m      2\u001b[0m \u001b[0mtest_sav_1000\u001b[0m \u001b[1;33m=\u001b[0m \u001b[0mload_model\u001b[0m\u001b[1;33m(\u001b[0m\u001b[1;34m\"lr1000.sav\"\u001b[0m\u001b[1;33m)\u001b[0m\u001b[1;33m\u001b[0m\u001b[1;33m\u001b[0m\u001b[0m\n\u001b[0;32m      3\u001b[0m \u001b[0mtest_sav_1000\u001b[0m\u001b[1;33m.\u001b[0m\u001b[0mscore\u001b[0m\u001b[1;33m(\u001b[0m\u001b[0mX_test\u001b[0m\u001b[1;33m,\u001b[0m \u001b[0my_test\u001b[0m\u001b[1;33m)\u001b[0m\u001b[1;33m\u001b[0m\u001b[1;33m\u001b[0m\u001b[0m\n\u001b[0;32m      4\u001b[0m \u001b[0mtest_sav_1000\u001b[0m\u001b[1;33m.\u001b[0m\u001b[0mscore\u001b[0m\u001b[1;33m(\u001b[0m\u001b[0mX_test\u001b[0m\u001b[1;33m,\u001b[0m \u001b[0my_test\u001b[0m\u001b[1;33m)\u001b[0m\u001b[1;33m\u001b[0m\u001b[1;33m\u001b[0m\u001b[0m\n",
      "\u001b[1;32m<ipython-input-68-df484384c436>\u001b[0m in \u001b[0;36msave_model\u001b[1;34m(obj, filename)\u001b[0m\n\u001b[0;32m      3\u001b[0m     \u001b[0mfilename\u001b[0m \u001b[1;33m=\u001b[0m \u001b[0mos\u001b[0m\u001b[1;33m.\u001b[0m\u001b[0mpath\u001b[0m\u001b[1;33m.\u001b[0m\u001b[0mjoin\u001b[0m\u001b[1;33m(\u001b[0m\u001b[0mos\u001b[0m\u001b[1;33m.\u001b[0m\u001b[0mpath\u001b[0m\u001b[1;33m.\u001b[0m\u001b[0mabspath\u001b[0m\u001b[1;33m(\u001b[0m\u001b[1;34m'./pretrain_models/'\u001b[0m\u001b[1;33m)\u001b[0m\u001b[1;33m,\u001b[0m \u001b[0mfilename\u001b[0m \u001b[1;33m+\u001b[0m \u001b[1;34m\".sav\"\u001b[0m\u001b[1;33m)\u001b[0m\u001b[1;33m\u001b[0m\u001b[1;33m\u001b[0m\u001b[0m\n\u001b[0;32m      4\u001b[0m     \u001b[0mpickle_file\u001b[0m \u001b[1;33m=\u001b[0m \u001b[0mopen\u001b[0m\u001b[1;33m(\u001b[0m\u001b[0mfilename\u001b[0m\u001b[1;33m,\u001b[0m \u001b[1;34m'wb'\u001b[0m\u001b[1;33m)\u001b[0m\u001b[1;33m\u001b[0m\u001b[1;33m\u001b[0m\u001b[0m\n\u001b[1;32m----> 5\u001b[1;33m     \u001b[0mpickle\u001b[0m\u001b[1;33m.\u001b[0m\u001b[0mdump\u001b[0m\u001b[1;33m(\u001b[0m\u001b[0mobj\u001b[0m\u001b[1;33m,\u001b[0m \u001b[0mpickle_file\u001b[0m\u001b[1;33m)\u001b[0m\u001b[1;33m\u001b[0m\u001b[1;33m\u001b[0m\u001b[0m\n\u001b[0m\u001b[0;32m      6\u001b[0m     \u001b[0mpickle_file\u001b[0m\u001b[1;33m.\u001b[0m\u001b[0mclose\u001b[0m\u001b[1;33m(\u001b[0m\u001b[1;33m)\u001b[0m\u001b[1;33m\u001b[0m\u001b[1;33m\u001b[0m\u001b[0m\n\u001b[0;32m      7\u001b[0m \u001b[1;33m\u001b[0m\u001b[0m\n",
      "\u001b[1;31mPicklingError\u001b[0m: Can't pickle <class '__main__.MultiClassLogisticRegression'>: it's not the same object as __main__.MultiClassLogisticRegression"
     ]
    }
   ],
   "source": [
    "test_sav_1000 = load_model(\"lr1000.sav\")\n",
    "test_sav_1000.score(X_test, y_test)\n",
    "test_sav_1000.score(X_test, y_test)"
   ]
  },
  {
   "cell_type": "code",
   "execution_count": 10,
   "metadata": {},
   "outputs": [
    {
     "output_type": "display_data",
     "data": {
      "text/plain": "<Figure size 432x288 with 1 Axes>",
      "image/svg+xml": "<?xml version=\"1.0\" encoding=\"utf-8\" standalone=\"no\"?>\r\n<!DOCTYPE svg PUBLIC \"-//W3C//DTD SVG 1.1//EN\"\r\n  \"http://www.w3.org/Graphics/SVG/1.1/DTD/svg11.dtd\">\r\n<!-- Created with matplotlib (https://matplotlib.org/) -->\r\n<svg height=\"289.005572pt\" version=\"1.1\" viewBox=\"0 0 385.78125 289.005572\" width=\"385.78125pt\" xmlns=\"http://www.w3.org/2000/svg\" xmlns:xlink=\"http://www.w3.org/1999/xlink\">\r\n <metadata>\r\n  <rdf:RDF xmlns:cc=\"http://creativecommons.org/ns#\" xmlns:dc=\"http://purl.org/dc/elements/1.1/\" xmlns:rdf=\"http://www.w3.org/1999/02/22-rdf-syntax-ns#\">\r\n   <cc:Work>\r\n    <dc:type rdf:resource=\"http://purl.org/dc/dcmitype/StillImage\"/>\r\n    <dc:date>2021-06-02T17:47:22.967607</dc:date>\r\n    <dc:format>image/svg+xml</dc:format>\r\n    <dc:creator>\r\n     <cc:Agent>\r\n      <dc:title>Matplotlib v3.3.0, https://matplotlib.org/</dc:title>\r\n     </cc:Agent>\r\n    </dc:creator>\r\n   </cc:Work>\r\n  </rdf:RDF>\r\n </metadata>\r\n <defs>\r\n  <style type=\"text/css\">*{stroke-linecap:butt;stroke-linejoin:round;}</style>\r\n </defs>\r\n <g id=\"figure_1\">\r\n  <g id=\"patch_1\">\r\n   <path d=\"M 0 289.005572 \r\nL 385.78125 289.005572 \r\nL 385.78125 0 \r\nL 0 0 \r\nz\r\n\" style=\"fill:none;\"/>\r\n  </g>\r\n  <g id=\"axes_1\">\r\n   <g id=\"patch_2\">\r\n    <path d=\"M 43.78125 239.758125 \r\nL 378.58125 239.758125 \r\nL 378.58125 22.318125 \r\nL 43.78125 22.318125 \r\nz\r\n\" style=\"fill:#ffffff;\"/>\r\n   </g>\r\n   <g id=\"matplotlib.axis_1\">\r\n    <g id=\"xtick_1\">\r\n     <g id=\"line2d_1\">\r\n      <defs>\r\n       <path d=\"M 0 0 \r\nL 0 3.5 \r\n\" id=\"mcdf9499185\" style=\"stroke:#000000;stroke-width:0.8;\"/>\r\n      </defs>\r\n      <g>\r\n       <use style=\"stroke:#000000;stroke-width:0.8;\" x=\"58.999432\" xlink:href=\"#mcdf9499185\" y=\"239.758125\"/>\r\n      </g>\r\n     </g>\r\n     <g id=\"text_1\">\r\n      <!-- 0 -->\r\n      <g transform=\"translate(59.798496 256.06743)rotate(-60)scale(0.1 -0.1)\">\r\n       <defs>\r\n        <path d=\"M 31.78125 66.40625 \r\nQ 24.171875 66.40625 20.328125 58.90625 \r\nQ 16.5 51.421875 16.5 36.375 \r\nQ 16.5 21.390625 20.328125 13.890625 \r\nQ 24.171875 6.390625 31.78125 6.390625 \r\nQ 39.453125 6.390625 43.28125 13.890625 \r\nQ 47.125 21.390625 47.125 36.375 \r\nQ 47.125 51.421875 43.28125 58.90625 \r\nQ 39.453125 66.40625 31.78125 66.40625 \r\nz\r\nM 31.78125 74.21875 \r\nQ 44.046875 74.21875 50.515625 64.515625 \r\nQ 56.984375 54.828125 56.984375 36.375 \r\nQ 56.984375 17.96875 50.515625 8.265625 \r\nQ 44.046875 -1.421875 31.78125 -1.421875 \r\nQ 19.53125 -1.421875 13.0625 8.265625 \r\nQ 6.59375 17.96875 6.59375 36.375 \r\nQ 6.59375 54.828125 13.0625 64.515625 \r\nQ 19.53125 74.21875 31.78125 74.21875 \r\nz\r\n\" id=\"DejaVuSans-48\"/>\r\n       </defs>\r\n       <use xlink:href=\"#DejaVuSans-48\"/>\r\n      </g>\r\n     </g>\r\n    </g>\r\n    <g id=\"xtick_2\">\r\n     <g id=\"line2d_2\">\r\n      <g>\r\n       <use style=\"stroke:#000000;stroke-width:0.8;\" x=\"120.487035\" xlink:href=\"#mcdf9499185\" y=\"239.758125\"/>\r\n      </g>\r\n     </g>\r\n     <g id=\"text_2\">\r\n      <!-- 20 -->\r\n      <g transform=\"translate(119.695474 261.577517)rotate(-60)scale(0.1 -0.1)\">\r\n       <defs>\r\n        <path d=\"M 19.1875 8.296875 \r\nL 53.609375 8.296875 \r\nL 53.609375 0 \r\nL 7.328125 0 \r\nL 7.328125 8.296875 \r\nQ 12.9375 14.109375 22.625 23.890625 \r\nQ 32.328125 33.6875 34.8125 36.53125 \r\nQ 39.546875 41.84375 41.421875 45.53125 \r\nQ 43.3125 49.21875 43.3125 52.78125 \r\nQ 43.3125 58.59375 39.234375 62.25 \r\nQ 35.15625 65.921875 28.609375 65.921875 \r\nQ 23.96875 65.921875 18.8125 64.3125 \r\nQ 13.671875 62.703125 7.8125 59.421875 \r\nL 7.8125 69.390625 \r\nQ 13.765625 71.78125 18.9375 73 \r\nQ 24.125 74.21875 28.421875 74.21875 \r\nQ 39.75 74.21875 46.484375 68.546875 \r\nQ 53.21875 62.890625 53.21875 53.421875 \r\nQ 53.21875 48.921875 51.53125 44.890625 \r\nQ 49.859375 40.875 45.40625 35.40625 \r\nQ 44.1875 33.984375 37.640625 27.21875 \r\nQ 31.109375 20.453125 19.1875 8.296875 \r\nz\r\n\" id=\"DejaVuSans-50\"/>\r\n       </defs>\r\n       <use xlink:href=\"#DejaVuSans-50\"/>\r\n       <use x=\"63.623047\" xlink:href=\"#DejaVuSans-48\"/>\r\n      </g>\r\n     </g>\r\n    </g>\r\n    <g id=\"xtick_3\">\r\n     <g id=\"line2d_3\">\r\n      <g>\r\n       <use style=\"stroke:#000000;stroke-width:0.8;\" x=\"181.974638\" xlink:href=\"#mcdf9499185\" y=\"239.758125\"/>\r\n      </g>\r\n     </g>\r\n     <g id=\"text_3\">\r\n      <!-- 40 -->\r\n      <g transform=\"translate(181.183077 261.577517)rotate(-60)scale(0.1 -0.1)\">\r\n       <defs>\r\n        <path d=\"M 37.796875 64.3125 \r\nL 12.890625 25.390625 \r\nL 37.796875 25.390625 \r\nz\r\nM 35.203125 72.90625 \r\nL 47.609375 72.90625 \r\nL 47.609375 25.390625 \r\nL 58.015625 25.390625 \r\nL 58.015625 17.1875 \r\nL 47.609375 17.1875 \r\nL 47.609375 0 \r\nL 37.796875 0 \r\nL 37.796875 17.1875 \r\nL 4.890625 17.1875 \r\nL 4.890625 26.703125 \r\nz\r\n\" id=\"DejaVuSans-52\"/>\r\n       </defs>\r\n       <use xlink:href=\"#DejaVuSans-52\"/>\r\n       <use x=\"63.623047\" xlink:href=\"#DejaVuSans-48\"/>\r\n      </g>\r\n     </g>\r\n    </g>\r\n    <g id=\"xtick_4\">\r\n     <g id=\"line2d_4\">\r\n      <g>\r\n       <use style=\"stroke:#000000;stroke-width:0.8;\" x=\"243.462242\" xlink:href=\"#mcdf9499185\" y=\"239.758125\"/>\r\n      </g>\r\n     </g>\r\n     <g id=\"text_4\">\r\n      <!-- 60 -->\r\n      <g transform=\"translate(242.670681 261.577517)rotate(-60)scale(0.1 -0.1)\">\r\n       <defs>\r\n        <path d=\"M 33.015625 40.375 \r\nQ 26.375 40.375 22.484375 35.828125 \r\nQ 18.609375 31.296875 18.609375 23.390625 \r\nQ 18.609375 15.53125 22.484375 10.953125 \r\nQ 26.375 6.390625 33.015625 6.390625 \r\nQ 39.65625 6.390625 43.53125 10.953125 \r\nQ 47.40625 15.53125 47.40625 23.390625 \r\nQ 47.40625 31.296875 43.53125 35.828125 \r\nQ 39.65625 40.375 33.015625 40.375 \r\nz\r\nM 52.59375 71.296875 \r\nL 52.59375 62.3125 \r\nQ 48.875 64.0625 45.09375 64.984375 \r\nQ 41.3125 65.921875 37.59375 65.921875 \r\nQ 27.828125 65.921875 22.671875 59.328125 \r\nQ 17.53125 52.734375 16.796875 39.40625 \r\nQ 19.671875 43.65625 24.015625 45.921875 \r\nQ 28.375 48.1875 33.59375 48.1875 \r\nQ 44.578125 48.1875 50.953125 41.515625 \r\nQ 57.328125 34.859375 57.328125 23.390625 \r\nQ 57.328125 12.15625 50.6875 5.359375 \r\nQ 44.046875 -1.421875 33.015625 -1.421875 \r\nQ 20.359375 -1.421875 13.671875 8.265625 \r\nQ 6.984375 17.96875 6.984375 36.375 \r\nQ 6.984375 53.65625 15.1875 63.9375 \r\nQ 23.390625 74.21875 37.203125 74.21875 \r\nQ 40.921875 74.21875 44.703125 73.484375 \r\nQ 48.484375 72.75 52.59375 71.296875 \r\nz\r\n\" id=\"DejaVuSans-54\"/>\r\n       </defs>\r\n       <use xlink:href=\"#DejaVuSans-54\"/>\r\n       <use x=\"63.623047\" xlink:href=\"#DejaVuSans-48\"/>\r\n      </g>\r\n     </g>\r\n    </g>\r\n    <g id=\"xtick_5\">\r\n     <g id=\"line2d_5\">\r\n      <g>\r\n       <use style=\"stroke:#000000;stroke-width:0.8;\" x=\"304.949845\" xlink:href=\"#mcdf9499185\" y=\"239.758125\"/>\r\n      </g>\r\n     </g>\r\n     <g id=\"text_5\">\r\n      <!-- 80 -->\r\n      <g transform=\"translate(304.158284 261.577517)rotate(-60)scale(0.1 -0.1)\">\r\n       <defs>\r\n        <path d=\"M 31.78125 34.625 \r\nQ 24.75 34.625 20.71875 30.859375 \r\nQ 16.703125 27.09375 16.703125 20.515625 \r\nQ 16.703125 13.921875 20.71875 10.15625 \r\nQ 24.75 6.390625 31.78125 6.390625 \r\nQ 38.8125 6.390625 42.859375 10.171875 \r\nQ 46.921875 13.96875 46.921875 20.515625 \r\nQ 46.921875 27.09375 42.890625 30.859375 \r\nQ 38.875 34.625 31.78125 34.625 \r\nz\r\nM 21.921875 38.8125 \r\nQ 15.578125 40.375 12.03125 44.71875 \r\nQ 8.5 49.078125 8.5 55.328125 \r\nQ 8.5 64.0625 14.71875 69.140625 \r\nQ 20.953125 74.21875 31.78125 74.21875 \r\nQ 42.671875 74.21875 48.875 69.140625 \r\nQ 55.078125 64.0625 55.078125 55.328125 \r\nQ 55.078125 49.078125 51.53125 44.71875 \r\nQ 48 40.375 41.703125 38.8125 \r\nQ 48.828125 37.15625 52.796875 32.3125 \r\nQ 56.78125 27.484375 56.78125 20.515625 \r\nQ 56.78125 9.90625 50.3125 4.234375 \r\nQ 43.84375 -1.421875 31.78125 -1.421875 \r\nQ 19.734375 -1.421875 13.25 4.234375 \r\nQ 6.78125 9.90625 6.78125 20.515625 \r\nQ 6.78125 27.484375 10.78125 32.3125 \r\nQ 14.796875 37.15625 21.921875 38.8125 \r\nz\r\nM 18.3125 54.390625 \r\nQ 18.3125 48.734375 21.84375 45.5625 \r\nQ 25.390625 42.390625 31.78125 42.390625 \r\nQ 38.140625 42.390625 41.71875 45.5625 \r\nQ 45.3125 48.734375 45.3125 54.390625 \r\nQ 45.3125 60.0625 41.71875 63.234375 \r\nQ 38.140625 66.40625 31.78125 66.40625 \r\nQ 25.390625 66.40625 21.84375 63.234375 \r\nQ 18.3125 60.0625 18.3125 54.390625 \r\nz\r\n\" id=\"DejaVuSans-56\"/>\r\n       </defs>\r\n       <use xlink:href=\"#DejaVuSans-56\"/>\r\n       <use x=\"63.623047\" xlink:href=\"#DejaVuSans-48\"/>\r\n      </g>\r\n     </g>\r\n    </g>\r\n    <g id=\"xtick_6\">\r\n     <g id=\"line2d_6\">\r\n      <g>\r\n       <use style=\"stroke:#000000;stroke-width:0.8;\" x=\"366.437448\" xlink:href=\"#mcdf9499185\" y=\"239.758125\"/>\r\n      </g>\r\n     </g>\r\n     <g id=\"text_6\">\r\n      <!-- 100 -->\r\n      <g transform=\"translate(364.055262 267.087604)rotate(-60)scale(0.1 -0.1)\">\r\n       <defs>\r\n        <path d=\"M 12.40625 8.296875 \r\nL 28.515625 8.296875 \r\nL 28.515625 63.921875 \r\nL 10.984375 60.40625 \r\nL 10.984375 69.390625 \r\nL 28.421875 72.90625 \r\nL 38.28125 72.90625 \r\nL 38.28125 8.296875 \r\nL 54.390625 8.296875 \r\nL 54.390625 0 \r\nL 12.40625 0 \r\nz\r\n\" id=\"DejaVuSans-49\"/>\r\n       </defs>\r\n       <use xlink:href=\"#DejaVuSans-49\"/>\r\n       <use x=\"63.623047\" xlink:href=\"#DejaVuSans-48\"/>\r\n       <use x=\"127.246094\" xlink:href=\"#DejaVuSans-48\"/>\r\n      </g>\r\n     </g>\r\n    </g>\r\n    <g id=\"text_7\">\r\n     <!-- Epoch -->\r\n     <g transform=\"translate(195.870313 279.725885)scale(0.1 -0.1)\">\r\n      <defs>\r\n       <path d=\"M 9.8125 72.90625 \r\nL 55.90625 72.90625 \r\nL 55.90625 64.59375 \r\nL 19.671875 64.59375 \r\nL 19.671875 43.015625 \r\nL 54.390625 43.015625 \r\nL 54.390625 34.71875 \r\nL 19.671875 34.71875 \r\nL 19.671875 8.296875 \r\nL 56.78125 8.296875 \r\nL 56.78125 0 \r\nL 9.8125 0 \r\nz\r\n\" id=\"DejaVuSans-69\"/>\r\n       <path d=\"M 18.109375 8.203125 \r\nL 18.109375 -20.796875 \r\nL 9.078125 -20.796875 \r\nL 9.078125 54.6875 \r\nL 18.109375 54.6875 \r\nL 18.109375 46.390625 \r\nQ 20.953125 51.265625 25.265625 53.625 \r\nQ 29.59375 56 35.59375 56 \r\nQ 45.5625 56 51.78125 48.09375 \r\nQ 58.015625 40.1875 58.015625 27.296875 \r\nQ 58.015625 14.40625 51.78125 6.484375 \r\nQ 45.5625 -1.421875 35.59375 -1.421875 \r\nQ 29.59375 -1.421875 25.265625 0.953125 \r\nQ 20.953125 3.328125 18.109375 8.203125 \r\nz\r\nM 48.6875 27.296875 \r\nQ 48.6875 37.203125 44.609375 42.84375 \r\nQ 40.53125 48.484375 33.40625 48.484375 \r\nQ 26.265625 48.484375 22.1875 42.84375 \r\nQ 18.109375 37.203125 18.109375 27.296875 \r\nQ 18.109375 17.390625 22.1875 11.75 \r\nQ 26.265625 6.109375 33.40625 6.109375 \r\nQ 40.53125 6.109375 44.609375 11.75 \r\nQ 48.6875 17.390625 48.6875 27.296875 \r\nz\r\n\" id=\"DejaVuSans-112\"/>\r\n       <path d=\"M 30.609375 48.390625 \r\nQ 23.390625 48.390625 19.1875 42.75 \r\nQ 14.984375 37.109375 14.984375 27.296875 \r\nQ 14.984375 17.484375 19.15625 11.84375 \r\nQ 23.34375 6.203125 30.609375 6.203125 \r\nQ 37.796875 6.203125 41.984375 11.859375 \r\nQ 46.1875 17.53125 46.1875 27.296875 \r\nQ 46.1875 37.015625 41.984375 42.703125 \r\nQ 37.796875 48.390625 30.609375 48.390625 \r\nz\r\nM 30.609375 56 \r\nQ 42.328125 56 49.015625 48.375 \r\nQ 55.71875 40.765625 55.71875 27.296875 \r\nQ 55.71875 13.875 49.015625 6.21875 \r\nQ 42.328125 -1.421875 30.609375 -1.421875 \r\nQ 18.84375 -1.421875 12.171875 6.21875 \r\nQ 5.515625 13.875 5.515625 27.296875 \r\nQ 5.515625 40.765625 12.171875 48.375 \r\nQ 18.84375 56 30.609375 56 \r\nz\r\n\" id=\"DejaVuSans-111\"/>\r\n       <path d=\"M 48.78125 52.59375 \r\nL 48.78125 44.1875 \r\nQ 44.96875 46.296875 41.140625 47.34375 \r\nQ 37.3125 48.390625 33.40625 48.390625 \r\nQ 24.65625 48.390625 19.8125 42.84375 \r\nQ 14.984375 37.3125 14.984375 27.296875 \r\nQ 14.984375 17.28125 19.8125 11.734375 \r\nQ 24.65625 6.203125 33.40625 6.203125 \r\nQ 37.3125 6.203125 41.140625 7.25 \r\nQ 44.96875 8.296875 48.78125 10.40625 \r\nL 48.78125 2.09375 \r\nQ 45.015625 0.34375 40.984375 -0.53125 \r\nQ 36.96875 -1.421875 32.421875 -1.421875 \r\nQ 20.0625 -1.421875 12.78125 6.34375 \r\nQ 5.515625 14.109375 5.515625 27.296875 \r\nQ 5.515625 40.671875 12.859375 48.328125 \r\nQ 20.21875 56 33.015625 56 \r\nQ 37.15625 56 41.109375 55.140625 \r\nQ 45.0625 54.296875 48.78125 52.59375 \r\nz\r\n\" id=\"DejaVuSans-99\"/>\r\n       <path d=\"M 54.890625 33.015625 \r\nL 54.890625 0 \r\nL 45.90625 0 \r\nL 45.90625 32.71875 \r\nQ 45.90625 40.484375 42.875 44.328125 \r\nQ 39.84375 48.1875 33.796875 48.1875 \r\nQ 26.515625 48.1875 22.3125 43.546875 \r\nQ 18.109375 38.921875 18.109375 30.90625 \r\nL 18.109375 0 \r\nL 9.078125 0 \r\nL 9.078125 75.984375 \r\nL 18.109375 75.984375 \r\nL 18.109375 46.1875 \r\nQ 21.34375 51.125 25.703125 53.5625 \r\nQ 30.078125 56 35.796875 56 \r\nQ 45.21875 56 50.046875 50.171875 \r\nQ 54.890625 44.34375 54.890625 33.015625 \r\nz\r\n\" id=\"DejaVuSans-104\"/>\r\n      </defs>\r\n      <use xlink:href=\"#DejaVuSans-69\"/>\r\n      <use x=\"63.183594\" xlink:href=\"#DejaVuSans-112\"/>\r\n      <use x=\"126.660156\" xlink:href=\"#DejaVuSans-111\"/>\r\n      <use x=\"187.841797\" xlink:href=\"#DejaVuSans-99\"/>\r\n      <use x=\"242.822266\" xlink:href=\"#DejaVuSans-104\"/>\r\n     </g>\r\n    </g>\r\n   </g>\r\n   <g id=\"matplotlib.axis_2\">\r\n    <g id=\"ytick_1\">\r\n     <g id=\"line2d_7\">\r\n      <defs>\r\n       <path d=\"M 0 0 \r\nL -3.5 0 \r\n\" id=\"m87f684f710\" style=\"stroke:#000000;stroke-width:0.8;\"/>\r\n      </defs>\r\n      <g>\r\n       <use style=\"stroke:#000000;stroke-width:0.8;\" x=\"43.78125\" xlink:href=\"#m87f684f710\" y=\"205.282931\"/>\r\n      </g>\r\n     </g>\r\n     <g id=\"text_8\">\r\n      <!-- 0.2 -->\r\n      <g transform=\"translate(20.878125 209.08215)scale(0.1 -0.1)\">\r\n       <defs>\r\n        <path d=\"M 10.6875 12.40625 \r\nL 21 12.40625 \r\nL 21 0 \r\nL 10.6875 0 \r\nz\r\n\" id=\"DejaVuSans-46\"/>\r\n       </defs>\r\n       <use xlink:href=\"#DejaVuSans-48\"/>\r\n       <use x=\"63.623047\" xlink:href=\"#DejaVuSans-46\"/>\r\n       <use x=\"95.410156\" xlink:href=\"#DejaVuSans-50\"/>\r\n      </g>\r\n     </g>\r\n    </g>\r\n    <g id=\"ytick_2\">\r\n     <g id=\"line2d_8\">\r\n      <g>\r\n       <use style=\"stroke:#000000;stroke-width:0.8;\" x=\"43.78125\" xlink:href=\"#m87f684f710\" y=\"157.06419\"/>\r\n      </g>\r\n     </g>\r\n     <g id=\"text_9\">\r\n      <!-- 0.4 -->\r\n      <g transform=\"translate(20.878125 160.863409)scale(0.1 -0.1)\">\r\n       <use xlink:href=\"#DejaVuSans-48\"/>\r\n       <use x=\"63.623047\" xlink:href=\"#DejaVuSans-46\"/>\r\n       <use x=\"95.410156\" xlink:href=\"#DejaVuSans-52\"/>\r\n      </g>\r\n     </g>\r\n    </g>\r\n    <g id=\"ytick_3\">\r\n     <g id=\"line2d_9\">\r\n      <g>\r\n       <use style=\"stroke:#000000;stroke-width:0.8;\" x=\"43.78125\" xlink:href=\"#m87f684f710\" y=\"108.84545\"/>\r\n      </g>\r\n     </g>\r\n     <g id=\"text_10\">\r\n      <!-- 0.6 -->\r\n      <g transform=\"translate(20.878125 112.644668)scale(0.1 -0.1)\">\r\n       <use xlink:href=\"#DejaVuSans-48\"/>\r\n       <use x=\"63.623047\" xlink:href=\"#DejaVuSans-46\"/>\r\n       <use x=\"95.410156\" xlink:href=\"#DejaVuSans-54\"/>\r\n      </g>\r\n     </g>\r\n    </g>\r\n    <g id=\"ytick_4\">\r\n     <g id=\"line2d_10\">\r\n      <g>\r\n       <use style=\"stroke:#000000;stroke-width:0.8;\" x=\"43.78125\" xlink:href=\"#m87f684f710\" y=\"60.626709\"/>\r\n      </g>\r\n     </g>\r\n     <g id=\"text_11\">\r\n      <!-- 0.8 -->\r\n      <g transform=\"translate(20.878125 64.425928)scale(0.1 -0.1)\">\r\n       <use xlink:href=\"#DejaVuSans-48\"/>\r\n       <use x=\"63.623047\" xlink:href=\"#DejaVuSans-46\"/>\r\n       <use x=\"95.410156\" xlink:href=\"#DejaVuSans-56\"/>\r\n      </g>\r\n     </g>\r\n    </g>\r\n    <g id=\"text_12\">\r\n     <!-- Loss Function -->\r\n     <g transform=\"translate(14.798438 164.859219)rotate(-90)scale(0.1 -0.1)\">\r\n      <defs>\r\n       <path d=\"M 9.8125 72.90625 \r\nL 19.671875 72.90625 \r\nL 19.671875 8.296875 \r\nL 55.171875 8.296875 \r\nL 55.171875 0 \r\nL 9.8125 0 \r\nz\r\n\" id=\"DejaVuSans-76\"/>\r\n       <path d=\"M 44.28125 53.078125 \r\nL 44.28125 44.578125 \r\nQ 40.484375 46.53125 36.375 47.5 \r\nQ 32.28125 48.484375 27.875 48.484375 \r\nQ 21.1875 48.484375 17.84375 46.4375 \r\nQ 14.5 44.390625 14.5 40.28125 \r\nQ 14.5 37.15625 16.890625 35.375 \r\nQ 19.28125 33.59375 26.515625 31.984375 \r\nL 29.59375 31.296875 \r\nQ 39.15625 29.25 43.1875 25.515625 \r\nQ 47.21875 21.78125 47.21875 15.09375 \r\nQ 47.21875 7.46875 41.1875 3.015625 \r\nQ 35.15625 -1.421875 24.609375 -1.421875 \r\nQ 20.21875 -1.421875 15.453125 -0.5625 \r\nQ 10.6875 0.296875 5.421875 2 \r\nL 5.421875 11.28125 \r\nQ 10.40625 8.6875 15.234375 7.390625 \r\nQ 20.0625 6.109375 24.8125 6.109375 \r\nQ 31.15625 6.109375 34.5625 8.28125 \r\nQ 37.984375 10.453125 37.984375 14.40625 \r\nQ 37.984375 18.0625 35.515625 20.015625 \r\nQ 33.0625 21.96875 24.703125 23.78125 \r\nL 21.578125 24.515625 \r\nQ 13.234375 26.265625 9.515625 29.90625 \r\nQ 5.8125 33.546875 5.8125 39.890625 \r\nQ 5.8125 47.609375 11.28125 51.796875 \r\nQ 16.75 56 26.8125 56 \r\nQ 31.78125 56 36.171875 55.265625 \r\nQ 40.578125 54.546875 44.28125 53.078125 \r\nz\r\n\" id=\"DejaVuSans-115\"/>\r\n       <path id=\"DejaVuSans-32\"/>\r\n       <path d=\"M 9.8125 72.90625 \r\nL 51.703125 72.90625 \r\nL 51.703125 64.59375 \r\nL 19.671875 64.59375 \r\nL 19.671875 43.109375 \r\nL 48.578125 43.109375 \r\nL 48.578125 34.8125 \r\nL 19.671875 34.8125 \r\nL 19.671875 0 \r\nL 9.8125 0 \r\nz\r\n\" id=\"DejaVuSans-70\"/>\r\n       <path d=\"M 8.5 21.578125 \r\nL 8.5 54.6875 \r\nL 17.484375 54.6875 \r\nL 17.484375 21.921875 \r\nQ 17.484375 14.15625 20.5 10.265625 \r\nQ 23.53125 6.390625 29.59375 6.390625 \r\nQ 36.859375 6.390625 41.078125 11.03125 \r\nQ 45.3125 15.671875 45.3125 23.6875 \r\nL 45.3125 54.6875 \r\nL 54.296875 54.6875 \r\nL 54.296875 0 \r\nL 45.3125 0 \r\nL 45.3125 8.40625 \r\nQ 42.046875 3.421875 37.71875 1 \r\nQ 33.40625 -1.421875 27.6875 -1.421875 \r\nQ 18.265625 -1.421875 13.375 4.4375 \r\nQ 8.5 10.296875 8.5 21.578125 \r\nz\r\nM 31.109375 56 \r\nz\r\n\" id=\"DejaVuSans-117\"/>\r\n       <path d=\"M 54.890625 33.015625 \r\nL 54.890625 0 \r\nL 45.90625 0 \r\nL 45.90625 32.71875 \r\nQ 45.90625 40.484375 42.875 44.328125 \r\nQ 39.84375 48.1875 33.796875 48.1875 \r\nQ 26.515625 48.1875 22.3125 43.546875 \r\nQ 18.109375 38.921875 18.109375 30.90625 \r\nL 18.109375 0 \r\nL 9.078125 0 \r\nL 9.078125 54.6875 \r\nL 18.109375 54.6875 \r\nL 18.109375 46.1875 \r\nQ 21.34375 51.125 25.703125 53.5625 \r\nQ 30.078125 56 35.796875 56 \r\nQ 45.21875 56 50.046875 50.171875 \r\nQ 54.890625 44.34375 54.890625 33.015625 \r\nz\r\n\" id=\"DejaVuSans-110\"/>\r\n       <path d=\"M 18.3125 70.21875 \r\nL 18.3125 54.6875 \r\nL 36.8125 54.6875 \r\nL 36.8125 47.703125 \r\nL 18.3125 47.703125 \r\nL 18.3125 18.015625 \r\nQ 18.3125 11.328125 20.140625 9.421875 \r\nQ 21.96875 7.515625 27.59375 7.515625 \r\nL 36.8125 7.515625 \r\nL 36.8125 0 \r\nL 27.59375 0 \r\nQ 17.1875 0 13.234375 3.875 \r\nQ 9.28125 7.765625 9.28125 18.015625 \r\nL 9.28125 47.703125 \r\nL 2.6875 47.703125 \r\nL 2.6875 54.6875 \r\nL 9.28125 54.6875 \r\nL 9.28125 70.21875 \r\nz\r\n\" id=\"DejaVuSans-116\"/>\r\n       <path d=\"M 9.421875 54.6875 \r\nL 18.40625 54.6875 \r\nL 18.40625 0 \r\nL 9.421875 0 \r\nz\r\nM 9.421875 75.984375 \r\nL 18.40625 75.984375 \r\nL 18.40625 64.59375 \r\nL 9.421875 64.59375 \r\nz\r\n\" id=\"DejaVuSans-105\"/>\r\n      </defs>\r\n      <use xlink:href=\"#DejaVuSans-76\"/>\r\n      <use x=\"53.962891\" xlink:href=\"#DejaVuSans-111\"/>\r\n      <use x=\"115.144531\" xlink:href=\"#DejaVuSans-115\"/>\r\n      <use x=\"167.244141\" xlink:href=\"#DejaVuSans-115\"/>\r\n      <use x=\"219.34375\" xlink:href=\"#DejaVuSans-32\"/>\r\n      <use x=\"251.130859\" xlink:href=\"#DejaVuSans-70\"/>\r\n      <use x=\"303.150391\" xlink:href=\"#DejaVuSans-117\"/>\r\n      <use x=\"366.529297\" xlink:href=\"#DejaVuSans-110\"/>\r\n      <use x=\"429.908203\" xlink:href=\"#DejaVuSans-99\"/>\r\n      <use x=\"484.888672\" xlink:href=\"#DejaVuSans-116\"/>\r\n      <use x=\"524.097656\" xlink:href=\"#DejaVuSans-105\"/>\r\n      <use x=\"551.880859\" xlink:href=\"#DejaVuSans-111\"/>\r\n      <use x=\"613.0625\" xlink:href=\"#DejaVuSans-110\"/>\r\n     </g>\r\n    </g>\r\n   </g>\r\n   <g id=\"line2d_11\">\r\n    <path clip-path=\"url(#p129ffc74e0)\" d=\"M 58.999432 229.874489 \r\nL 62.073812 88.641797 \r\nL 65.148192 116.198808 \r\nL 68.222572 133.557554 \r\nL 71.296952 120.369729 \r\nL 74.371333 136.643554 \r\nL 77.445713 110.822418 \r\nL 80.520093 108.363262 \r\nL 83.594473 77.672034 \r\nL 86.668853 84.591423 \r\nL 89.743233 66.171864 \r\nL 92.817614 51.00707 \r\nL 95.891994 57.058522 \r\nL 98.966374 61.783959 \r\nL 102.040754 64.291333 \r\nL 105.115134 61.494646 \r\nL 108.189514 56.76921 \r\nL 111.263895 55.346757 \r\nL 114.338275 55.61196 \r\nL 117.412655 56.696882 \r\nL 120.487035 55.708397 \r\nL 123.561415 55.539632 \r\nL 126.635795 54.310054 \r\nL 129.710176 53.008148 \r\nL 132.784556 51.127617 \r\nL 135.858936 49.319414 \r\nL 138.933316 47.053133 \r\nL 142.007696 45.678899 \r\nL 145.082076 43.846587 \r\nL 148.156457 42.400025 \r\nL 151.230837 40.881135 \r\nL 154.305217 39.844432 \r\nL 157.379597 39.289916 \r\nL 160.453977 38.518416 \r\nL 163.528357 38.132666 \r\nL 166.602738 37.819245 \r\nL 169.677118 37.24062 \r\nL 172.751498 37.047745 \r\nL 175.825878 36.637886 \r\nL 178.900258 36.758432 \r\nL 181.974638 36.324464 \r\nL 185.049019 36.324464 \r\nL 188.123399 36.324464 \r\nL 191.197779 36.08337 \r\nL 194.272159 35.866386 \r\nL 197.346539 35.721729 \r\nL 200.420919 35.601183 \r\nL 203.4953 35.456526 \r\nL 206.56968 35.480636 \r\nL 209.64406 35.263651 \r\nL 212.71844 35.287761 \r\nL 215.79282 35.167214 \r\nL 218.8672 35.094886 \r\nL 221.941581 34.998448 \r\nL 225.015961 34.902011 \r\nL 228.090341 34.685027 \r\nL 231.164721 34.588589 \r\nL 234.239101 34.443933 \r\nL 237.313481 34.347495 \r\nL 240.387862 34.226948 \r\nL 243.462242 34.226948 \r\nL 246.536622 34.15462 \r\nL 249.611002 34.058183 \r\nL 252.685382 34.034074 \r\nL 255.759762 34.034074 \r\nL 258.834143 33.961745 \r\nL 261.908523 33.937636 \r\nL 264.982903 33.937636 \r\nL 268.057283 33.889417 \r\nL 271.131663 33.79298 \r\nL 274.206043 33.696542 \r\nL 277.280424 33.672433 \r\nL 280.354804 33.551886 \r\nL 283.429184 33.479558 \r\nL 286.503564 33.383121 \r\nL 289.577944 33.310792 \r\nL 292.652324 33.334902 \r\nL 295.726705 33.310792 \r\nL 298.801085 33.190246 \r\nL 301.875465 33.142027 \r\nL 304.949845 33.117917 \r\nL 308.024225 33.117917 \r\nL 311.098605 33.093808 \r\nL 314.172986 33.069699 \r\nL 317.247366 32.949152 \r\nL 320.321746 32.876824 \r\nL 323.396126 32.780386 \r\nL 326.470506 32.683949 \r\nL 329.544886 32.659839 \r\nL 332.619267 32.611621 \r\nL 335.693647 32.587511 \r\nL 338.768027 32.515183 \r\nL 341.842407 32.515183 \r\nL 344.916787 32.466964 \r\nL 347.991167 32.394636 \r\nL 351.065548 32.274089 \r\nL 354.139928 32.24998 \r\nL 357.214308 32.201761 \r\nL 360.288688 32.201761 \r\nL 363.363068 32.225871 \r\n\" style=\"fill:none;stroke:#1f77b4;stroke-linecap:square;stroke-width:1.5;\"/>\r\n   </g>\r\n   <g id=\"patch_3\">\r\n    <path d=\"M 43.78125 239.758125 \r\nL 43.78125 22.318125 \r\n\" style=\"fill:none;stroke:#000000;stroke-linecap:square;stroke-linejoin:miter;stroke-width:0.8;\"/>\r\n   </g>\r\n   <g id=\"patch_4\">\r\n    <path d=\"M 378.58125 239.758125 \r\nL 378.58125 22.318125 \r\n\" style=\"fill:none;stroke:#000000;stroke-linecap:square;stroke-linejoin:miter;stroke-width:0.8;\"/>\r\n   </g>\r\n   <g id=\"patch_5\">\r\n    <path d=\"M 43.78125 239.758125 \r\nL 378.58125 239.758125 \r\n\" style=\"fill:none;stroke:#000000;stroke-linecap:square;stroke-linejoin:miter;stroke-width:0.8;\"/>\r\n   </g>\r\n   <g id=\"patch_6\">\r\n    <path d=\"M 43.78125 22.318125 \r\nL 378.58125 22.318125 \r\n\" style=\"fill:none;stroke:#000000;stroke-linecap:square;stroke-linejoin:miter;stroke-width:0.8;\"/>\r\n   </g>\r\n   <g id=\"text_13\">\r\n    <!-- Loss Function ~ Epoch -->\r\n    <g transform=\"translate(143.38125 16.318125)scale(0.12 -0.12)\">\r\n     <defs>\r\n      <path d=\"M 73.1875 39.890625 \r\nL 73.1875 31.203125 \r\nQ 68.0625 27.34375 63.6875 25.6875 \r\nQ 59.328125 24.03125 54.59375 24.03125 \r\nQ 49.21875 24.03125 42.09375 26.90625 \r\nQ 41.546875 27.09375 41.3125 27.203125 \r\nQ 40.96875 27.34375 40.234375 27.59375 \r\nQ 32.671875 30.609375 28.078125 30.609375 \r\nQ 23.78125 30.609375 19.578125 28.734375 \r\nQ 15.375 26.859375 10.59375 22.796875 \r\nL 10.59375 31.5 \r\nQ 15.71875 35.359375 20.09375 37.03125 \r\nQ 24.46875 38.71875 29.203125 38.71875 \r\nQ 34.578125 38.71875 41.75 35.796875 \r\nQ 42.234375 35.59375 42.484375 35.5 \r\nQ 42.875 35.359375 43.5625 35.109375 \r\nQ 51.125 32.078125 55.71875 32.078125 \r\nQ 59.90625 32.078125 64.03125 33.9375 \r\nQ 68.171875 35.796875 73.1875 39.890625 \r\nz\r\n\" id=\"DejaVuSans-126\"/>\r\n     </defs>\r\n     <use xlink:href=\"#DejaVuSans-76\"/>\r\n     <use x=\"53.962891\" xlink:href=\"#DejaVuSans-111\"/>\r\n     <use x=\"115.144531\" xlink:href=\"#DejaVuSans-115\"/>\r\n     <use x=\"167.244141\" xlink:href=\"#DejaVuSans-115\"/>\r\n     <use x=\"219.34375\" xlink:href=\"#DejaVuSans-32\"/>\r\n     <use x=\"251.130859\" xlink:href=\"#DejaVuSans-70\"/>\r\n     <use x=\"303.150391\" xlink:href=\"#DejaVuSans-117\"/>\r\n     <use x=\"366.529297\" xlink:href=\"#DejaVuSans-110\"/>\r\n     <use x=\"429.908203\" xlink:href=\"#DejaVuSans-99\"/>\r\n     <use x=\"484.888672\" xlink:href=\"#DejaVuSans-116\"/>\r\n     <use x=\"524.097656\" xlink:href=\"#DejaVuSans-105\"/>\r\n     <use x=\"551.880859\" xlink:href=\"#DejaVuSans-111\"/>\r\n     <use x=\"613.0625\" xlink:href=\"#DejaVuSans-110\"/>\r\n     <use x=\"676.441406\" xlink:href=\"#DejaVuSans-32\"/>\r\n     <use x=\"708.228516\" xlink:href=\"#DejaVuSans-126\"/>\r\n     <use x=\"792.017578\" xlink:href=\"#DejaVuSans-32\"/>\r\n     <use x=\"823.804688\" xlink:href=\"#DejaVuSans-69\"/>\r\n     <use x=\"886.988281\" xlink:href=\"#DejaVuSans-112\"/>\r\n     <use x=\"950.464844\" xlink:href=\"#DejaVuSans-111\"/>\r\n     <use x=\"1011.646484\" xlink:href=\"#DejaVuSans-99\"/>\r\n     <use x=\"1066.626953\" xlink:href=\"#DejaVuSans-104\"/>\r\n    </g>\r\n   </g>\r\n  </g>\r\n </g>\r\n <defs>\r\n  <clipPath id=\"p129ffc74e0\">\r\n   <rect height=\"217.44\" width=\"334.8\" x=\"43.78125\" y=\"22.318125\"/>\r\n  </clipPath>\r\n </defs>\r\n</svg>\r\n",
      "image/png": "[encoded data removed]"
     },
     "metadata": {
      "needs_background": "light"
     }
    }
   ],
   "source": [
    "def plot(loss_list):\n",
    "    \"\"\"store the plots\"\"\"\n",
    "    # epoch_list = list(range(len(loss_list)))\n",
    "    plt.plot(loss_list)\n",
    "    plt.ylabel('Loss Function')\n",
    "    plt.xlabel('Epoch')\n",
    "    plt.xticks(rotation=60)\n",
    "    plt.title('Loss Function ~ Epoch')\n",
    "    plt.show()\n",
    "\n",
    "plot(lr_100.error_train)"
   ]
  },
  {
   "source": [
    "# Run configuration:"
   ],
   "cell_type": "markdown",
   "metadata": {}
  },
  {
   "cell_type": "code",
   "execution_count": null,
   "metadata": {},
   "outputs": [],
   "source": []
  }
 ]
}