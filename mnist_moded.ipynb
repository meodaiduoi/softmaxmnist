{
 "metadata": {
  "language_info": {
   "codemirror_mode": {
    "name": "ipython",
    "version": 3
   },
   "file_extension": ".py",
   "mimetype": "text/x-python",
   "name": "python",
   "nbconvert_exporter": "python",
   "pygments_lexer": "ipython3",
   "version": "3.7.7"
  },
  "orig_nbformat": 2,
  "kernelspec": {
   "name": "python377jvsc74a57bd0c6fcb19e137de5007d345122920c8dc220c54a106d966420b0be2f54a5303607",
   "display_name": "Python 3.7.7 64-bit"
  }
 },
 "nbformat": 4,
 "nbformat_minor": 2,
 "cells": [
  {
   "source": [
    "# Moded code for BTL_AI - 75% code ported"
   ],
   "cell_type": "markdown",
   "metadata": {}
  },
  {
   "cell_type": "code",
   "execution_count": 1,
   "metadata": {},
   "outputs": [],
   "source": [
    "import matplotlib\n",
    "import matplotlib.pyplot as plt\n",
    "import numpy as np # linear algebra\n",
    "from mnist import MNIST\n",
    "\n",
    "from time import perf_counter\n",
    "import os"
   ]
  },
  {
   "source": [
    "## Load the data"
   ],
   "cell_type": "markdown",
   "metadata": {}
  },
  {
   "cell_type": "code",
   "execution_count": 2,
   "metadata": {},
   "outputs": [],
   "source": [
    "os.path.abspath('./mnistdb')\n",
    "\n",
    "mnistdt = MNIST(os.path.abspath('./mnistdb'))\n",
    "img_arr_test, lb_arr_test = mnistdt.load_training()\n",
    "img_arr_train, lb_arr_train = mnistdt.load_testing()"
   ]
  },
  {
   "source": [
    "## Init the data and-pre processing It"
   ],
   "cell_type": "markdown",
   "metadata": {}
  },
  {
   "source": [
    "### reusueable funtions to prepare the data"
   ],
   "cell_type": "markdown",
   "metadata": {}
  },
  {
   "cell_type": "code",
   "execution_count": 10,
   "metadata": {},
   "outputs": [],
   "source": [
    "def resize(img):\n",
    "    return np.reshape(img, [-1, 28, 28, 1])\n",
    "\n",
    "def normalize(X):\n",
    "    return X/255\n",
    "\n",
    "def onehot_encoding(y):\n",
    "    return np.eye(np.max(y)+1)[y]\n",
    "\n",
    "def add_bias(X):\n",
    "    return np.insert(X, 0, 1, axis=1)\n",
    "\n",
    "def init_weight(X_col_size, y_size):\n",
    "    return np.zeros(shape=(y_size, X_col_size -1)) # X_col_size not include bias row "
   ]
  },
  {
   "source": [
    "### pre-processing data"
   ],
   "cell_type": "markdown",
   "metadata": {}
  },
  {
   "cell_type": "code",
   "execution_count": 81,
   "metadata": {},
   "outputs": [],
   "source": [
    "img_test = resize(img_arr_test)\n",
    "img_train = resize(img_arr_train)\n",
    "\n",
    "# pre add everything\n",
    "X_train =  normalize(np.array(img_arr_train))\n",
    "X_test = normalize(np.array(img_arr_test))\n",
    "# y_train = onehot_encoding(np.array(lb_arr_train))\n",
    "# y_test = onehot_encoding(lb_arr_test)\n",
    "\n",
    "y_train = np.array(lb_arr_train)\n",
    "y_test = np.array(lb_arr_test)\n"
   ]
  },
  {
   "cell_type": "code",
   "execution_count": 82,
   "metadata": {},
   "outputs": [
    {
     "output_type": "execute_result",
     "data": {
      "text/plain": [
       "(60000, 784)"
      ]
     },
     "metadata": {},
     "execution_count": 82
    }
   ],
   "source": [
    "np.shape(img_arr_test)"
   ]
  },
  {
   "source": [
    "## Data classification"
   ],
   "cell_type": "markdown",
   "metadata": {}
  },
  {
   "source": [
    "### Softmax "
   ],
   "cell_type": "markdown",
   "metadata": {}
  },
  {
   "cell_type": "code",
   "execution_count": 83,
   "metadata": {},
   "outputs": [],
   "source": [
    "class MultiClassLogisticRegression:\n",
    "    \n",
    "    def __init__(self, n_iter, lr, i_Acc):\n",
    "        self.n_iter = n_iter     #Vong lap\n",
    "        self.isBreak =  0.0001     #do chenh lenh dung\n",
    "        self.lr =  lr  #Learning rate\n",
    "        self.i_Acc = i_Acc\n",
    "\n",
    "    def fit(self, X, y, X_val, y_val): \n",
    "        self.classes = np.unique(y)   #lay ra all cac du lieu khac nhau cua y giong nhu set\n",
    "        self.class_labels = {c:i for i,c in enumerate(self.classes)}   #dan nhan cho tuong class\n",
    "        X, y = self.ADCT(X, y)  #CT trong giao trinh\n",
    "        X_val, y_val = self.ADCT(X_val, y_val)\n",
    "        self.loss_train = []\n",
    "        self.error_train = []\n",
    "        self.loss_test = [] \n",
    "        self.error_test = []\n",
    "        self.weights = np.zeros(shape=(len(self.classes),X.shape[1]))  #(10x784) \n",
    "        self.gradient_descent(X, y,  X_val, y_val)\n",
    "        return self\n",
    "    \n",
    "    def ADCT(self, x, y):\n",
    "        x = self.add_bias(x)  #CT trong giao trinh\n",
    "        y = self.one_hot(y)   #CT trong giao trinh\n",
    "        return x, y\n",
    " \n",
    "    def gradient_descent(self, X, y, X_val, y_val):\n",
    "          start = perf_counter()\n",
    "          j = 0\n",
    "          for i in range(self.n_iter):\n",
    "            \n",
    "            self.multinomial_logreg_error(X, y, X_val, y_val)\n",
    "            update = self.multinomial_logreg_grad_i(X, y)\n",
    "            self.weights += update\n",
    "            if np.abs(update).max() < self.isBreak: \n",
    "                break\n",
    "            if i % self.i_Acc == 0: \n",
    "                \n",
    "                message = 'Loop {},  Loss_train {},  Acc_train {}, Loss_test {}, Acc_test {}'.format(i+1,self.loss_train[i], self.error_train[i], self.loss_test[i], self.error_test[i])\n",
    "                j += 1\n",
    "                print(message)\n",
    "          end = perf_counter()\n",
    "          time = int(end) - int(start)\n",
    "          print('Chuong trinh chay mat: {} s'.format(time))\n",
    "     \n",
    "    def multinomial_logreg_error(self, X, y, X_val, y_val):\n",
    "          self.loss_train.append(self.multinomial_logreg_loss_i(y, self.predict(X)))\n",
    "          self.error_train.append(self.evaluate(X, y))\n",
    "          self.loss_test.append(self.multinomial_logreg_loss_i(y_val, self.predict(X_val)))\n",
    "          self.error_test.append(self.evaluate(X_val, y_val))\n",
    "    \n",
    "    def predict(self, X):\n",
    "        pre_vals = np.dot(X, self.weights.T).reshape(-1,len(self.classes))\n",
    "        return self.softmax(pre_vals)\n",
    "    \n",
    "    def softmax(self, z):\n",
    "        return np.exp(z) / np.sum(np.exp(z), axis=1).reshape(-1,1)\n",
    "\n",
    "    def CheckModel(self, X, number):\n",
    "        print('Dự đoán cua X_test[{}] la: {}'.format(number, self.predict_class(X)[number]))\n",
    "        \n",
    "        plt.imshow(X_test[number].reshape(28,28), cmap='gray')\n",
    "        plt.show()\n",
    "\n",
    "    def predict_class(self, X):\n",
    "        X_add = self.predict(self.add_bias(X))   #Xac suat\n",
    "        return np.argmax(X_add, axis=1)\n",
    "\n",
    "    def add_bias(self,X):\n",
    "        return np.insert(X, 0, 1, axis=1)\n",
    "  \n",
    "    def one_hot(self, y):\n",
    "        return np.eye(len(self.classes))[(y).reshape(-1)]\n",
    "    \n",
    "    def evaluate(self, X, y):\n",
    "        return np.mean(np.argmax(self.predict(X), axis=1) == np.argmax(y, axis=1))\n",
    "    \n",
    "    #cross_entropy\n",
    "    def multinomial_logreg_loss_i(self, y, probs):\n",
    "        return -(np.mean(y * np.log(probs)))\n",
    "\n",
    "    def score(self, X, y):\n",
    "        return np.mean(self.predict_class(X) == y)\n",
    "\n",
    "    def multinomial_logreg_grad_i(self, X, y):\n",
    "        error = y - self.predict(X)\n",
    "        return (self.lr * np.dot(error.T, X))\n",
    "    "
   ]
  },
  {
   "cell_type": "code",
   "execution_count": 84,
   "metadata": {},
   "outputs": [
    {
     "output_type": "stream",
     "name": "stdout",
     "text": [
      "Loop 1,  Loss_train 0.23025850929940458,  Acc_train 0.098, Loss_test 0.23025850929940433, Acc_test 0.09871666666666666\n",
      "Loop 11,  Loss_train 0.09274982761646215,  Acc_train 0.777, Loss_test 0.09684620923464225, Acc_test 0.7626166666666667\n",
      "Loop 21,  Loss_train 0.056027020742564576,  Acc_train 0.8204, Loss_test 0.06150368228517593, Acc_test 0.8010166666666667\n",
      "Loop 31,  Loss_train 0.0407000981757175,  Acc_train 0.8819, Loss_test 0.046663963116460996, Acc_test 0.8622666666666666\n",
      "Loop 41,  Loss_train 0.03605998136829538,  Acc_train 0.9008, Loss_test 0.04217300165728041, Acc_test 0.8807\n",
      "Loop 51,  Loss_train 0.034307440230928854,  Acc_train 0.9051, Loss_test 0.04064327421577704, Acc_test 0.8858\n",
      "Loop 61,  Loss_train 0.03301145487070379,  Acc_train 0.9095, Loss_test 0.03957250755087033, Acc_test 0.8887833333333334\n",
      "Loop 71,  Loss_train 0.031970935836651164,  Acc_train 0.9117, Loss_test 0.03874499329487194, Acc_test 0.8910166666666667\n",
      "Loop 81,  Loss_train 0.03110615118640057,  Acc_train 0.9141, Loss_test 0.03808123816710003, Acc_test 0.8930333333333333\n",
      "Loop 91,  Loss_train 0.03036953106655335,  Acc_train 0.9163, Loss_test 0.03753553706261142, Acc_test 0.8941666666666667\n",
      "Chuong trinh chay mat: 76 s\n",
      "Dự đoán cua X_test[99] la: 1\n"
     ]
    },
    {
     "output_type": "display_data",
     "data": {
      "text/plain": "<Figure size 432x288 with 1 Axes>",
      "image/svg+xml": "<?xml version=\"1.0\" encoding=\"utf-8\" standalone=\"no\"?>\r\n<!DOCTYPE svg PUBLIC \"-//W3C//DTD SVG 1.1//EN\"\r\n  \"http://www.w3.org/Graphics/SVG/1.1/DTD/svg11.dtd\">\r\n<!-- Created with matplotlib (https://matplotlib.org/) -->\r\n<svg height=\"248.518125pt\" version=\"1.1\" viewBox=\"0 0 251.565 248.518125\" width=\"251.565pt\" xmlns=\"http://www.w3.org/2000/svg\" xmlns:xlink=\"http://www.w3.org/1999/xlink\">\r\n <metadata>\r\n  <rdf:RDF xmlns:cc=\"http://creativecommons.org/ns#\" xmlns:dc=\"http://purl.org/dc/elements/1.1/\" xmlns:rdf=\"http://www.w3.org/1999/02/22-rdf-syntax-ns#\">\r\n   <cc:Work>\r\n    <dc:type rdf:resource=\"http://purl.org/dc/dcmitype/StillImage\"/>\r\n    <dc:date>2021-06-02T04:17:53.813450</dc:date>\r\n    <dc:format>image/svg+xml</dc:format>\r\n    <dc:creator>\r\n     <cc:Agent>\r\n      <dc:title>Matplotlib v3.3.0, https://matplotlib.org/</dc:title>\r\n     </cc:Agent>\r\n    </dc:creator>\r\n   </cc:Work>\r\n  </rdf:RDF>\r\n </metadata>\r\n <defs>\r\n  <style type=\"text/css\">*{stroke-linecap:butt;stroke-linejoin:round;}</style>\r\n </defs>\r\n <g id=\"figure_1\">\r\n  <g id=\"patch_1\">\r\n   <path d=\"M 0 248.518125 \r\nL 251.565 248.518125 \r\nL 251.565 0 \r\nL 0 0 \r\nz\r\n\" style=\"fill:none;\"/>\r\n  </g>\r\n  <g id=\"axes_1\">\r\n   <g id=\"patch_2\">\r\n    <path d=\"M 26.925 224.64 \r\nL 244.365 224.64 \r\nL 244.365 7.2 \r\nL 26.925 7.2 \r\nz\r\n\" style=\"fill:#ffffff;\"/>\r\n   </g>\r\n   <g clip-path=\"url(#pa7ae7a19a9)\">\r\n    <image height=\"218\" id=\"imagefa595da7f9\" transform=\"scale(1 -1)translate(0 -218)\" width=\"218\" x=\"26.925\" xlink:href=\"data:image/png;base64,\r\niVBORw0KGgoAAAANSUhEUgAAANoAAADaCAYAAADAHVzbAAAE4klEQVR4nO3dsUvUfxzH8bMcIk1QGprEJShQcmkLmqQQZyeRxiBx6A8QF6HNRXB1C1ptK2dxCxRCQhDUxUFDxLXfP/D7vo/Oep15j8f64nt9IZ5+4L7cXV+r1frVAv6qO92+AegFQoMAoUGA0CBAaBAgNAgQGgQIDQKEBgFCgwChQYDQIEBoECA0CBAaBAgNAoQGAUKDAKFBgNAgQGgQIDQI6O/2DXTL2NhYuR8cHJT73NxcuX/8+PF3b4lbzIkGAUKDAKFBgNAgQGgQIDQIEBoE9LV69GebRkdHy/3Hjx/l/vPnz3J/9epV4/bt27fyWm4fJxoECA0ChAYBQoMAoUGA0CBAaBDQs8/R2nn9+nW5r6yslPudO81/w16+fFlee3FxUe78e5xoECA0CBAaBAgNAoQGAUKDAKFBgOdoHWr3vY2zs7ON2/HxcXltu+dsh4eH5c7N40SDAKFBgNAgQGgQIDQIEBoECA0Cevb30a5rY2Oj3J89e9a4DQ8Pl9feu3evk1viBnOiQYDQIEBoECA0CBAaBAgNAnxMpkPt3qJfWFho3JaXl8trv379Wu6Li4vlvr+/X+7kOdEgQGgQIDQIEBoECA0ChAYBQoMAz9H+kpGRkcbty5cv5bWTk5Plvrm5We7v3r0r95OTk3Lnz3OiQYDQIEBoECA0CBAaBAgNAoQGAZ6jdcHU1FS5r6+vl/vAwEC5r62tlfvKykq58+c50SBAaBAgNAgQGgQIDQKEBgFCgwDP0bqg3XdCtvvex+o7I1utVuv09LTcX7x40bgdHByU19IZJxoECA0ChAYBQoMAoUGA0CCgv9s30IvOz8/L/enTp9d6/f7++r+1r6/vWq/P73OiQYDQIEBoECA0CBAaBAgNAoQGAZ6j3UDtvg7u8ePH5T44OFju8/PzjdvS0lJ5LZ1xokGA0CBAaBAgNAgQGgQIDQKEBgG+bu4GGhoaKvc3b96U++rqarmfnZ01bs+fPy+vPTw8LHf+nxMNAoQGAUKDAKFBgNAgQGgQIDQI8Hm0G+ji4qLcv3//fq3XHxkZadwWFxfLa9+/f3+tf7tXOdEgQGgQIDQIEBoECA0ChAYBQoMAz9H+Qdvb2+W+u7tb7hMTE43bo0ePOronak40CBAaBAgNAoQGAUKDAKFBgLf3/0GXl5flvrOzU+7V2/vT09PltTMzM+X++fPncu9VTjQIEBoECA0ChAYBQoMAoUGA0CDAc7RbqPpZpnYePHhQ7j5G0xknGgQIDQKEBgFCgwChQYDQIEBoENDXarV+dfsm+LPGx8fLfWtrq3F7+PBhee3V1VW5P3nypNxPTk7K/bZyokGA0CBAaBAgNAgQGgQIDQKEBgE+j3YL7e3tlfvx8XHj1u452v3798v97t275d6rnGgQIDQIEBoECA0ChAYBQoMAoUGA0CBAaBAgNAgQGgQIDQKEBgFCgwAfk+lBHz58aNw+ffpUXvv27dtyPzo66uiebjsnGgQIDQKEBgFCgwChQYDQIEBoEOBnmyDAiQYBQoMAoUGA0CBAaBAgNAgQGgQIDQKEBgFCgwChQYDQIEBoECA0CBAaBAgNAoQGAUKDAKFBgNAgQGgQIDQIEBoECA0ChAYBQoMAoUGA0CBAaBAgNAgQGgQIDQKEBgFCgwChQYDQIEBoECA0CPgPFkeQHSg+1/UAAAAASUVORK5CYII=\" y=\"-6.64\"/>\r\n   </g>\r\n   <g id=\"matplotlib.axis_1\">\r\n    <g id=\"xtick_1\">\r\n     <g id=\"line2d_1\">\r\n      <defs>\r\n       <path d=\"M 0 0 \r\nL 0 3.5 \r\n\" id=\"m8757840d6a\" style=\"stroke:#000000;stroke-width:0.8;\"/>\r\n      </defs>\r\n      <g>\r\n       <use style=\"stroke:#000000;stroke-width:0.8;\" x=\"30.807857\" xlink:href=\"#m8757840d6a\" y=\"224.64\"/>\r\n      </g>\r\n     </g>\r\n     <g id=\"text_1\">\r\n      <!-- 0 -->\r\n      <g transform=\"translate(27.626607 239.238437)scale(0.1 -0.1)\">\r\n       <defs>\r\n        <path d=\"M 31.78125 66.40625 \r\nQ 24.171875 66.40625 20.328125 58.90625 \r\nQ 16.5 51.421875 16.5 36.375 \r\nQ 16.5 21.390625 20.328125 13.890625 \r\nQ 24.171875 6.390625 31.78125 6.390625 \r\nQ 39.453125 6.390625 43.28125 13.890625 \r\nQ 47.125 21.390625 47.125 36.375 \r\nQ 47.125 51.421875 43.28125 58.90625 \r\nQ 39.453125 66.40625 31.78125 66.40625 \r\nz\r\nM 31.78125 74.21875 \r\nQ 44.046875 74.21875 50.515625 64.515625 \r\nQ 56.984375 54.828125 56.984375 36.375 \r\nQ 56.984375 17.96875 50.515625 8.265625 \r\nQ 44.046875 -1.421875 31.78125 -1.421875 \r\nQ 19.53125 -1.421875 13.0625 8.265625 \r\nQ 6.59375 17.96875 6.59375 36.375 \r\nQ 6.59375 54.828125 13.0625 64.515625 \r\nQ 19.53125 74.21875 31.78125 74.21875 \r\nz\r\n\" id=\"DejaVuSans-48\"/>\r\n       </defs>\r\n       <use xlink:href=\"#DejaVuSans-48\"/>\r\n      </g>\r\n     </g>\r\n    </g>\r\n    <g id=\"xtick_2\">\r\n     <g id=\"line2d_2\">\r\n      <g>\r\n       <use style=\"stroke:#000000;stroke-width:0.8;\" x=\"69.636429\" xlink:href=\"#m8757840d6a\" y=\"224.64\"/>\r\n      </g>\r\n     </g>\r\n     <g id=\"text_2\">\r\n      <!-- 5 -->\r\n      <g transform=\"translate(66.455179 239.238437)scale(0.1 -0.1)\">\r\n       <defs>\r\n        <path d=\"M 10.796875 72.90625 \r\nL 49.515625 72.90625 \r\nL 49.515625 64.59375 \r\nL 19.828125 64.59375 \r\nL 19.828125 46.734375 \r\nQ 21.96875 47.46875 24.109375 47.828125 \r\nQ 26.265625 48.1875 28.421875 48.1875 \r\nQ 40.625 48.1875 47.75 41.5 \r\nQ 54.890625 34.8125 54.890625 23.390625 \r\nQ 54.890625 11.625 47.5625 5.09375 \r\nQ 40.234375 -1.421875 26.90625 -1.421875 \r\nQ 22.3125 -1.421875 17.546875 -0.640625 \r\nQ 12.796875 0.140625 7.71875 1.703125 \r\nL 7.71875 11.625 \r\nQ 12.109375 9.234375 16.796875 8.0625 \r\nQ 21.484375 6.890625 26.703125 6.890625 \r\nQ 35.15625 6.890625 40.078125 11.328125 \r\nQ 45.015625 15.765625 45.015625 23.390625 \r\nQ 45.015625 31 40.078125 35.4375 \r\nQ 35.15625 39.890625 26.703125 39.890625 \r\nQ 22.75 39.890625 18.8125 39.015625 \r\nQ 14.890625 38.140625 10.796875 36.28125 \r\nz\r\n\" id=\"DejaVuSans-53\"/>\r\n       </defs>\r\n       <use xlink:href=\"#DejaVuSans-53\"/>\r\n      </g>\r\n     </g>\r\n    </g>\r\n    <g id=\"xtick_3\">\r\n     <g id=\"line2d_3\">\r\n      <g>\r\n       <use style=\"stroke:#000000;stroke-width:0.8;\" x=\"108.465\" xlink:href=\"#m8757840d6a\" y=\"224.64\"/>\r\n      </g>\r\n     </g>\r\n     <g id=\"text_3\">\r\n      <!-- 10 -->\r\n      <g transform=\"translate(102.1025 239.238437)scale(0.1 -0.1)\">\r\n       <defs>\r\n        <path d=\"M 12.40625 8.296875 \r\nL 28.515625 8.296875 \r\nL 28.515625 63.921875 \r\nL 10.984375 60.40625 \r\nL 10.984375 69.390625 \r\nL 28.421875 72.90625 \r\nL 38.28125 72.90625 \r\nL 38.28125 8.296875 \r\nL 54.390625 8.296875 \r\nL 54.390625 0 \r\nL 12.40625 0 \r\nz\r\n\" id=\"DejaVuSans-49\"/>\r\n       </defs>\r\n       <use xlink:href=\"#DejaVuSans-49\"/>\r\n       <use x=\"63.623047\" xlink:href=\"#DejaVuSans-48\"/>\r\n      </g>\r\n     </g>\r\n    </g>\r\n    <g id=\"xtick_4\">\r\n     <g id=\"line2d_4\">\r\n      <g>\r\n       <use style=\"stroke:#000000;stroke-width:0.8;\" x=\"147.293571\" xlink:href=\"#m8757840d6a\" y=\"224.64\"/>\r\n      </g>\r\n     </g>\r\n     <g id=\"text_4\">\r\n      <!-- 15 -->\r\n      <g transform=\"translate(140.931071 239.238437)scale(0.1 -0.1)\">\r\n       <use xlink:href=\"#DejaVuSans-49\"/>\r\n       <use x=\"63.623047\" xlink:href=\"#DejaVuSans-53\"/>\r\n      </g>\r\n     </g>\r\n    </g>\r\n    <g id=\"xtick_5\">\r\n     <g id=\"line2d_5\">\r\n      <g>\r\n       <use style=\"stroke:#000000;stroke-width:0.8;\" x=\"186.122143\" xlink:href=\"#m8757840d6a\" y=\"224.64\"/>\r\n      </g>\r\n     </g>\r\n     <g id=\"text_5\">\r\n      <!-- 20 -->\r\n      <g transform=\"translate(179.759643 239.238437)scale(0.1 -0.1)\">\r\n       <defs>\r\n        <path d=\"M 19.1875 8.296875 \r\nL 53.609375 8.296875 \r\nL 53.609375 0 \r\nL 7.328125 0 \r\nL 7.328125 8.296875 \r\nQ 12.9375 14.109375 22.625 23.890625 \r\nQ 32.328125 33.6875 34.8125 36.53125 \r\nQ 39.546875 41.84375 41.421875 45.53125 \r\nQ 43.3125 49.21875 43.3125 52.78125 \r\nQ 43.3125 58.59375 39.234375 62.25 \r\nQ 35.15625 65.921875 28.609375 65.921875 \r\nQ 23.96875 65.921875 18.8125 64.3125 \r\nQ 13.671875 62.703125 7.8125 59.421875 \r\nL 7.8125 69.390625 \r\nQ 13.765625 71.78125 18.9375 73 \r\nQ 24.125 74.21875 28.421875 74.21875 \r\nQ 39.75 74.21875 46.484375 68.546875 \r\nQ 53.21875 62.890625 53.21875 53.421875 \r\nQ 53.21875 48.921875 51.53125 44.890625 \r\nQ 49.859375 40.875 45.40625 35.40625 \r\nQ 44.1875 33.984375 37.640625 27.21875 \r\nQ 31.109375 20.453125 19.1875 8.296875 \r\nz\r\n\" id=\"DejaVuSans-50\"/>\r\n       </defs>\r\n       <use xlink:href=\"#DejaVuSans-50\"/>\r\n       <use x=\"63.623047\" xlink:href=\"#DejaVuSans-48\"/>\r\n      </g>\r\n     </g>\r\n    </g>\r\n    <g id=\"xtick_6\">\r\n     <g id=\"line2d_6\">\r\n      <g>\r\n       <use style=\"stroke:#000000;stroke-width:0.8;\" x=\"224.950714\" xlink:href=\"#m8757840d6a\" y=\"224.64\"/>\r\n      </g>\r\n     </g>\r\n     <g id=\"text_6\">\r\n      <!-- 25 -->\r\n      <g transform=\"translate(218.588214 239.238437)scale(0.1 -0.1)\">\r\n       <use xlink:href=\"#DejaVuSans-50\"/>\r\n       <use x=\"63.623047\" xlink:href=\"#DejaVuSans-53\"/>\r\n      </g>\r\n     </g>\r\n    </g>\r\n   </g>\r\n   <g id=\"matplotlib.axis_2\">\r\n    <g id=\"ytick_1\">\r\n     <g id=\"line2d_7\">\r\n      <defs>\r\n       <path d=\"M 0 0 \r\nL -3.5 0 \r\n\" id=\"m25a2599e83\" style=\"stroke:#000000;stroke-width:0.8;\"/>\r\n      </defs>\r\n      <g>\r\n       <use style=\"stroke:#000000;stroke-width:0.8;\" x=\"26.925\" xlink:href=\"#m25a2599e83\" y=\"11.082857\"/>\r\n      </g>\r\n     </g>\r\n     <g id=\"text_7\">\r\n      <!-- 0 -->\r\n      <g transform=\"translate(13.5625 14.882076)scale(0.1 -0.1)\">\r\n       <use xlink:href=\"#DejaVuSans-48\"/>\r\n      </g>\r\n     </g>\r\n    </g>\r\n    <g id=\"ytick_2\">\r\n     <g id=\"line2d_8\">\r\n      <g>\r\n       <use style=\"stroke:#000000;stroke-width:0.8;\" x=\"26.925\" xlink:href=\"#m25a2599e83\" y=\"49.911429\"/>\r\n      </g>\r\n     </g>\r\n     <g id=\"text_8\">\r\n      <!-- 5 -->\r\n      <g transform=\"translate(13.5625 53.710647)scale(0.1 -0.1)\">\r\n       <use xlink:href=\"#DejaVuSans-53\"/>\r\n      </g>\r\n     </g>\r\n    </g>\r\n    <g id=\"ytick_3\">\r\n     <g id=\"line2d_9\">\r\n      <g>\r\n       <use style=\"stroke:#000000;stroke-width:0.8;\" x=\"26.925\" xlink:href=\"#m25a2599e83\" y=\"88.74\"/>\r\n      </g>\r\n     </g>\r\n     <g id=\"text_9\">\r\n      <!-- 10 -->\r\n      <g transform=\"translate(7.2 92.539219)scale(0.1 -0.1)\">\r\n       <use xlink:href=\"#DejaVuSans-49\"/>\r\n       <use x=\"63.623047\" xlink:href=\"#DejaVuSans-48\"/>\r\n      </g>\r\n     </g>\r\n    </g>\r\n    <g id=\"ytick_4\">\r\n     <g id=\"line2d_10\">\r\n      <g>\r\n       <use style=\"stroke:#000000;stroke-width:0.8;\" x=\"26.925\" xlink:href=\"#m25a2599e83\" y=\"127.568571\"/>\r\n      </g>\r\n     </g>\r\n     <g id=\"text_10\">\r\n      <!-- 15 -->\r\n      <g transform=\"translate(7.2 131.36779)scale(0.1 -0.1)\">\r\n       <use xlink:href=\"#DejaVuSans-49\"/>\r\n       <use x=\"63.623047\" xlink:href=\"#DejaVuSans-53\"/>\r\n      </g>\r\n     </g>\r\n    </g>\r\n    <g id=\"ytick_5\">\r\n     <g id=\"line2d_11\">\r\n      <g>\r\n       <use style=\"stroke:#000000;stroke-width:0.8;\" x=\"26.925\" xlink:href=\"#m25a2599e83\" y=\"166.397143\"/>\r\n      </g>\r\n     </g>\r\n     <g id=\"text_11\">\r\n      <!-- 20 -->\r\n      <g transform=\"translate(7.2 170.196362)scale(0.1 -0.1)\">\r\n       <use xlink:href=\"#DejaVuSans-50\"/>\r\n       <use x=\"63.623047\" xlink:href=\"#DejaVuSans-48\"/>\r\n      </g>\r\n     </g>\r\n    </g>\r\n    <g id=\"ytick_6\">\r\n     <g id=\"line2d_12\">\r\n      <g>\r\n       <use style=\"stroke:#000000;stroke-width:0.8;\" x=\"26.925\" xlink:href=\"#m25a2599e83\" y=\"205.225714\"/>\r\n      </g>\r\n     </g>\r\n     <g id=\"text_12\">\r\n      <!-- 25 -->\r\n      <g transform=\"translate(7.2 209.024933)scale(0.1 -0.1)\">\r\n       <use xlink:href=\"#DejaVuSans-50\"/>\r\n       <use x=\"63.623047\" xlink:href=\"#DejaVuSans-53\"/>\r\n      </g>\r\n     </g>\r\n    </g>\r\n   </g>\r\n   <g id=\"patch_3\">\r\n    <path d=\"M 26.925 224.64 \r\nL 26.925 7.2 \r\n\" style=\"fill:none;stroke:#000000;stroke-linecap:square;stroke-linejoin:miter;stroke-width:0.8;\"/>\r\n   </g>\r\n   <g id=\"patch_4\">\r\n    <path d=\"M 244.365 224.64 \r\nL 244.365 7.2 \r\n\" style=\"fill:none;stroke:#000000;stroke-linecap:square;stroke-linejoin:miter;stroke-width:0.8;\"/>\r\n   </g>\r\n   <g id=\"patch_5\">\r\n    <path d=\"M 26.925 224.64 \r\nL 244.365 224.64 \r\n\" style=\"fill:none;stroke:#000000;stroke-linecap:square;stroke-linejoin:miter;stroke-width:0.8;\"/>\r\n   </g>\r\n   <g id=\"patch_6\">\r\n    <path d=\"M 26.925 7.2 \r\nL 244.365 7.2 \r\n\" style=\"fill:none;stroke:#000000;stroke-linecap:square;stroke-linejoin:miter;stroke-width:0.8;\"/>\r\n   </g>\r\n  </g>\r\n </g>\r\n <defs>\r\n  <clipPath id=\"pa7ae7a19a9\">\r\n   <rect height=\"217.44\" width=\"217.44\" x=\"26.925\" y=\"7.2\"/>\r\n  </clipPath>\r\n </defs>\r\n</svg>\r\n",
      "image/png": "[encoded data removed]"
     },
     "metadata": {
      "needs_background": "light"
     }
    },
    {
     "output_type": "execute_result",
     "data": {
      "text/plain": [
       "0.8949333333333334"
      ]
     },
     "metadata": {},
     "execution_count": 84
    }
   ],
   "source": [
    "lr = MultiClassLogisticRegression(n_iter = 100, lr=0.0001, i_Acc=10)\n",
    "lr.fit(X_train,y_train, X_test, y_test)\n",
    "\n",
    "lr.CheckModel(X_test, 99)\n",
    "lr.score(X_test, y_test)"
   ]
  },
  {
   "cell_type": "code",
   "execution_count": 8,
   "metadata": {},
   "outputs": [
    {
     "output_type": "error",
     "ename": "NameError",
     "evalue": "name 'model' is not defined",
     "traceback": [
      "\u001b[1;31m---------------------------------------------------------------------------\u001b[0m",
      "\u001b[1;31mNameError\u001b[0m                                 Traceback (most recent call last)",
      "\u001b[1;32m<ipython-input-8-7b7c43e90baa>\u001b[0m in \u001b[0;36m<module>\u001b[1;34m\u001b[0m\n\u001b[1;32m----> 1\u001b[1;33m \u001b[0my_predict\u001b[0m \u001b[1;33m=\u001b[0m \u001b[0mmodel\u001b[0m\u001b[1;33m.\u001b[0m\u001b[0mpredict\u001b[0m\u001b[1;33m(\u001b[0m\u001b[0mX_test\u001b[0m\u001b[1;33m[\u001b[0m\u001b[1;36m0\u001b[0m\u001b[1;33m]\u001b[0m\u001b[1;33m.\u001b[0m\u001b[0mreshape\u001b[0m\u001b[1;33m(\u001b[0m\u001b[1;36m1\u001b[0m\u001b[1;33m,\u001b[0m\u001b[1;36m28\u001b[0m\u001b[1;33m,\u001b[0m\u001b[1;36m28\u001b[0m\u001b[1;33m,\u001b[0m\u001b[1;36m1\u001b[0m\u001b[1;33m)\u001b[0m\u001b[1;33m)\u001b[0m\u001b[1;33m\u001b[0m\u001b[1;33m\u001b[0m\u001b[0m\n\u001b[0m\u001b[0;32m      2\u001b[0m \u001b[0mprint\u001b[0m\u001b[1;33m(\u001b[0m\u001b[1;34m'Giá trị dự đoán: '\u001b[0m\u001b[1;33m,\u001b[0m \u001b[0mnp\u001b[0m\u001b[1;33m.\u001b[0m\u001b[0margmax\u001b[0m\u001b[1;33m(\u001b[0m\u001b[0my_predict\u001b[0m\u001b[1;33m)\u001b[0m\u001b[1;33m)\u001b[0m\u001b[1;33m\u001b[0m\u001b[1;33m\u001b[0m\u001b[0m\n\u001b[0;32m      3\u001b[0m \u001b[1;33m\u001b[0m\u001b[0m\n\u001b[0;32m      4\u001b[0m \u001b[0mfig\u001b[0m \u001b[1;33m=\u001b[0m \u001b[0mplt\u001b[0m\u001b[1;33m.\u001b[0m\u001b[0mfigure\u001b[0m\u001b[1;33m(\u001b[0m\u001b[0mfigsize\u001b[0m\u001b[1;33m=\u001b[0m\u001b[1;33m(\u001b[0m\u001b[1;36m8\u001b[0m\u001b[1;33m,\u001b[0m\u001b[1;36m6\u001b[0m\u001b[1;33m)\u001b[0m\u001b[1;33m)\u001b[0m\u001b[1;33m\u001b[0m\u001b[1;33m\u001b[0m\u001b[0m\n\u001b[0;32m      5\u001b[0m \u001b[0mplt\u001b[0m\u001b[1;33m.\u001b[0m\u001b[0mplot\u001b[0m\u001b[1;33m(\u001b[0m\u001b[0mnp\u001b[0m\u001b[1;33m.\u001b[0m\u001b[0marange\u001b[0m\u001b[1;33m(\u001b[0m\u001b[0mlen\u001b[0m\u001b[1;33m(\u001b[0m\u001b[0mlr\u001b[0m\u001b[1;33m.\u001b[0m\u001b[0mloss\u001b[0m\u001b[1;33m)\u001b[0m\u001b[1;33m)\u001b[0m\u001b[1;33m,\u001b[0m \u001b[0mlr\u001b[0m\u001b[1;33m.\u001b[0m\u001b[0mloss\u001b[0m\u001b[1;33m)\u001b[0m\u001b[1;33m\u001b[0m\u001b[1;33m\u001b[0m\u001b[0m\n",
      "\u001b[1;31mNameError\u001b[0m: name 'model' is not defined"
     ]
    }
   ],
   "source": [
    "y_predict = model.predict(X_test[0].reshape(1,28,28,1))\n",
    "print('Giá trị dự đoán: ', np.argmax(y_predict))\n",
    "\n",
    "fig = plt.figure(figsize=(8,6))\n",
    "plt.plot(np.arange(len(lr.loss)), lr.loss)\n",
    "plt.title(\"Development of loss during training\")\n",
    "plt.xlabel(\"Number of iterations\")\n",
    "plt.ylabel(\"Loss\")\n",
    "plt.show()"
   ]
  },
  {
   "cell_type": "code",
   "execution_count": 129,
   "metadata": {},
   "outputs": [],
   "source": [
    "# class MultiClassLogisticRegression:\n",
    "#     def __init__(self, X, y, iteration, learning_rate, accurate):\n",
    "#         self.X = X\n",
    "#         self.y = y\n",
    "#         self.iter = iteration\n",
    "#         self.lr = learning_rate\n",
    "#         self.accu = accurate\n",
    "#         self.isBreak = 0.0001\n",
    "#         self.w, = init_weight(X_train.shape[1], y_test[0].size) \n",
    "\n",
    "    \n",
    "#     def fit(self, X_test, y_test):\n",
    "#         self.loss_train = []\n",
    "#         self.error_train = []\n",
    "#         self.loss_test = [] \n",
    "#         self.error_test = []\n",
    "#         self,gradient_decenst(X_test, y_test)\n",
    "\n",
    "#     # re-implement this\n",
    "#     def gradient_descent(self, X_test, y_test):\n",
    "#         start = perf_counter()\n",
    "#         j = 0\n",
    "#         self.X\n",
    "#         self.y\n",
    "#         for i in range(self.n_iter):\n",
    "#             self.multinomial_logreg_error(X_test, y_test)\n",
    "#             update = self.multinomial_logreg_grad_i()\n",
    "#             self.weights += update\n",
    "#             if np.abs(update).max() < self.isBreak: \n",
    "#                 break\n",
    "#             if i % self.i_Acc == 0:     \n",
    "#                 message = 'Loop {},  Loss_train {},  Acc_train {}, Loss_test {}, Acc_test {}'.format(i+1,self.loss_train[i], self.error_train[i], self.loss_test[i], self.error_test[i])\n",
    "#                 j += 1\n",
    "#                 print(message)\n",
    "        \n",
    "#         end = perf_counter()\n",
    "#         time = int(end) - int(start)\n",
    "#         print('Chuong trinh chay mat: {} s'.format(time))\n",
    "    \n",
    "#     def multinomial_logreg_grad_i(self,):\n",
    "#         error = self.y - self.predict(self.X)\n",
    "#         return (self.lr * np.dot(error.T, X))\n",
    "    \n",
    "#     def softmax(self, z):\n",
    "#         return np.exp(z) / np.sum(np.exp(z), axis=1).reshape(-1,1)\n",
    "\n",
    "#     def CheckModel(self, X_test, position):\n",
    "#         print('Dự đoán cua X_test[{}] la: {}'.format(position, self.predict_class(X_test)[position]))\n",
    "#         plt.imshow(X_test[position].reshape(28,28), cmap='gray')\n",
    "#         plt.show()\n",
    "\n",
    "#     def predict_class(self, X_test ):\n",
    "#         X_add = self.predict(self.add_bias(X))   #Xac suat\n",
    "#         return np.argmax(X_add, axis=1)\n",
    "\n",
    "#     def multinomial_logreg_loss_i(self, y, probs):\n",
    "#         return -(np.mean(y * np.log(probs)))\n",
    "\n",
    "#     def score(self, X_test, y_test):\n",
    "#         return np.mean(self.predict_class(X_test) == y_test)"
   ]
  },
  {
   "source": [
    "# Run configuration:"
   ],
   "cell_type": "markdown",
   "metadata": {}
  },
  {
   "cell_type": "code",
   "execution_count": null,
   "metadata": {},
   "outputs": [],
   "source": []
  }
 ]
}